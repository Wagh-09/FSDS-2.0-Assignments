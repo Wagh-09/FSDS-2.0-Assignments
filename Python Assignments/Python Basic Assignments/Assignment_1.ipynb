{
 "cells": [
  {
   "cell_type": "markdown",
   "id": "eb1a4665",
   "metadata": {},
   "source": [
    "### Assignment 1 \n",
    "#### 1. In the below elements which of them are values or an expression? eg:- values can be integer or string and expressions will be mathematical operators.\n",
    "*\n",
    "\n",
    "'hello'\n",
    "\n",
    "-87.8\n",
    "\n",
    "-\n",
    "\n",
    "/\n",
    "\n",
    "+\n",
    "\n",
    "6\n",
    "\n",
    "Ans:- expression - *, - , / , + \n",
    "\n",
    "values 'hello', 6 ,-87.8"
   ]
  },
  {
   "cell_type": "markdown",
   "id": "5bccb312",
   "metadata": {},
   "source": [
    "#### 2.What is the difference between string and variable?\n",
    "Ans:- In programming, a string is a sequence of characters that is used to represent text. It is typically enclosed in quotation marks and can contain letters, numbers, and symbols.\n",
    "\n",
    "A variable is a named storage location in a program's memory that is used to hold a value.\n",
    "Variables can be used to store values of different data types, such as numbers, strings, and objects.\n",
    "\n",
    "One key difference between a string and a variable is that a string is a fixed value, while the value stored in a variable can be changed. \n",
    "For example, you could define a string with the value \"Hello World\" and it would always be \"Hello World\", \n",
    "but you could define a variable and assign it the value \"Hello World\" at one point in your program, and then later assign it a different value, such as a number or a different string.\n",
    "\n",
    "Another difference is that strings are immutable, which means that they cannot be modified once they have been created.\n",
    "In contrast, the value stored in a variable can be changed as many times as necessary throughout the execution of a program.\n",
    "\n",
    "Rules for declaring a variable in python \n",
    "Variable names can only contain letters, digits, and underscores. They cannot start with a digit.\n",
    "Variable names are case-sensitive. For example, x and X are different variables.\n",
    "You cannot use any of the Python keywords as variable names. \n",
    "It is a good practice to give variables descriptive names. This makes your co"
   ]
  },
  {
   "cell_type": "markdown",
   "id": "c3fe8fdf",
   "metadata": {},
   "source": [
    "#### 3. Describe three different data types.\n",
    "Ans:-"
   ]
  },
  {
   "cell_type": "markdown",
   "id": "88324280",
   "metadata": {},
   "source": [
    "1. Numbers : When a number is assigned to a variable number class object is created.\n",
    "\n",
    " int : eg- a = 10\n",
    " \n",
    "float: eg  a = 10.22\n",
    "\n",
    "complex eg a =  3 +4j\n",
    "\n",
    " 2. String: The string can be defined as the sequemce of characters represented in a single or double quotes.\n",
    " \n",
    "e.g  \"Hello all\"\n",
    "\n",
    "3. Tuples:  Tuples also store the collection of the elements of different data types. A tuple is the same as the list, but a tuple is immutable (non-editable or cannot modify the size and elements value). To create a tuple uses the () simple parenthesis; within this brackets, store all the elements separated with the comma (,).\n",
    "\n",
    "4. List: List stores a collection of different types of elements. The list is mutable (editable). It is the same as arrays in C, but the list stores elements of different data types. To create a list uses the [] square brackets; within these brackets, stores all the elements separated with the comma (,). "
   ]
  },
  {
   "cell_type": "markdown",
   "id": "be1e51e6",
   "metadata": {},
   "source": [
    "#### 4. What is an expression made up of? What do all expressions do?"
   ]
  },
  {
   "cell_type": "markdown",
   "id": "b87a2128",
   "metadata": {},
   "source": [
    "Ans:- An expression is made up of  combination of operators, constants and variables. An expression may consist of one or more operands, and zero or more operators to produce a value.\n",
    "\n",
    "These types of expressions are used to show the relation between two entities. These entities may be an integer, floating-point number, or something else."
   ]
  },
  {
   "cell_type": "markdown",
   "id": "62f435ce",
   "metadata": {},
   "source": [
    "#### 5. This assignment statements, like spam = 10. What is the difference between an expression and a statement?\n",
    "Ans:- An expression is a combination of values, variables, and operators that represents a single value. \n",
    "An expression can be as simple as a single number or as complex as a series of calculations and function calls.\n",
    "\n",
    "A statement is a piece of code that performs a specific action. \n",
    "In Python, there are several types of statements, including assignment statements, control statements, and function definitions.\n",
    "\n",
    "An assignment statement is a type of statement that assigns a value to a variable. For example:\n",
    "spam = 10 \n",
    "\n",
    "In this example, spam = 10 is an assignment statement that assigns the value 10 to the variable spam.\n",
    "\n",
    "The main difference between an expression and a statement is that an expression produces a value, \n",
    "while a statement performs an action. An expression can be used as part o"
   ]
  },
  {
   "cell_type": "markdown",
   "id": "b69b6e00",
   "metadata": {},
   "source": [
    "#### 6.After running the following code, what does the variable bacon contain?\n",
    "Ans:-"
   ]
  },
  {
   "cell_type": "code",
   "execution_count": 1,
   "id": "fe425329",
   "metadata": {},
   "outputs": [
    {
     "data": {
      "text/plain": [
       "22"
      ]
     },
     "execution_count": 1,
     "metadata": {},
     "output_type": "execute_result"
    }
   ],
   "source": [
    "bacon = 22\n",
    "bacon"
   ]
  },
  {
   "cell_type": "code",
   "execution_count": 2,
   "id": "0d50f64b",
   "metadata": {},
   "outputs": [
    {
     "data": {
      "text/plain": [
       "23"
      ]
     },
     "execution_count": 2,
     "metadata": {},
     "output_type": "execute_result"
    }
   ],
   "source": [
    "bacon + 1"
   ]
  },
  {
   "cell_type": "markdown",
   "id": "402c1090",
   "metadata": {},
   "source": [
    "#### 7. What should the values of the following two terms be?\n",
    "Ans:-"
   ]
  },
  {
   "cell_type": "code",
   "execution_count": 3,
   "id": "f4ec9c51",
   "metadata": {},
   "outputs": [
    {
     "data": {
      "text/plain": [
       "'spamspamspam'"
      ]
     },
     "execution_count": 3,
     "metadata": {},
     "output_type": "execute_result"
    }
   ],
   "source": [
    "'spam' + 'spamspam'"
   ]
  },
  {
   "cell_type": "code",
   "execution_count": 4,
   "id": "f531e71b",
   "metadata": {},
   "outputs": [
    {
     "data": {
      "text/plain": [
       "'spamspamspam'"
      ]
     },
     "execution_count": 4,
     "metadata": {},
     "output_type": "execute_result"
    }
   ],
   "source": [
    "'spam'* 3"
   ]
  },
  {
   "cell_type": "markdown",
   "id": "54f36228",
   "metadata": {},
   "source": [
    "Addition operator of string\n",
    "Multiplication operator of string and integer."
   ]
  },
  {
   "cell_type": "markdown",
   "id": "e2a1d57c",
   "metadata": {},
   "source": [
    "#### 8.Why is eggs a valid variable name while 100 is invalid?\n",
    "Ans:- In Python, variable names can only contain letters, digits, and underscores. They cannot start with a digit.\n",
    "\n",
    "This means that eggs is a valid variable name because it consists only of letters.\n",
    "\n",
    "On the other hand, 100 is not a valid variable name because it starts with a digit.\n",
    "\n",
    "The reason for this rule is that Python uses certain digits and symbols to represent special meanings (such as the equal sign (=) for assignment). \n",
    "If variable names were allowed to start with digits, it could cause confusion when reading and writing code.\n",
    "\n",
    "For example, the following are all valid variable names in Python:\n",
    "eggs\n",
    "my_var\n",
    "x1\n",
    "_private\n",
    "\n",
    "The following are not valid variable names in Python:\n",
    "100\n",
    "1x\n",
    "$cash"
   ]
  },
  {
   "cell_type": "markdown",
   "id": "1f8506ef",
   "metadata": {},
   "source": [
    "#### 9.What three functions can be used to get the integer, floating-point number, or string version of a value?\n",
    "Ans:- In Python, you can use the following three functions to convert a value to a specific data type:\n",
    "\n",
    "1 int(): This function converts a value to an integer data type. If the value is a floating-point number, it will be truncated (not rounded) to an integer. \n",
    "If the value is a string, it must contain a valid integer representation.\n",
    "For example,\n",
    "int(3.14)  # 3\n",
    "int('10')  # 10\n",
    "int('3.14')  # ValueError: invalid literal for int() with base 10: '3.14'\n",
    "\n",
    "2 float(): This function converts a value to a floating-point number data type. If the value is an integer, it will be converted to a floating-point number. \n",
    "If the value is a string, it must contain a valid floating-point number representation.\n",
    "For example: \n",
    "float(3)  # 3.0\n",
    "float('3.14')  # 3.14\n",
    "float('hello')  # ValueError: could not convert string to float: 'hello'\n",
    "\n",
    "3 str(): This function converts a value to a string data type. If the value is a number, it will be converted to a string representation of that number.\n",
    "For example:\n",
    "str(3)  # '3'\n",
    "str(3.14)  # '3.14'\n",
    "str(True)  # 'True'\n",
    "\n",
    "By using these functions, you can easily convert a value to the desired data type in Python. \n",
    "It's important to note that these functions can only be used to convert values to integers, floating-point numbers, or strings. \n",
    "They cannot be used to convert a value to a different data type, such as "
   ]
  },
  {
   "cell_type": "markdown",
   "id": "e54a596f",
   "metadata": {},
   "source": [
    "#### 10.Why does this expression cause an error? How can you fix it?\n",
    "Ans:-"
   ]
  },
  {
   "cell_type": "code",
   "execution_count": 5,
   "id": "7687fd0f",
   "metadata": {},
   "outputs": [
    {
     "ename": "TypeError",
     "evalue": "can only concatenate str (not \"int\") to str",
     "output_type": "error",
     "traceback": [
      "\u001b[1;31m---------------------------------------------------------------------------\u001b[0m",
      "\u001b[1;31mTypeError\u001b[0m                                 Traceback (most recent call last)",
      "\u001b[1;32m~\\AppData\\Local\\Temp/ipykernel_2796/2733022945.py\u001b[0m in \u001b[0;36m<module>\u001b[1;34m\u001b[0m\n\u001b[1;32m----> 1\u001b[1;33m \u001b[1;34m'I have eaten'\u001b[0m \u001b[1;33m+\u001b[0m \u001b[1;36m99\u001b[0m \u001b[1;33m+\u001b[0m \u001b[1;34m'burritos'\u001b[0m\u001b[1;33m\u001b[0m\u001b[1;33m\u001b[0m\u001b[0m\n\u001b[0m",
      "\u001b[1;31mTypeError\u001b[0m: can only concatenate str (not \"int\") to str"
     ]
    }
   ],
   "source": [
    "'I have eaten' + 99 + 'burritos'"
   ]
  },
  {
   "cell_type": "code",
   "execution_count": null,
   "id": "f98cc0ab",
   "metadata": {},
   "outputs": [],
   "source": [
    "'I have eaten' + ' 99 ' + 'burritos'"
   ]
  },
  {
   "cell_type": "code",
   "execution_count": null,
   "id": "993d8631",
   "metadata": {},
   "outputs": [],
   "source": []
  }
 ],
 "metadata": {
  "kernelspec": {
   "display_name": "Python 3 (ipykernel)",
   "language": "python",
   "name": "python3"
  },
  "language_info": {
   "codemirror_mode": {
    "name": "ipython",
    "version": 3
   },
   "file_extension": ".py",
   "mimetype": "text/x-python",
   "name": "python",
   "nbconvert_exporter": "python",
   "pygments_lexer": "ipython3",
   "version": "3.9.7"
  }
 },
 "nbformat": 4,
 "nbformat_minor": 5
}
