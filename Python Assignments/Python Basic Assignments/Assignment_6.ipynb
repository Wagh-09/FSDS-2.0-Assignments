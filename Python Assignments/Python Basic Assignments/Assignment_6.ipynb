{
 "cells": [
  {
   "cell_type": "markdown",
   "id": "a8782956",
   "metadata": {},
   "source": [
    "### Assignment 6\n",
    "#### 1. What are escape characters, and how do you use them?\n",
    "\n",
    "Ans:- Escape characters are special characters in Python that are used to represent certain whitespace characters or non-printable characters. They are used in strings to represent characters that are not normally printable, or to represent characters that are normally interpreted as special characters.\n",
    "\n",
    "#### 2. What do the escape characters \\n and \\t stand for?\n",
    "\n",
    "Ans:- \\n: This represents a newline character. When a string contains this character, it is printed on a new line.\n",
    "\n",
    "\\t: This represents a tab character. When a string contains this character, it is printed with an indentation.\n",
    "\n",
    "\\: This represents a backslash character. When a string contains this character, it is printed as a backslash.\n",
    "\n",
    "': This represents a single quote character. When a string contains this character, it is printed as a single quote.\n",
    "\n",
    "\": This represents a double quote character. When a string contains this character, it is printed as a double quote."
   ]
  },
  {
   "cell_type": "markdown",
   "id": "ac1265e1",
   "metadata": {},
   "source": [
    "#### 3. What is the way to include backslash characters in a string?\n",
    "\n",
    "Ans:- To include a backslash characters in a string, you have write double blackslash i.e. \\."
   ]
  },
  {
   "cell_type": "code",
   "execution_count": 1,
   "id": "de7cb035",
   "metadata": {},
   "outputs": [
    {
     "name": "stdout",
     "output_type": "stream",
     "text": [
      "This is a newline character: \n",
      "\n",
      "This is a tab character: \t .\n",
      "This is a backslash character: \\.\n",
      "This is a single quote character: '.\n",
      "This is a double quote character: \".\n"
     ]
    }
   ],
   "source": [
    "print(\"This is a newline character: \\n\")\n",
    "\n",
    "print(\"This is a tab character: \\t .\")\n",
    "   \n",
    "print(\"This is a backslash character: \\\\.\")\n",
    "\n",
    "print(\"This is a single quote character: \\'.\")\n",
    "\n",
    "print(\"This is a double quote character: \\\".\")"
   ]
  },
  {
   "cell_type": "markdown",
   "id": "5e947d54",
   "metadata": {},
   "source": [
    "#### 4. The string \"Howl's Moving Castle\" is a correct value. Why isn't the single quote character in the word Howl's not escaped a problem?\n",
    "\n",
    "Ans:- We can repressent a string within the single quote character or within the double quote character. Since we have enclosed the \"Howl's Moving Castle\" in double quote. hence the signle quote character is not a problem.\n",
    "\n",
    "#### 5. How do you write a string of newlines if you don't want to use the n character?\n",
    "\n",
    "Ans:- We can write end=\"\" in the print statement"
   ]
  },
  {
   "cell_type": "markdown",
   "id": "f500fbef",
   "metadata": {},
   "source": [
    "#### 6. What are the values of the given expressions?\n",
    "Ans:-"
   ]
  },
  {
   "cell_type": "code",
   "execution_count": 2,
   "id": "54feb889",
   "metadata": {},
   "outputs": [
    {
     "name": "stdout",
     "output_type": "stream",
     "text": [
      "e\n",
      "Hello\n",
      "Hello\n",
      "lo, world!\n"
     ]
    }
   ],
   "source": [
    "print('Hello, world!'[1])\n",
    "print('Hello, world!'[0:5])\n",
    "print('Hello, world!'[:5])\n",
    "print('Hello, world!'[3:])"
   ]
  },
  {
   "cell_type": "markdown",
   "id": "8baf5efb",
   "metadata": {},
   "source": [
    "#### 7. What are the values of the following expressions?\n",
    "Ans:-"
   ]
  },
  {
   "cell_type": "code",
   "execution_count": 3,
   "id": "108ed59a",
   "metadata": {},
   "outputs": [
    {
     "name": "stdout",
     "output_type": "stream",
     "text": [
      "HELLO\n",
      "True\n",
      "hello\n"
     ]
    }
   ],
   "source": [
    "print('Hello'.upper())\n",
    "print('Hello'.upper().isupper())\n",
    "print('Hello'.upper().lower())"
   ]
  },
  {
   "cell_type": "markdown",
   "id": "fa352961",
   "metadata": {},
   "source": [
    "#### 8. What are the values of the following expressions? 'Remember, remember, the fifth of July.'.split() '-'.join('There can only one.'.split())\n",
    "Ans:-"
   ]
  },
  {
   "cell_type": "code",
   "execution_count": 4,
   "id": "da8bb03c",
   "metadata": {},
   "outputs": [
    {
     "name": "stdout",
     "output_type": "stream",
     "text": [
      "['Remember,', 'remember,', 'the', 'fifth', 'of', 'July.']\n",
      "There_can_only_one\n"
     ]
    }
   ],
   "source": [
    "print('Remember, remember, the fifth of July.'.split()) # ['Remember,', 'remember,', 'the', 'fifth', 'of', 'July.']\n",
    "print('_'.join('There can only one'.split()))  #There_can_only_one"
   ]
  },
  {
   "cell_type": "markdown",
   "id": "0f4629eb",
   "metadata": {},
   "source": [
    "#### 9. What are the methods for right-justifying, left-justifying, and centering a string?\n",
    "\n",
    "Ans:- The methods for right-justifying, left-justifying, and centering a string are rjust(), ljust() and center() respectively."
   ]
  },
  {
   "cell_type": "code",
   "execution_count": 5,
   "id": "98706892",
   "metadata": {},
   "outputs": [
    {
     "name": "stdout",
     "output_type": "stream",
     "text": [
      "-----hello\n",
      "hello-----\n",
      "--hello---\n"
     ]
    }
   ],
   "source": [
    "# Right-justify a string using the '-' character for padding\n",
    "s = \"hello\"\n",
    "s = s.rjust(10, '-')\n",
    "print(s)\n",
    "\n",
    "\n",
    "# Left-justify a string using the '-' character for padding\n",
    "s = \"hello\"\n",
    "s = s.ljust(10, '-')\n",
    "print(s)\n",
    "\n",
    "\n",
    "# Center a string using the '-' character for padding\n",
    "s = \"hello\"\n",
    "s = s.center(10, '-')\n",
    "print(s)"
   ]
  },
  {
   "cell_type": "markdown",
   "id": "a082d81e",
   "metadata": {},
   "source": [
    "#### 10. What is the best way to remove whitespace characters from the start or end?\n",
    "\n",
    "Ans:- The lstrip() and rstrip() methods remove whitesapce characters from the left and right ends of a string respectively"
   ]
  },
  {
   "cell_type": "code",
   "execution_count": null,
   "id": "615ed734",
   "metadata": {},
   "outputs": [],
   "source": []
  }
 ],
 "metadata": {
  "kernelspec": {
   "display_name": "Python 3 (ipykernel)",
   "language": "python",
   "name": "python3"
  },
  "language_info": {
   "codemirror_mode": {
    "name": "ipython",
    "version": 3
   },
   "file_extension": ".py",
   "mimetype": "text/x-python",
   "name": "python",
   "nbconvert_exporter": "python",
   "pygments_lexer": "ipython3",
   "version": "3.9.7"
  }
 },
 "nbformat": 4,
 "nbformat_minor": 5
}
