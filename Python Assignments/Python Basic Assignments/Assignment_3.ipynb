{
 "cells": [
  {
   "cell_type": "markdown",
   "id": "a72160db",
   "metadata": {},
   "source": [
    "## Assignment 3\n",
    "#### 1. Why are functions advantageous to have in your programs?\n",
    "\n",
    "Ans:- Funtions are advantageous because once we define a function we can call it multiple times wherever needed.\n",
    "\n",
    "#### 2. When does the code in a function run: when it's specified or when it's called?\n",
    "\n",
    "Ans:- The code in a function executes when the function is called, not when the function is specified.\n",
    "\n",
    "#### 3. What statement creates a function?\n",
    "\n",
    "Ans:- The def statement defines a function.\n",
    "\n",
    "#### 4. What is the difference between a function and a function call?\n",
    "\n",
    "Ans:- A function is procedure to achieve a particular result. while function call is using this function to achive that task. Using a function to do a particular task any point in program is called as function call.\n",
    "\n",
    "#### 5. How many global scopes are there in a Python program? How many local scopes?\n",
    "\n",
    "Ans:- There is one global scope, and a local scope is created whenever a function is called.\n",
    "\n",
    "#### 6. What happens to variables in a local scope when the function call returns?\n",
    "\n",
    "Ans:- When a function call returns, the local scope that was created for the function is destroyed, and any variables that were defined within that scope are no longer accessible. This is because the local scope is only in existence while the function is being executed, and it is destroyed when the function returns.\n",
    "\n",
    "#### 7. What is the concept of a return value? Is it possible to have a return value in an expression?\n",
    "\n",
    "Ans:- In a Python program, a return value is the value that is returned by a function when it is called. When a function is called, it can execute a series of statements and then return a value to the caller. This value is known as the return value of the function.\n",
    "It is possible to have a return value in an expression. In Python, an expression is any statement that returns a value. \n",
    "\n",
    "#### 8. If a function does not have a return statement, what is the return value of a call to that function?\n",
    "\n",
    "Ans:- If a function does not have a return statement, the return value of a call to that function is None.\n",
    "In Python, None is a special value that represents the absence of a value or a null value. It is an object of its own type, called NoneType.\n",
    "\n",
    "#### 9. How do you make a function variable refer to the global variable?\n",
    "\n",
    "Ans:- To make a function variable refer to a global variable, you can use the global keyword. This keyword tells Python that you want to use the global variable with the same name as the function variable, rather than creating a new local variable.\n",
    "\n",
    "#### 10. What is the data type of None?\n",
    "\n",
    "Ans:- In Python, None is a special value that represents the absence of a value or a null value. It is an object of its own type, called NoneType.\n",
    "\n",
    "#### 11. What does the sentence import areallyourpetsnamederic do?\n",
    "\n",
    "Ans:- The import statement imports a module named areallyourpetsnamederic\n",
    "\n",
    "#### 12. If you had a bacon() feature in a spam module, what would you call it after importing spam?\n",
    "\n",
    "Ans:- We can call the bacon() feature as spam.bacon() .\n",
    "from spam import bacon\n",
    "\n",
    "#### 13. What can you do to save a programme from crashing if it encounters an error?\n",
    "\n",
    "Ans:- Using try and except statements: You can use try and except statements to catch and handle errors that occur during the execution of a program. This allows you to gracefully recover from an error and continue executing the program, rather than crashing.\n",
    "\n",
    "#### 14. What is the purpose of the try clause? What is the purpose of the except clause?\n",
    "\n",
    "Ans:- The code that could potentially cause an error goes in the try clause. The code that executes if an error happens goes in the except clause."
   ]
  },
  {
   "cell_type": "code",
   "execution_count": null,
   "id": "02d7f246",
   "metadata": {},
   "outputs": [],
   "source": []
  }
 ],
 "metadata": {
  "kernelspec": {
   "display_name": "Python 3 (ipykernel)",
   "language": "python",
   "name": "python3"
  },
  "language_info": {
   "codemirror_mode": {
    "name": "ipython",
    "version": 3
   },
   "file_extension": ".py",
   "mimetype": "text/x-python",
   "name": "python",
   "nbconvert_exporter": "python",
   "pygments_lexer": "ipython3",
   "version": "3.9.7"
  }
 },
 "nbformat": 4,
 "nbformat_minor": 5
}
