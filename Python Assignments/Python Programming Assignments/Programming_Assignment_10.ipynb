{
 "cells": [
  {
   "cell_type": "markdown",
   "id": "0753e292",
   "metadata": {},
   "source": [
    "### Programming Assignment 10 "
   ]
  },
  {
   "cell_type": "markdown",
   "id": "d6f96d38",
   "metadata": {},
   "source": [
    "#### 1.Write a Python Program to find sum of elements in a list ?"
   ]
  },
  {
   "cell_type": "code",
   "execution_count": 1,
   "id": "1fbea5b2",
   "metadata": {},
   "outputs": [
    {
     "name": "stdout",
     "output_type": "stream",
     "text": [
      "Enter the No of Entries in a List: 6\n",
      "Enter a element: 1\n",
      "Enter a element: 2\n",
      "Enter a element: 3\n",
      "Enter a element: 4\n",
      "Enter a element: 5\n",
      "Enter a element: 6\n",
      "Sum of Elements: 21\n"
     ]
    }
   ],
   "source": [
    "def sumofList():\n",
    "    in_ele = int(input('Enter the No of Entries in a List: '))\n",
    "    in_list = []\n",
    "    for itr in range(in_ele):\n",
    "        in_list.append(int(input('Enter a element: ')))\n",
    "    print(f'Sum of Elements: {sum(in_list)}')\n",
    "\n",
    "sumofList()"
   ]
  },
  {
   "cell_type": "code",
   "execution_count": 2,
   "id": "2bd51a78",
   "metadata": {},
   "outputs": [
    {
     "data": {
      "text/plain": [
       "21"
      ]
     },
     "execution_count": 2,
     "metadata": {},
     "output_type": "execute_result"
    }
   ],
   "source": [
    "#OR\n",
    "def find_sum(l):\n",
    "    sum = 0 \n",
    "    for i in l:\n",
    "        sum += i \n",
    "    return sum \n",
    "find_sum([1,2,3,4,5,6])"
   ]
  },
  {
   "cell_type": "markdown",
   "id": "35ff9c7c",
   "metadata": {},
   "source": [
    "#### 2.Write a Python Program to multiply all numbers in the list ?"
   ]
  },
  {
   "cell_type": "code",
   "execution_count": 3,
   "id": "d77e77e6",
   "metadata": {},
   "outputs": [
    {
     "name": "stdout",
     "output_type": "stream",
     "text": [
      "Enter the No of Entries in a List: 6\n",
      "Enter a element: 4\n",
      "Enter a element: 25\n",
      "Enter a element: 1312\n",
      "Enter a element: 23\n",
      "Enter a element: 5\n",
      "Enter a element: 5\n",
      "75440000\n"
     ]
    }
   ],
   "source": [
    "def mulofList():\n",
    "    in_ele = int(input('Enter the No of Entries in a List: '))\n",
    "    in_list = []\n",
    "    mul = 1\n",
    "    for itr in range(in_ele):\n",
    "        in_list.append(int(input('Enter a element: ')))\n",
    "    for ele in in_list:\n",
    "        mul = mul * ele\n",
    "    print(mul)\n",
    "\n",
    "mulofList()"
   ]
  },
  {
   "cell_type": "code",
   "execution_count": 4,
   "id": "d5dc2c05",
   "metadata": {},
   "outputs": [
    {
     "data": {
      "text/plain": [
       "75440000"
      ]
     },
     "execution_count": 4,
     "metadata": {},
     "output_type": "execute_result"
    }
   ],
   "source": [
    "#OR\n",
    "def find_product(l):\n",
    "    p = 1\n",
    "    for i in l:\n",
    "        p = p*i\n",
    "    return p\n",
    "find_product([4,25,1312,23,5,5])"
   ]
  },
  {
   "cell_type": "markdown",
   "id": "0561967b",
   "metadata": {},
   "source": [
    "#### 3.Write a Python Program to find smallest number in the list ?"
   ]
  },
  {
   "cell_type": "code",
   "execution_count": 5,
   "id": "3e9863eb",
   "metadata": {},
   "outputs": [
    {
     "name": "stdout",
     "output_type": "stream",
     "text": [
      "Enter the No of elements in a list: 5\n",
      "Enter a Element: 2\n",
      "Enter a Element: 5\n",
      "Enter a Element: 7\n",
      "Enter a Element: 1\n",
      "Enter a Element: 3\n",
      "The Smallest Element in [2, 5, 7, 1, 3] is 1\n"
     ]
    }
   ],
   "source": [
    "def smallEleInList():\n",
    "    in_ele = int(input('Enter the No of elements in a list: '))\n",
    "    in_list = []\n",
    "    for ele in range(in_ele):\n",
    "        in_list.append(int(input('Enter a Element: ')))\n",
    "    print(f'The Smallest Element in {in_list} is {sorted(in_list)[0]}')\n",
    "smallEleInList()"
   ]
  },
  {
   "cell_type": "code",
   "execution_count": 6,
   "id": "af9adeff",
   "metadata": {},
   "outputs": [
    {
     "name": "stdout",
     "output_type": "stream",
     "text": [
      "The smallest number in the list is 1\n"
     ]
    }
   ],
   "source": [
    "#OR\n",
    "def find_smallest_number(numbers):\n",
    "  # Set the initial value of the smallest number to the first element in the list\n",
    "  smallest = numbers[0]\n",
    "  \n",
    "  # Iterate over the rest of the elements in the list\n",
    "  for number in numbers[1:]:\n",
    "    # If the current number is smaller than the smallest number we've seen so far, update the value of smallest\n",
    "    if number < smallest:\n",
    "      smallest = number\n",
    "      \n",
    "  # Return the smallest number\n",
    "  return smallest\n",
    "\n",
    "# Test the function\n",
    "numbers = [5, 2, 7, 1, 3]\n",
    "smallest = find_smallest_number(numbers)\n",
    "print(f'The smallest number in the list is {smallest}')"
   ]
  },
  {
   "cell_type": "markdown",
   "id": "0684d2e6",
   "metadata": {},
   "source": [
    "#### 4.Write a Python Program to find largest number in the list ?"
   ]
  },
  {
   "cell_type": "code",
   "execution_count": 7,
   "id": "c1984a1c",
   "metadata": {},
   "outputs": [
    {
     "name": "stdout",
     "output_type": "stream",
     "text": [
      "Enter the No of elements in a list: 5\n",
      "Enter a Element: 52\n",
      "Enter a Element: 65\n",
      "Enter a Element: 32\n",
      "Enter a Element: 91\n",
      "Enter a Element: 61\n",
      "The Largest Element in [52, 65, 32, 91, 61] is 91\n"
     ]
    }
   ],
   "source": [
    "def largestEleInList():\n",
    "    in_ele = int(input('Enter the No of elements in a list: '))\n",
    "    in_list = []\n",
    "    for ele in range(in_ele):\n",
    "        in_list.append(int(input('Enter a Element: ')))\n",
    "    print(f'The Largest Element in {in_list} is {sorted(in_list, reverse=True)[0]}')\n",
    "\n",
    "largestEleInList()"
   ]
  },
  {
   "cell_type": "code",
   "execution_count": 8,
   "id": "4a205131",
   "metadata": {},
   "outputs": [
    {
     "name": "stdout",
     "output_type": "stream",
     "text": [
      "The largest number in the list is 91\n"
     ]
    }
   ],
   "source": [
    "def find_largest_number(numbers):\n",
    "  # Set the initial value of the largest number to the first element in the list\n",
    "  largest = numbers[0]\n",
    "  \n",
    "  # Iterate over the rest of the elements in the list\n",
    "  for number in numbers[1:]:\n",
    "    # If the current number is smaller than the largest number we've seen so far, update the value of largest\n",
    "    if number > largest:\n",
    "      largest = number\n",
    "      \n",
    "  # Return the largest number\n",
    "  return largest\n",
    "\n",
    "# Test the function\n",
    "numbers = [52, 65, 32, 91, 61]\n",
    "largest = find_largest_number(numbers)\n",
    "print(f'The largest number in the list is {largest}')"
   ]
  },
  {
   "cell_type": "markdown",
   "id": "ef882ac4",
   "metadata": {},
   "source": [
    "#### 5.Write a Python Program to find second largest number in the list ?"
   ]
  },
  {
   "cell_type": "code",
   "execution_count": 9,
   "id": "ca2c5e29",
   "metadata": {},
   "outputs": [
    {
     "name": "stdout",
     "output_type": "stream",
     "text": [
      "Enter the No of elements in a list: 5\n",
      "Enter a Element: 7\n",
      "Enter a Element: 3\n",
      "Enter a Element: 5\n",
      "Enter a Element: 2\n",
      "Enter a Element: 1\n",
      "The Second Largest Element in [7, 3, 5, 2, 1] is 5\n"
     ]
    }
   ],
   "source": [
    "def secondLargestEleInList():\n",
    "    in_ele = int(input('Enter the No of elements in a list: '))\n",
    "    in_list = []\n",
    "    for ele in range(in_ele):\n",
    "        in_list.append(int(input('Enter a Element: ')))\n",
    "    print(f'The Second Largest Element in {in_list} is {sorted(in_list, reverse=True)[1]}')\n",
    "\n",
    "secondLargestEleInList()"
   ]
  },
  {
   "cell_type": "code",
   "execution_count": 10,
   "id": "99bffe54",
   "metadata": {},
   "outputs": [
    {
     "name": "stdout",
     "output_type": "stream",
     "text": [
      "5\n"
     ]
    }
   ],
   "source": [
    "#OR\n",
    "my_list = [7, 3, 5, 2, 1]\n",
    "my_list.sort(reverse = True)\n",
    "print(my_list[1])"
   ]
  },
  {
   "cell_type": "markdown",
   "id": "ee185d52",
   "metadata": {},
   "source": [
    "#### 6.Write a Python Program to find N largest elements in the list ?"
   ]
  },
  {
   "cell_type": "code",
   "execution_count": 11,
   "id": "e2c518fa",
   "metadata": {},
   "outputs": [
    {
     "name": "stdout",
     "output_type": "stream",
     "text": [
      "Enter the No of elements in a list: 8\n",
      "Enter a Element: 2\n",
      "Enter a Element: 5\n",
      "Enter a Element: 8\n",
      "Enter a Element: 6\n",
      "Enter a Element: 4\n",
      "Enter a Element: 3\n",
      "Enter a Element: 7\n",
      "Enter a Element: 9\n",
      "The 4 Largest Element in [2, 5, 8, 6, 4, 3, 7, 9] is [9, 8, 7, 6]\n"
     ]
    }
   ],
   "source": [
    "def nLargestEleInList(k):\n",
    "    in_ele = int(input('Enter the No of elements in a list: '))\n",
    "    in_list = []\n",
    "    for ele in range(in_ele):\n",
    "        in_list.append(int(input('Enter a Element: ')))\n",
    "    print(f'The {k} Largest Element in {in_list} is {sorted(in_list, reverse=True)[0:k]}')\n",
    "\n",
    "nLargestEleInList(4)"
   ]
  },
  {
   "cell_type": "code",
   "execution_count": 12,
   "id": "a82e70e1",
   "metadata": {},
   "outputs": [
    {
     "data": {
      "text/plain": [
       "[9, 8, 7, 6]"
      ]
     },
     "execution_count": 12,
     "metadata": {},
     "output_type": "execute_result"
    }
   ],
   "source": [
    "#OR\n",
    "n = 4\n",
    "my_list = [7, 3, 5, 2, 4,6,8,9]\n",
    "my_list.sort(reverse = True)\n",
    "my_list[:n]"
   ]
  },
  {
   "cell_type": "markdown",
   "id": "7f5a2b91",
   "metadata": {},
   "source": [
    "#### 7.Write a Python Program to find even numbers in the list ?"
   ]
  },
  {
   "cell_type": "code",
   "execution_count": 13,
   "id": "e9b0d19a",
   "metadata": {},
   "outputs": [
    {
     "name": "stdout",
     "output_type": "stream",
     "text": [
      "Enter the No of elements in a list: 6\n",
      "Enter a Element: 56\n",
      "Enter a Element: 23\n",
      "Enter a Element: 59\n",
      "Enter a Element: 62\n",
      "Enter a Element: 12\n",
      "Enter a Element: 13\n",
      "The Even Elements in [56, 23, 59, 62, 12, 13] are [56, 62, 12]\n"
     ]
    }
   ],
   "source": [
    "def evenNoInList():\n",
    "    in_ele = int(input('Enter the No of elements in a list: '))\n",
    "    in_list = []\n",
    "    even_list = []\n",
    "    for ele in range(in_ele):\n",
    "        in_list.append(int(input('Enter a Element: ')))\n",
    "    for ele in in_list:\n",
    "        if ele%2 == 0:\n",
    "            even_list.append(ele)\n",
    "    print(f'The Even Elements in {in_list} are {even_list}')\n",
    "\n",
    "evenNoInList()"
   ]
  },
  {
   "cell_type": "code",
   "execution_count": 14,
   "id": "b9ea139e",
   "metadata": {},
   "outputs": [
    {
     "name": "stdout",
     "output_type": "stream",
     "text": [
      "56 62 12 "
     ]
    }
   ],
   "source": [
    "#OR\n",
    "my_list = [56, 23, 59,62, 12, 13]\n",
    "for i in my_list:\n",
    "    if i %2 == 0 :\n",
    "        print(i , end = \" \")"
   ]
  },
  {
   "cell_type": "markdown",
   "id": "a5d3f862",
   "metadata": {},
   "source": [
    "#### 8.Write a Python Program to find odd numbers in the list ?"
   ]
  },
  {
   "cell_type": "code",
   "execution_count": 15,
   "id": "101d0718",
   "metadata": {},
   "outputs": [
    {
     "name": "stdout",
     "output_type": "stream",
     "text": [
      "Enter the No of elements in a list: 6\n",
      "Enter a Element: 1\n",
      "Enter a Element: 5\n",
      "Enter a Element: 2\n",
      "Enter a Element: 4\n",
      "Enter a Element: 9\n",
      "Enter a Element: 6\n",
      "The Even Elements in [1, 5, 2, 4, 9, 6] are [1, 5, 9]\n"
     ]
    }
   ],
   "source": [
    "def oddNoInList():\n",
    "    in_ele = int(input('Enter the No of elements in a list: '))\n",
    "    in_list = []\n",
    "    odd_list = []\n",
    "    for ele in range(in_ele):\n",
    "        in_list.append(int(input('Enter a Element: ')))\n",
    "    for ele in in_list:\n",
    "        if ele%2 != 0:\n",
    "            odd_list.append(ele)\n",
    "    print(f'The Even Elements in {in_list} are {odd_list}')\n",
    "\n",
    "oddNoInList()"
   ]
  },
  {
   "cell_type": "code",
   "execution_count": 17,
   "id": "e22d4697",
   "metadata": {},
   "outputs": [
    {
     "name": "stdout",
     "output_type": "stream",
     "text": [
      "5 9 1 "
     ]
    }
   ],
   "source": [
    "#OR\n",
    "my_list = [5, 2, 4, 9, 1, 6]\n",
    "for i in my_list:\n",
    "    if i %2  == 1 :\n",
    "        print(i , end = \" \")"
   ]
  },
  {
   "cell_type": "markdown",
   "id": "f97fa7ea",
   "metadata": {},
   "source": [
    "#### 9.Write a Python Program to remove empty list from list ?"
   ]
  },
  {
   "cell_type": "code",
   "execution_count": 20,
   "id": "193a2ef1",
   "metadata": {},
   "outputs": [
    {
     "name": "stdout",
     "output_type": "stream",
     "text": [
      "Enter all elements of the list: [1,2,3,4,5,[],6,7,8,9,0]\n",
      "There is an Empty list in [1, 2, 3, 4, 5, [], 6, 7, 8, 9, 0] at Position 5\n",
      "The List after removing [] is [1, 2, 3, 4, 5, 6, 7, 8, 9, 0]\n"
     ]
    }
   ],
   "source": [
    "def checkEmptyList():\n",
    "    in_list = eval(input('Enter all elements of the list: '))\n",
    "    if [] in in_list:\n",
    "        print(f'There is an Empty list in {in_list} at Position {in_list.index([])}')\n",
    "        in_list.remove([])\n",
    "        print(f'The List after removing [] is {in_list}')\n",
    "    else:\n",
    "        print(f'There is no [] List in the list {in_list}')\n",
    "        \n",
    "checkEmptyList()"
   ]
  },
  {
   "cell_type": "code",
   "execution_count": 23,
   "id": "432e3e76",
   "metadata": {},
   "outputs": [
    {
     "name": "stdout",
     "output_type": "stream",
     "text": [
      "The original list is [1, 2, 3, 4, 5, [], 6, 7, 8, 9, 0]\n",
      "The list with empty lists removed is [1, 2, 3, 4, 5, 6, 7, 8, 9]\n"
     ]
    }
   ],
   "source": [
    "#OR\n",
    "def remove_empty_lists(lst):\n",
    "  # Create a new list to store the non-empty lists\n",
    "  non_empty_lists = []\n",
    "  \n",
    "  # Iterate over the original list\n",
    "  for sublist in lst:\n",
    "    # If the sublist is not empty, append it to the new list\n",
    "    if sublist:\n",
    "      non_empty_lists.append(sublist)\n",
    "      \n",
    "  # Return the new list\n",
    "  return non_empty_lists\n",
    "\n",
    "# Test the function\n",
    "my_list = [1,2,3,4,5,[],6,7,8,9,0]\n",
    "non_empty_lists = remove_empty_lists(my_list)\n",
    "print(f'The original list is {my_list}')\n",
    "print(f'The list with empty lists removed is {non_empty_lists}')"
   ]
  },
  {
   "cell_type": "markdown",
   "id": "1a5b1f91",
   "metadata": {},
   "source": [
    "#### 10.Write a Python Program to Cloning or Copying a list ?"
   ]
  },
  {
   "cell_type": "code",
   "execution_count": 22,
   "id": "55882ca5",
   "metadata": {},
   "outputs": [
    {
     "name": "stdout",
     "output_type": "stream",
     "text": [
      "Enter a list[1,2,3,4,5,6,7,8,9,0]\n",
      "[1, 2, 3, 4, 5, 6, 7, 8, 9, 0] 2105021843328\n",
      "[1, 2, 3, 4, 5, 6, 7, 8, 9, 0] 2105021864192\n"
     ]
    }
   ],
   "source": [
    "import copy\n",
    "\n",
    "def cloneList():\n",
    "    in_list = eval(input('Enter a list'))\n",
    "    print(in_list, id(in_list))\n",
    "    cloned_list = in_list.copy()\n",
    "    print(cloned_list, id(cloned_list))\n",
    "\n",
    "cloneList()"
   ]
  },
  {
   "cell_type": "code",
   "execution_count": 24,
   "id": "39e75bf3",
   "metadata": {},
   "outputs": [
    {
     "name": "stdout",
     "output_type": "stream",
     "text": [
      "The original list is [1, 2, 3, 4, 5, 6, 7, 8, 9, 0]\n",
      "The cloned list is [1, 2, 3, 4, 5, 6, 7, 8, 9, 0]\n"
     ]
    }
   ],
   "source": [
    "#OR\n",
    "def clone_list(lst):\n",
    "  # Use the list() function to create a new list and copy the elements from the original list\n",
    "  cloned_list = list(lst)\n",
    "  return cloned_list\n",
    "\n",
    "# Test the function\n",
    "original_list = [1, 2, 3, 4, 5,6,7,8,9,0]\n",
    "cloned_list = clone_list(original_list)\n",
    "print(f'The original list is {original_list}')\n",
    "print(f'The cloned list is {cloned_list}')"
   ]
  },
  {
   "cell_type": "markdown",
   "id": "37e5e6bd",
   "metadata": {},
   "source": [
    "#### 11.Write a Python Program to count occurences of an element in a list ?"
   ]
  },
  {
   "cell_type": "code",
   "execution_count": 26,
   "id": "8a5e7b52",
   "metadata": {},
   "outputs": [
    {
     "name": "stdout",
     "output_type": "stream",
     "text": [
      "Enter the elements of the list: [1,2,2,3,4,8]\n",
      "Enter the element to find: 2\n",
      "There are 2 occurences of 2 in [1, 2, 2, 3, 4, 8]\n"
     ]
    }
   ],
   "source": [
    "def checkOccurence():\n",
    "    in_list = eval(input('Enter the elements of the list: '))\n",
    "    in_num = eval(input('Enter the element to find: '))\n",
    "    count = 0\n",
    "    if in_num in in_list:\n",
    "        for ele in in_list:\n",
    "            if ele == in_num:\n",
    "                count = count+1\n",
    "    print(f'There are {count} occurences of {in_num} in {in_list}')\n",
    "    \n",
    "checkOccurence()"
   ]
  },
  {
   "cell_type": "code",
   "execution_count": 27,
   "id": "7ef7ade6",
   "metadata": {},
   "outputs": [
    {
     "data": {
      "text/plain": [
       "{5: 1, 8: 1, 2: 1, 4: 1, 9: 1, 3: 1, 1: 1, 7: 1, 6: 1, 12: 1, 11: 1, 10: 1}"
      ]
     },
     "execution_count": 27,
     "metadata": {},
     "output_type": "execute_result"
    }
   ],
   "source": [
    "#OR\n",
    "from collections import Counter\n",
    "my_list = [5, 8, 2, 4, 9, 3, 1, 7, 6, 12, 11, 10] \n",
    "counts = Counter(my_list) \n",
    "dict(counts) "
   ]
  }
 ],
 "metadata": {
  "kernelspec": {
   "display_name": "Python 3 (ipykernel)",
   "language": "python",
   "name": "python3"
  },
  "language_info": {
   "codemirror_mode": {
    "name": "ipython",
    "version": 3
   },
   "file_extension": ".py",
   "mimetype": "text/x-python",
   "name": "python",
   "nbconvert_exporter": "python",
   "pygments_lexer": "ipython3",
   "version": "3.9.7"
  }
 },
 "nbformat": 4,
 "nbformat_minor": 5
}
