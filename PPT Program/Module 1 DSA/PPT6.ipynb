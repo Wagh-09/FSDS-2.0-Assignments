{
 "cells": [
  {
   "cell_type": "markdown",
   "id": "2434f569",
   "metadata": {},
   "source": [
    "💡 **Question 1**\n",
    "\n",
    "A permutation perm of n + 1 integers of all the integers in the range [0, n] can be represented as a string s of length n where:\n",
    "\n",
    "- s[i] == 'I' if perm[i] < perm[i + 1], and\n",
    "- s[i] == 'D' if perm[i] > perm[i + 1].\n",
    "\n",
    "Given a string s, reconstruct the permutation perm and return it. If there are multiple valid permutations perm, return **any of them**.\n",
    "\n",
    "**Example 1:**\n",
    "\n",
    "**Input:** s = \"IDID\"\n",
    "\n",
    "**Output:**\n",
    "\n",
    "[0,4,1,3,2]"
   ]
  },
  {
   "cell_type": "code",
   "execution_count": 11,
   "id": "f0e84453",
   "metadata": {},
   "outputs": [
    {
     "name": "stdout",
     "output_type": "stream",
     "text": [
      "[7, 3, 2, 6, 5]\n"
     ]
    }
   ],
   "source": [
    "def Permutation(s):\n",
    "    n = len(s)\n",
    "    perm = [0] * (n + 1)\n",
    "    next_num = 1\n",
    "\n",
    "    for i in range(n):\n",
    "        if s[i] == 'I':\n",
    "            perm[i + 1] = next_num\n",
    "            next_num += 1\n",
    "        else:\n",
    "            j = i\n",
    "            while i < n and s[i] == 'D':\n",
    "                i += 1\n",
    "\n",
    "            # Use j instead of i in the following lines\n",
    "            for k in range(i, j - 1, -1):\n",
    "                perm[k] = next_num\n",
    "                next_num += 1\n",
    "\n",
    "    # Fill in the remaining numbers in ascending order\n",
    "    for i in range(n + 1):\n",
    "        if perm[i] == 0:\n",
    "            perm[i] = next_num\n",
    "            next_num += 1\n",
    "\n",
    "    return perm\n",
    "\n",
    "s = \"IDID\"\n",
    "print(Permutation(s))\n"
   ]
  },
  {
   "cell_type": "markdown",
   "id": "1c38d6b3",
   "metadata": {},
   "source": [
    "💡 **Question 2**\n",
    "\n",
    "You are given an m x n integer matrix matrix with the following two properties:\n",
    "\n",
    "- Each row is sorted in non-decreasing order.\n",
    "- The first integer of each row is greater than the last integer of the previous row.\n",
    "\n",
    "Given an integer target, return true *if* target *is in* matrix *or* false *otherwise*.\n",
    "\n",
    "You must write a solution in O(log(m * n)) time complexity."
   ]
  },
  {
   "cell_type": "code",
   "execution_count": 15,
   "id": "f53c0342",
   "metadata": {},
   "outputs": [
    {
     "name": "stdout",
     "output_type": "stream",
     "text": [
      "True\n"
     ]
    }
   ],
   "source": [
    "def MatrixSearch(matrix, target):\n",
    "    m = len(matrix)\n",
    "    n = len(matrix[0])\n",
    "\n",
    "    left = 0\n",
    "    right = m * n - 1\n",
    "\n",
    "    while left <= right:\n",
    "        mid = (left + right) // 2\n",
    "        row = mid // n\n",
    "        col = mid % n\n",
    "\n",
    "        if matrix[row][col] == target:\n",
    "            return True\n",
    "        elif matrix[row][col] < target:\n",
    "            left = mid + 1\n",
    "        else:\n",
    "            right = mid - 1\n",
    "\n",
    "    return False\n",
    "matrix = [\n",
    "    [1, 3, 5, 7],\n",
    "    [10, 11, 16, 20],\n",
    "    [23, 30, 34, 60]\n",
    "]\n",
    "target = 3\n",
    "\n",
    "print(MatrixSearch(matrix, target))"
   ]
  },
  {
   "cell_type": "markdown",
   "id": "de65ebb4",
   "metadata": {},
   "source": [
    "1. Initialize two variables, left and right, representing the boundaries of the search space. left is set to 0, and right is set to m * n - 1, where m is the number of rows and n is the number of columns in the matrix.\n",
    "2. While left is less than or equal to right:\n",
    "Calculate the middle index as mid = (left + right) // 2.\n",
    "Convert the mid index back to the row and column indices:\n",
    "row = mid // n (integer division)\n",
    "col = mid % n\n",
    "3. Compare the value at the row and col indices with the target:\n",
    "\n",
    "If the value is equal to the target, return True.\n",
    "\n",
    "If the value is less than the target, update left = mid + 1.\n",
    "\n",
    "If the value is greater than the target, update right = mid - 1.\n",
    "\n",
    "If the target is not found after the binary search, return False."
   ]
  },
  {
   "cell_type": "markdown",
   "id": "79d43a2b",
   "metadata": {},
   "source": [
    "💡 **Question 3**\n",
    "\n",
    "Given an array of integers arr, return *true if and only if it is a valid mountain array*.\n",
    "\n",
    "Recall that arr is a mountain array if and only if:\n",
    "\n",
    "- arr.length >= 3\n",
    "- There exists some i with 0 < i < arr.length - 1 such that:\n",
    "    - arr[0] < arr[1] < ... < arr[i - 1] < arr[i]\n",
    "    - arr[i] > arr[i + 1] > ... > arr[arr.length - 1]"
   ]
  },
  {
   "cell_type": "code",
   "execution_count": 18,
   "id": "eb0c1e67",
   "metadata": {},
   "outputs": [
    {
     "name": "stdout",
     "output_type": "stream",
     "text": [
      "False\n",
      "False\n",
      "True\n",
      "True\n",
      "False\n"
     ]
    }
   ],
   "source": [
    "def validMountainArray(arr):\n",
    "    n = len(arr)\n",
    "    \n",
    "    if n < 3:\n",
    "        return False\n",
    "    \n",
    "    i = 0\n",
    "    \n",
    "    while i + 1 < n and arr[i] < arr[i + 1]:\n",
    "        i += 1\n",
    "    \n",
    "    if i == 0 or i == n - 1:\n",
    "        return False\n",
    "    \n",
    "    while i + 1 < n and arr[i] > arr[i + 1]:\n",
    "        i += 1\n",
    "    \n",
    "    return i == n - 1\n",
    "arr1 = [2, 1]\n",
    "arr2 = [3, 5, 5]\n",
    "arr3 = [0, 3, 2, 1]\n",
    "arr4 = [0, 1, 2, 3, 4, 5, 4, 3, 2, 1]\n",
    "arr5 = [1, 2, 3, 4, 5, 6, 7, 8, 9]\n",
    "\n",
    "print(validMountainArray(arr1))  # False\n",
    "print(validMountainArray(arr2))  # False\n",
    "print(validMountainArray(arr3))  # True\n",
    "print(validMountainArray(arr4))  # True\n",
    "print(validMountainArray(arr5))  # False"
   ]
  },
  {
   "cell_type": "markdown",
   "id": "c53330d0",
   "metadata": {},
   "source": [
    "1. Check if the length of the array arr is less than 3. If it is, return False since a mountain array must have at least three elements.\n",
    "2. Initialize two variables, i and n, to track the current position in the array and the length of the array, respectively. Set i to 0 and n to the length of arr.\n",
    "3. Increment i while i + 1 < n and arr[i] < arr[i + 1]. This step ensures that the array is increasing.\n",
    "4. If i == 0 or i == n - 1, return False since the array should have a peak, and the peak cannot be the first or last element.\n",
    "5.Increment i while i + 1 < n and arr[i] > arr[i + 1]. This step ensures that the array is decreasing after the peak.\n",
    "6. If i == n - 1, return True since the array satisfies all the conditions of a mountain array.\n",
    "Otherwise, return False since the array did not meet the requirements."
   ]
  },
  {
   "cell_type": "markdown",
   "id": "9a2a6cd6",
   "metadata": {},
   "source": [
    "💡 **Question 4**\n",
    "\n",
    "Given a binary array nums, return *the maximum length of a contiguous subarray with an equal number of* 0 *and* 1.\n",
    "\n",
    "**Example 1:**\n",
    "\n",
    "**Input:** nums = [0,1]\n",
    "\n",
    "**Output:** 2\n",
    "\n",
    "**Explanation:**\n",
    "\n",
    "[0, 1] is the longest contiguous subarray with an equal number of 0 and 1."
   ]
  },
  {
   "cell_type": "code",
   "execution_count": 21,
   "id": "4fc6a675",
   "metadata": {},
   "outputs": [],
   "source": [
    "def MaxLength(nums):\n",
    "    count = {0: -1}\n",
    "    max_length = 0\n",
    "    prefix_sum = 0\n",
    "\n",
    "    for i, num in enumerate(nums):\n",
    "        if num == 0:\n",
    "            prefix_sum -= 1\n",
    "        else:\n",
    "            prefix_sum += 1\n",
    "\n",
    "        if prefix_sum in count:\n",
    "            length = i - count[prefix_sum]\n",
    "            max_length = max(max_length, length)\n",
    "        else:\n",
    "            count[prefix_sum] = i\n",
    "\n",
    "    return max_length\n"
   ]
  },
  {
   "cell_type": "code",
   "execution_count": 22,
   "id": "fa328564",
   "metadata": {},
   "outputs": [
    {
     "name": "stdout",
     "output_type": "stream",
     "text": [
      "2\n"
     ]
    }
   ],
   "source": [
    "nums = [0, 1]\n",
    "print(MaxLength(nums))"
   ]
  },
  {
   "cell_type": "markdown",
   "id": "47628339",
   "metadata": {},
   "source": [
    "💡 **Question 5**\n",
    "\n",
    "The **product sum** of two equal-length arrays a and b is equal to the sum of a[i] * b[i] for all 0 <= i < a.length (**0-indexed**).\n",
    "\n",
    "- For example, if a = [1,2,3,4] and b = [5,2,3,1], the **product sum** would be 1*5 + 2*2 + 3*3 + 4*1 = 22.Given two arrays nums1 and nums2 of length n, return *the **minimum product sum** if you are allowed to **rearrange** the **order** of the elements in* nums1.\n",
    "\n",
    "**Example 1:**\n",
    "\n",
    "**Input:** nums1 = [5,3,4,2], nums2 = [4,2,2,5]\n",
    "\n",
    "**Output:** 40\n",
    "\n",
    "**Explanation:**\n",
    "\n",
    "We can rearrange nums1 to become [3,5,4,2]. The product sum of [3,5,4,2] and [4,2,2,5] is 3*4 + 5*2 + 4*2 + 2*5 = 40."
   ]
  },
  {
   "cell_type": "code",
   "execution_count": 29,
   "id": "079aedbf",
   "metadata": {},
   "outputs": [
    {
     "name": "stdout",
     "output_type": "stream",
     "text": [
      "40\n"
     ]
    }
   ],
   "source": [
    "def minProductSum(nums1, nums2):\n",
    "    nums1.sort()\n",
    "    nums2.sort(reverse=True)\n",
    "    \n",
    "    min_product_sum = 0\n",
    "    \n",
    "    for i in range(len(nums1)):\n",
    "        min_product_sum += nums1[i] * nums2[i]\n",
    "    \n",
    "    return min_product_sum\n",
    "\n",
    "nums1 = [5, 3, 4, 2]\n",
    "nums2 = [4, 2, 2, 5]\n",
    "print(minProductSum(nums1, nums2))"
   ]
  },
  {
   "cell_type": "markdown",
   "id": "f48392cf",
   "metadata": {},
   "source": [
    "💡 **Question 7**\n",
    "\n",
    "Given a positive integer n, generate an n x n matrix filled with elements from 1 to n2 in spiral order.\n"
   ]
  },
  {
   "cell_type": "code",
   "execution_count": 30,
   "id": "757dbc05",
   "metadata": {},
   "outputs": [],
   "source": [
    "def generateMatrix(n):\n",
    "    matrix = [[0] * n for _ in range(n)]\n",
    "    num = 1\n",
    "    target = n * n\n",
    "    row_start, row_end = 0, n - 1\n",
    "    col_start, col_end = 0, n - 1\n",
    "\n",
    "    while num <= target:\n",
    "        for col in range(col_start, col_end + 1):\n",
    "            matrix[row_start][col] = num\n",
    "            num += 1\n",
    "        row_start += 1\n",
    "\n",
    "        for row in range(row_start, row_end + 1):\n",
    "            matrix[row][col_end] = num\n",
    "            num += 1\n",
    "        col_end -= 1\n",
    "\n",
    "        for col in range(col_end, col_start - 1, -1):\n",
    "            matrix[row_end][col] = num\n",
    "            num += 1\n",
    "        row_end -= 1\n",
    "\n",
    "        for row in range(row_end, row_start - 1, -1):\n",
    "            matrix[row][col_start] = num\n",
    "            num += 1\n",
    "        col_start += 1\n",
    "\n",
    "    return matrix"
   ]
  },
  {
   "cell_type": "code",
   "execution_count": 31,
   "id": "25362f39",
   "metadata": {},
   "outputs": [
    {
     "name": "stdout",
     "output_type": "stream",
     "text": [
      "[1, 2, 3]\n",
      "[8, 9, 4]\n",
      "[7, 6, 5]\n"
     ]
    }
   ],
   "source": [
    "n = 3\n",
    "result = generateMatrix(n)\n",
    "for row in result:\n",
    "    print(row)"
   ]
  },
  {
   "cell_type": "markdown",
   "id": "99018d97",
   "metadata": {},
   "source": [
    "💡 **Question 8**\n",
    "\n",
    "Given two [sparse matrices](https://en.wikipedia.org/wiki/Sparse_matrix) mat1 of size m x k and mat2 of size k x n, return the result of mat1 x mat2. You may assume that multiplication is always possible"
   ]
  },
  {
   "cell_type": "code",
   "execution_count": 32,
   "id": "64b43a58",
   "metadata": {},
   "outputs": [],
   "source": [
    "def multiply(mat1, mat2):\n",
    "    m, k = len(mat1), len(mat1[0])\n",
    "    k, n = len(mat2), len(mat2[0])\n",
    "    \n",
    "    result = [[0] * n for _ in range(m)]\n",
    "    \n",
    "    for i in range(m):\n",
    "        for j in range(n):\n",
    "            for x in range(k):\n",
    "                result[i][j] += mat1[i][x] * mat2[x][j]\n",
    "    \n",
    "    return result"
   ]
  },
  {
   "cell_type": "code",
   "execution_count": 33,
   "id": "601c39fa",
   "metadata": {},
   "outputs": [
    {
     "name": "stdout",
     "output_type": "stream",
     "text": [
      "[7, 0, 0]\n",
      "[-7, 0, 3]\n"
     ]
    }
   ],
   "source": [
    "mat1 = [[1, 0, 0],\n",
    "        [-1, 0, 3]]\n",
    "\n",
    "mat2 = [[7, 0, 0],\n",
    "        [0, 0, 0],\n",
    "        [0, 0, 1]]\n",
    "\n",
    "result = multiply(mat1, mat2)\n",
    "for row in result:\n",
    "    print(row)\n"
   ]
  }
 ],
 "metadata": {
  "kernelspec": {
   "display_name": "Python 3 (ipykernel)",
   "language": "python",
   "name": "python3"
  },
  "language_info": {
   "codemirror_mode": {
    "name": "ipython",
    "version": 3
   },
   "file_extension": ".py",
   "mimetype": "text/x-python",
   "name": "python",
   "nbconvert_exporter": "python",
   "pygments_lexer": "ipython3",
   "version": "3.10.9"
  }
 },
 "nbformat": 4,
 "nbformat_minor": 5
}
