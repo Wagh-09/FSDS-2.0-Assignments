{
 "cells": [
  {
   "cell_type": "markdown",
   "id": "a25f67fb",
   "metadata": {},
   "source": [
    "**Q1.** Given an array of integers nums and an integer target, return indices of the two numbers such that they add up to target.\n",
    "\n",
    "You may assume that each input would have exactly one solution, and you may not use the same element twice.\n",
    "\n",
    "You can return the answer in any order.\n",
    "\n",
    "**Example:**\n",
    "Input: nums = [2,7,11,15], target = 9\n",
    "Output0 [0,1]\n",
    "\n",
    "**Explanation:** Because nums[0] + nums[1] == 9, we return [0, 1]"
   ]
  },
  {
   "cell_type": "code",
   "execution_count": 1,
   "id": "80322770",
   "metadata": {},
   "outputs": [
    {
     "name": "stdout",
     "output_type": "stream",
     "text": [
      "[0, 1]\n"
     ]
    }
   ],
   "source": [
    "def two_sum(nums, target):\n",
    "    # Create a dictionary to store the complement of each number and its index\n",
    "    complement_dict = {}\n",
    "    \n",
    "    # Iterate through the array\n",
    "    for i, num in enumerate(nums):\n",
    "        complement = target - num\n",
    "        # Check if the complement is already in the dictionary\n",
    "        if complement in complement_dict:\n",
    "            # Return the indices of the two numbers\n",
    "            return [complement_dict[complement], i]\n",
    "        \n",
    "        # Store the current number and its index in the dictionary\n",
    "        complement_dict[num] = i\n",
    "    \n",
    "    # If no solution is found, return an empty list\n",
    "    return []\n",
    "\n",
    "# Example usage\n",
    "nums = [2, 7, 11, 15]\n",
    "target = 9\n",
    "result = two_sum(nums, target)\n",
    "print(result)\n"
   ]
  },
  {
   "cell_type": "markdown",
   "id": "880a7a75",
   "metadata": {},
   "source": [
    "\n",
    "💡 **Q2.** Given an integer array nums and an integer val, remove all occurrences of val in nums in-place. The order of the elements may be changed. Then return the number of elements in nums which are not equal to val.\n",
    "\n",
    "Consider the number of elements in nums which are not equal to val be k, to get accepted, you need to do the following things:\n",
    "\n",
    "- Change the array nums such that the first k elements of nums contain the elements which are not equal to val. The remaining elements of nums are not important as well as the size of nums.\n",
    "- Return k.\n",
    "\n",
    "**Example :**\n",
    "Input: nums = [3,2,2,3], val = 3\n",
    "\n",
    "Output: 2, nums = [2,2,_*,_*]\n",
    "\n",
    "**Explanation:** \n",
    "Your function should return k = 2, with the first two elements of nums being 2. It does not matter what you leave beyond the returned k (hence they are underscores)\n",
    "\n"
   ]
  },
  {
   "cell_type": "code",
   "execution_count": 2,
   "id": "b1686927",
   "metadata": {},
   "outputs": [
    {
     "name": "stdout",
     "output_type": "stream",
     "text": [
      "k = 2\n",
      "nums = [2, 2, '_*', '_*']\n"
     ]
    }
   ],
   "source": [
    "def remove_element(nums, val):\n",
    "    # Initialize two pointers: one for the current position and one for the next available position\n",
    "    current = 0\n",
    "    next_available = 0\n",
    "    \n",
    "    # Iterate through the array\n",
    "    while current < len(nums):\n",
    "        # If the current element is not equal to the value, update the next available position and move both pointers\n",
    "        if nums[current] != val:\n",
    "            nums[next_available] = nums[current]\n",
    "            next_available += 1\n",
    "        \n",
    "        # Move the current pointer\n",
    "        current += 1\n",
    "    \n",
    "    # Return the number of remaining elements (k)\n",
    "    return next_available\n",
    "\n",
    "# Example usage\n",
    "nums = [3, 2, 2, 3]\n",
    "val = 3\n",
    "k = remove_element(nums, val)\n",
    "print(\"k =\", k)\n",
    "print(\"nums =\", nums[:k] + ['_*'] * (len(nums) - k))\n"
   ]
  },
  {
   "cell_type": "markdown",
   "id": "dd80a7ad",
   "metadata": {},
   "source": [
    "💡 **Q3.** Given a sorted array of distinct integers and a target value, return the index if the target is found. If not, return the index where it would be if it were inserted in order.\n",
    "\n",
    "You must write an algorithm with O(log n) runtime complexity.\n",
    "\n",
    "**Example 1:**\n",
    "Input: nums = [1,3,5,6], target = 5\n",
    "\n",
    "Output: 2\n"
   ]
  },
  {
   "cell_type": "code",
   "execution_count": 3,
   "id": "9272894a",
   "metadata": {},
   "outputs": [
    {
     "name": "stdout",
     "output_type": "stream",
     "text": [
      "Output: 2\n"
     ]
    }
   ],
   "source": [
    "def search_insert(nums, target):\n",
    "    # Initialize left and right pointers\n",
    "    left = 0\n",
    "    right = len(nums) - 1\n",
    "    \n",
    "    # Binary search loop\n",
    "    while left <= right:\n",
    "        mid = (left + right) // 2\n",
    "        \n",
    "        # If the target is found, return the index\n",
    "        if nums[mid] == target:\n",
    "            return mid\n",
    "        \n",
    "        # If the target is smaller than the middle element, search in the left half\n",
    "        elif nums[mid] > target:\n",
    "            right = mid - 1\n",
    "        \n",
    "        # If the target is larger than the middle element, search in the right half\n",
    "        else:\n",
    "            left = mid + 1\n",
    "    \n",
    "    # If the target is not found, return the index where it would be inserted\n",
    "    return left\n",
    "\n",
    "# Example usage\n",
    "nums = [1, 3, 5, 6]\n",
    "target = 5\n",
    "index = search_insert(nums, target)\n",
    "print(\"Output:\", index)\n"
   ]
  },
  {
   "cell_type": "code",
   "execution_count": null,
   "id": "9e3f81d1",
   "metadata": {},
   "outputs": [],
   "source": [
    "low = 0\n",
    "high = len(nums) - 1\n",
    "\n",
    "while low <= high:\n",
    "    mid = (low + high) // 2\n",
    "\n",
    "    if nums[mid] == target:\n",
    "        return mid\n",
    "    elif nums[mid] < target:\n",
    "        low = mid + 1\n",
    "    else:\n",
    "        high = mid - 1\n",
    "\n",
    "# The target is not found, so return the index where it would be inserted\n",
    "return low"
   ]
  },
  {
   "cell_type": "markdown",
   "id": "2f5bb645",
   "metadata": {},
   "source": [
    "**Q4.** You are given a large integer represented as an integer array digits, where each digits[i] is the ith digit of the integer. The digits are ordered from most significant to least significant in left-to-right order. The large integer does not contain any leading 0's.\n",
    "\n",
    "Increment the large integer by one and return the resulting array of digits.\n",
    "\n",
    "**Example 1:**\n",
    "Input: digits = [1,2,3]\n",
    "Output: [1,2,4]\n",
    "\n",
    "**Explanation:** The array represents the integer 123.\n",
    "\n",
    "Incrementing by one gives 123 + 1 = 124.\n",
    "Thus, the result should be [1,2,4]."
   ]
  },
  {
   "cell_type": "code",
   "execution_count": 8,
   "id": "3c65d1bc",
   "metadata": {},
   "outputs": [],
   "source": [
    "def plus_one(digits):\n",
    "  \"\"\"\n",
    "  Increments the large integer represented by the given array of digits.\n",
    "\n",
    "  Args:\n",
    "    digits: An array of integers representing the large integer.\n",
    "\n",
    "  Returns:\n",
    "    An array of integers representing the incremented large integer.\n",
    "  \"\"\"\n",
    "\n",
    "  # Start at the end of the array and increment each digit.\n",
    "  for i in range(len(digits) - 1, -1, -1):\n",
    "    digits[i] += 1\n",
    "\n",
    "    # If the digit is greater than 9, carry over the 1 and set the digit to 0.\n",
    "    if digits[i] > 9:\n",
    "      digits[i] = 0\n",
    "      carry = 1\n",
    "    else:\n",
    "      carry = 0\n",
    "\n",
    "  # If there is a carry over from the last digit, add a new digit to the front of the array.\n",
    "  if carry:\n",
    "    digits.insert(0, 1)\n",
    "\n",
    "  return digits\n"
   ]
  },
  {
   "cell_type": "code",
   "execution_count": 10,
   "id": "a345508e",
   "metadata": {},
   "outputs": [
    {
     "name": "stdout",
     "output_type": "stream",
     "text": [
      "[2, 8, 4]\n"
     ]
    }
   ],
   "source": [
    "digits = [1, 7, 3]\n",
    "\n",
    "result = plus_one(digits)\n",
    "\n",
    "print(result)\n"
   ]
  },
  {
   "cell_type": "markdown",
   "id": "d835706f",
   "metadata": {},
   "source": [
    " **Q5.** You are given two integer arrays nums1 and nums2, sorted in non-decreasing order, and two integers m and n, representing the number of elements in nums1 and nums2 respectively.\n",
    "\n",
    "Merge nums1 and nums2 into a single array sorted in non-decreasing order.\n",
    "\n",
    "The final sorted array should not be returned by the function, but instead be stored inside the array nums1. To accommodate this, nums1 has a length of m + n, where the first m elements denote the elements that should be merged, and the last n elements are set to 0 and should be ignored. nums2 has a length of n.\n",
    "\n",
    "**Example 1:**\n",
    "Input: nums1 = [1,2,3,0,0,0], m = 3, nums2 = [2,5,6], n = 3\n",
    "Output: [1,2,2,3,5,6]\n",
    "\n",
    "**Explanation:** The arrays we are merging are [1,2,3] and [2,5,6].\n",
    "The result of the merge is [1,2,2,3,5,6] with the underlined elements coming from nums1.\n",
    "\n"
   ]
  },
  {
   "cell_type": "code",
   "execution_count": 13,
   "id": "e4d50bed",
   "metadata": {},
   "outputs": [],
   "source": [
    "def merge_sorted_arrays(nums1, m, nums2, n):\n",
    "  \"\"\"\n",
    "  Merges two sorted arrays into a single array sorted in non-decreasing order.\n",
    "\n",
    "  Args:\n",
    "    nums1: The first sorted array.\n",
    "    m: The number of elements in nums1.\n",
    "    nums2: The second sorted array.\n",
    "    n: The number of elements in nums2.\n",
    "\n",
    "  Returns:\n",
    "    None. The merged array is stored in nums1.\n",
    "  \"\"\"\n",
    "\n",
    "  # Initialize the pointers to the start of each array.\n",
    "  i = 0\n",
    "  j = 0\n",
    "\n",
    "  # Iterate over both arrays, comparing the elements at each index.\n",
    "  # The smaller element is copied to nums1.\n",
    "  # The pointer to the array containing the smaller element is incremented.\n",
    "  while i < m and j < n:\n",
    "    if nums1[i] <= nums2[j]:\n",
    "      nums1[i + j] = nums1[i]\n",
    "      i += 1\n",
    "    else:\n",
    "      nums1[i + j] = nums2[j]\n",
    "      j += 1\n",
    "\n",
    "  # Copy the remaining elements from nums1.\n",
    "  for k in range(i, m):\n",
    "    nums1[i + j] = nums1[k]\n",
    "    i += 1\n",
    "\n",
    "  # Copy the remaining elements from nums2.\n",
    "  for k in range(j, n):\n",
    "    nums1[i + j] = nums2[k]\n",
    "    j += 1\n"
   ]
  },
  {
   "cell_type": "code",
   "execution_count": 14,
   "id": "963db857",
   "metadata": {},
   "outputs": [
    {
     "name": "stdout",
     "output_type": "stream",
     "text": [
      "[1, 2, 2, 2, 5, 6]\n"
     ]
    }
   ],
   "source": [
    "nums1 = [1, 2, 3, 0, 0, 0]\n",
    "m = 3\n",
    "nums2 = [2, 5, 6]\n",
    "n = 3\n",
    "\n",
    "merge_sorted_arrays(nums1, m, nums2, n)\n",
    "\n",
    "print(nums1)\n"
   ]
  },
  {
   "cell_type": "markdown",
   "id": "1eae3947",
   "metadata": {},
   "source": [
    "**Q6.** Given an integer array nums, return true if any value appears at least twice in the array, and return false if every element is distinct.\n",
    "\n",
    "**Example 1:**\n",
    "Input: nums = [1,2,3,1]\n",
    "\n",
    "Output: true\n",
    "\n"
   ]
  },
  {
   "cell_type": "code",
   "execution_count": 17,
   "id": "9ad42bc9",
   "metadata": {},
   "outputs": [],
   "source": [
    "def contains_duplicate(nums):\n",
    "  \"\"\"\n",
    "  Given an integer array nums, return true if any value appears at least twice in the array, and return false if every element is distinct.\n",
    "\n",
    "  Args:\n",
    "    nums: An array of integers.\n",
    "\n",
    "  Returns:\n",
    "    True if any value appears at least twice in the array, and False if every element is distinct.\n",
    "  \"\"\"\n",
    "\n",
    "  # Create a set to store the elements of the array.\n",
    "  seen = set()\n",
    "\n",
    "  # Iterate over the array and add each element to the set.\n",
    "  for num in nums:\n",
    "    if num in seen:\n",
    "      return True\n",
    "    seen.add(num)\n",
    "\n",
    "  # If we reach the end of the array and haven't found any duplicates, return False.\n",
    "  return False\n"
   ]
  },
  {
   "cell_type": "code",
   "execution_count": 19,
   "id": "995e7215",
   "metadata": {},
   "outputs": [
    {
     "name": "stdout",
     "output_type": "stream",
     "text": [
      "True\n"
     ]
    }
   ],
   "source": [
    "nums = [1, 2, 3, 1,9,11,0,19,11]\n",
    "\n",
    "print(contains_duplicate(nums))\n"
   ]
  },
  {
   "cell_type": "markdown",
   "id": "ea919a64",
   "metadata": {},
   "source": [
    " **Q7.** Given an integer array nums, move all 0's to the end of it while maintaining the relative order of the nonzero elements.\n",
    "\n",
    "Note that you must do this in-place without making a copy of the array.\n",
    "\n",
    "**Example 1:**\n",
    "Input: nums = [0,1,0,3,12]\n",
    "Output: [1,3,12,0,0]"
   ]
  },
  {
   "cell_type": "code",
   "execution_count": 30,
   "id": "4e3c9387",
   "metadata": {},
   "outputs": [
    {
     "name": "stdout",
     "output_type": "stream",
     "text": [
      "[1, 3, 12, 0, 0]\n"
     ]
    }
   ],
   "source": [
    "def move_zeros_to_end(nums):\n",
    "  \"\"\"\n",
    "  Move all 0's to the end of the array nums while maintaining the relative order of the nonzero elements.\n",
    "\n",
    "  Args:\n",
    "    nums: An array of integers.\n",
    "\n",
    "  Returns:\n",
    "    The array nums with all the 0's moved to the end.\n",
    "  \"\"\"\n",
    "\n",
    "  # Initialize the index of the next available position in the array.\n",
    "  k = 0\n",
    "\n",
    "  # Iterate over the array.\n",
    "  for i in range(len(nums)):\n",
    "    # If the current element is not 0, then swap it with the element at the next available position.\n",
    "    if nums[i] != 0:\n",
    "      nums[k], nums[i] = nums[i], nums[k]\n",
    "      k += 1\n",
    "\n",
    "  # Fill all the remaining indices with 0's.\n",
    "  for i in range(k, len(nums)):\n",
    "    nums[i] = 0\n",
    "\n",
    "  return nums\n",
    "nums = [0, 1, 0, 3, 12]\n",
    "\n",
    "print(move_zeros_to_end(nums))\n"
   ]
  },
  {
   "cell_type": "markdown",
   "id": "a1c3e431",
   "metadata": {},
   "source": [
    " **Q8.** You have a set of integers s, which originally contains all the numbers from 1 to n. Unfortunately, due to some error, one of the numbers in s got duplicated to another number in the set, which results in repetition of one number and loss of another number.\n",
    "\n",
    "You are given an integer array nums representing the data status of this set after the error.\n",
    "\n",
    "Find the number that occurs twice and the number that is missing and return them in the form of an array.\n",
    "\n",
    "**Example 1:**\n",
    "Input: nums = [1,2,2,4]\n",
    "Output: [2,3]\n"
   ]
  },
  {
   "cell_type": "code",
   "execution_count": 28,
   "id": "0d02d430",
   "metadata": {},
   "outputs": [],
   "source": [
    "def find_duplicate_and_missing(nums):\n",
    "  \"\"\"\n",
    "  Find the number that occurs twice and the number that is missing in the array nums.\n",
    "\n",
    "  Args:\n",
    "    nums: An array of integers.\n",
    "\n",
    "  Returns:\n",
    "    A list of two integers, the first being the duplicate number and the second being the missing number.\n",
    "  \"\"\"\n",
    "\n",
    "  # Create a set to store the elements of the array.\n",
    "  seen = set()\n",
    "\n",
    "  # Iterate over the array and add each element to the set.\n",
    "  for num in nums:\n",
    "    if num in seen:\n",
    "      return num\n",
    "    seen.add(num)\n",
    "\n",
    "  # If we reach the end of the array and haven't found any duplicates, return False.\n",
    "  return [-1, -1]\n"
   ]
  },
  {
   "cell_type": "code",
   "execution_count": 29,
   "id": "264218d1",
   "metadata": {},
   "outputs": [
    {
     "name": "stdout",
     "output_type": "stream",
     "text": [
      "2\n"
     ]
    }
   ],
   "source": [
    "nums = [1, 2, 2, 4]\n",
    "\n",
    "print(find_duplicate_and_missing(nums))\n"
   ]
  }
 ],
 "metadata": {
  "kernelspec": {
   "display_name": "Python 3 (ipykernel)",
   "language": "python",
   "name": "python3"
  },
  "language_info": {
   "codemirror_mode": {
    "name": "ipython",
    "version": 3
   },
   "file_extension": ".py",
   "mimetype": "text/x-python",
   "name": "python",
   "nbconvert_exporter": "python",
   "pygments_lexer": "ipython3",
   "version": "3.10.9"
  }
 },
 "nbformat": 4,
 "nbformat_minor": 5
}
