{
  "nbformat": 4,
  "nbformat_minor": 0,
  "metadata": {
    "colab": {
      "provenance": []
    },
    "kernelspec": {
      "name": "python3",
      "display_name": "Python 3"
    },
    "language_info": {
      "name": "python"
    }
  },
  "cells": [
    {
      "cell_type": "markdown",
      "source": [
        "💡 **Question 1**\n",
        "\n",
        "Convert 1D Array Into 2D Array\n",
        "\n",
        "You are given a **0-indexed** 1-dimensional (1D) integer array original, and two integers, m and n. You are tasked with creating a 2-dimensional (2D) array with  m rows and n columns using **all** the elements from original.\n",
        "\n",
        "The elements from indices 0 to n - 1 (**inclusive**) of original should form the first row of the constructed 2D array, the elements from indices n to 2 * n - 1 (**inclusive**) should form the second row of the constructed 2D array, and so on.\n",
        "\n",
        "Return *an* m x n *2D array constructed according to the above procedure, or an empty 2D array if it is impossible*."
      ],
      "metadata": {
        "id": "m56xJl8haHKY"
      }
    },
    {
      "cell_type": "code",
      "source": [
        "def convert_2d_array(original, m, n):\n",
        "    if m * n != len(original):\n",
        "        return []  # Return an empty 2D array if it is impossible\n",
        "\n",
        "    result = []\n",
        "    for i in range(m):\n",
        "        row = original[i * n:(i + 1) * n]\n",
        "        result.append(row)\n",
        "\n",
        "    return result"
      ],
      "metadata": {
        "id": "i5hEpHUHaJUS"
      },
      "execution_count": 2,
      "outputs": []
    },
    {
      "cell_type": "code",
      "source": [
        "original = [1, 2, 3, 4,]\n",
        "m = 2\n",
        "n = 2\n",
        "result = convert_2d_array(original, m, n)\n",
        "print(result)\n"
      ],
      "metadata": {
        "colab": {
          "base_uri": "https://localhost:8080/"
        },
        "id": "G4mO8izccI8U",
        "outputId": "b88be6ea-dd7c-4acc-ec6c-3531957e634e"
      },
      "execution_count": 4,
      "outputs": [
        {
          "output_type": "stream",
          "name": "stdout",
          "text": [
            "[[1, 2], [3, 4]]\n"
          ]
        }
      ]
    },
    {
      "cell_type": "markdown",
      "source": [
        "💡 **Question 2**\n",
        "\n",
        "You have n coins and you want to build a staircase with these coins. The staircase consists of k rows where the ith row has exactly i coins. The last row of the staircase **may be** incomplete.\n",
        "\n",
        "Given the integer n, return *the number of **complete rows** of the staircase you will build*"
      ],
      "metadata": {
        "id": "94wthMHaaHHQ"
      }
    },
    {
      "cell_type": "code",
      "source": [
        "import math\n",
        "def complete_rows(n):\n",
        "    return int((math.sqrt(8 * n + 1) - 1) / 2)\n"
      ],
      "metadata": {
        "id": "Ro7NWRQraJ-4"
      },
      "execution_count": 7,
      "outputs": []
    },
    {
      "cell_type": "code",
      "source": [
        "n = 5\n",
        "result = complete_rows(n)\n",
        "print(result)"
      ],
      "metadata": {
        "colab": {
          "base_uri": "https://localhost:8080/"
        },
        "id": "8TUKKDk5cjvk",
        "outputId": "bb1dfb38-7966-4d3b-99b0-aedc01477d92"
      },
      "execution_count": 8,
      "outputs": [
        {
          "output_type": "stream",
          "name": "stdout",
          "text": [
            "2\n"
          ]
        }
      ]
    },
    {
      "cell_type": "markdown",
      "source": [
        "💡 **Question 3**\n",
        "\n",
        "Given an integer array nums sorted in **non-decreasing** order, return *an array of **the squares of each number** sorted in non-decreasing order*.\n",
        "\n",
        "**Example 1:**\n",
        "\n",
        "**Input:** nums = [-4,-1,0,3,10]\n",
        "\n",
        "**Output:** [0,1,9,16,100]\n",
        "\n",
        "**Explanation:** After squaring, the array becomes [16,1,0,9,100].\n",
        "\n",
        "After sorting, it becomes [0,1,9,16,100].\n"
      ],
      "metadata": {
        "id": "75SyjGVmaHEw"
      }
    },
    {
      "cell_type": "code",
      "source": [
        "def sorted_square(nums):\n",
        "    result = [num ** 2 for num in nums]\n",
        "    result.sort()\n",
        "    return result\n"
      ],
      "metadata": {
        "id": "7KLw8re_aK2m"
      },
      "execution_count": 9,
      "outputs": []
    },
    {
      "cell_type": "code",
      "source": [
        "nums = [-4, -1, 0, 3, 10]\n",
        "result = sorted_square(nums)\n",
        "print(result)"
      ],
      "metadata": {
        "colab": {
          "base_uri": "https://localhost:8080/"
        },
        "id": "yF5HLQU4c4Mm",
        "outputId": "4274fa5d-404f-412b-a77f-45d0b6fc40d8"
      },
      "execution_count": 11,
      "outputs": [
        {
          "output_type": "stream",
          "name": "stdout",
          "text": [
            "[0, 1, 9, 16, 100]\n"
          ]
        }
      ]
    },
    {
      "cell_type": "markdown",
      "source": [
        "<aside>\n",
        "💡 **Question 4**\n",
        "\n",
        "Given two **0-indexed** integer arrays nums1 and nums2, return *a list* answer *of size* 2 *where:*\n",
        "\n",
        "- answer[0] *is a list of all **distinct** integers in* nums1 *which are **not** present in* nums2*.*\n",
        "- answer[1] *is a list of all **distinct** integers in* nums2 *which are **not** present in* nums1.\n",
        "\n",
        "**Note** that the integers in the lists may be returned in **any** order.\n",
        "\n",
        "</aside>"
      ],
      "metadata": {
        "id": "tUZP9lm1aHB3"
      }
    },
    {
      "cell_type": "code",
      "source": [
        "def find_disjoint(nums1, nums2):\n",
        "    set1 = set(nums1)\n",
        "    set2 = set(nums2)\n",
        "    \n",
        "    distinct_nums1 = list(set1 - set2)\n",
        "    distinct_nums2 = list(set2 - set1)\n",
        "    \n",
        "    return [distinct_nums1, distinct_nums2]"
      ],
      "metadata": {
        "id": "mdAYJqd9aLs2"
      },
      "execution_count": 12,
      "outputs": []
    },
    {
      "cell_type": "code",
      "source": [
        "nums1 = [1, 2, 2, 3, 4]\n",
        "nums2 = [2, 3, 5]\n",
        "result = find_disjoint(nums1, nums2)\n",
        "print(result)"
      ],
      "metadata": {
        "colab": {
          "base_uri": "https://localhost:8080/"
        },
        "id": "yyXOYLLedUj9",
        "outputId": "e45f6931-525e-4f0f-9b88-26fc99c0662d"
      },
      "execution_count": 13,
      "outputs": [
        {
          "output_type": "stream",
          "name": "stdout",
          "text": [
            "[[1, 4], [5]]\n"
          ]
        }
      ]
    },
    {
      "cell_type": "markdown",
      "source": [
        "💡 **Question 5**\n",
        "\n",
        "Given two integer arrays arr1 and arr2, and the integer d, *return the distance value between the two arrays*.\n",
        "\n",
        "The distance value is defined as the number of elements arr1[i] such that there is not any element arr2[j] where |arr1[i]-arr2[j]| <= d."
      ],
      "metadata": {
        "id": "qYxuRKMVaG_K"
      }
    },
    {
      "cell_type": "code",
      "source": [
        "def distance_value(arr1, arr2, d):\n",
        "    distance = 0\n",
        "    for num1 in arr1:\n",
        "        for num2 in arr2:\n",
        "            if abs(num1 - num2) <= d:\n",
        "                break\n",
        "        else:\n",
        "            distance += 1\n",
        "    return distance"
      ],
      "metadata": {
        "id": "ARXYVRKKaMUX"
      },
      "execution_count": 14,
      "outputs": []
    },
    {
      "cell_type": "code",
      "source": [
        "arr1 = [4, 5, 8]\n",
        "arr2 = [10, 9, 1, 3]\n",
        "d = 3\n",
        "result = distance_value(arr1, arr2, d)\n",
        "print(result)"
      ],
      "metadata": {
        "colab": {
          "base_uri": "https://localhost:8080/"
        },
        "id": "FLxRnsCUdga1",
        "outputId": "560dee39-c9fb-49ef-8a9c-088ce3d0a4ed"
      },
      "execution_count": 15,
      "outputs": [
        {
          "output_type": "stream",
          "name": "stdout",
          "text": [
            "0\n"
          ]
        }
      ]
    },
    {
      "cell_type": "markdown",
      "source": [
        "\n",
        "💡 **Question 6**\n",
        "\n",
        "Given an integer array nums of length n where all the integers of nums are in the range [1, n] and each integer appears **once** or **twice**, return *an array of all the integers that appears **twice***.\n",
        "\n",
        "You must write an algorithm that runs in O(n) time and uses only constant extra space."
      ],
      "metadata": {
        "id": "XnnVqZvjaG7_"
      }
    },
    {
      "cell_type": "code",
      "source": [
        "def find_duplicates(nums):\n",
        "    duplicates = []\n",
        "    \n",
        "    for num in nums:\n",
        "        index = abs(num) - 1\n",
        "        if nums[index] < 0:\n",
        "            duplicates.append(abs(num))\n",
        "        else:\n",
        "            nums[index] = -nums[index]\n",
        "    \n",
        "    return duplicates"
      ],
      "metadata": {
        "id": "nyDVvDVjaOmh"
      },
      "execution_count": 16,
      "outputs": []
    },
    {
      "cell_type": "code",
      "source": [
        "nums = [4, 3, 2, 7, 8, 2, 3, 1]\n",
        "result = find_duplicates(nums)\n",
        "print(result)"
      ],
      "metadata": {
        "colab": {
          "base_uri": "https://localhost:8080/"
        },
        "id": "CkyAwLPeduMD",
        "outputId": "ec7a189d-7dd4-4967-8f2c-c91ba67f0879"
      },
      "execution_count": 17,
      "outputs": [
        {
          "output_type": "stream",
          "name": "stdout",
          "text": [
            "[2, 3]\n"
          ]
        }
      ]
    },
    {
      "cell_type": "markdown",
      "source": [
        "💡 **Question 7**\n",
        "\n",
        "Suppose an array of length n sorted in ascending order is **rotated** between 1 and n times. For example, the array nums = [0,1,2,4,5,6,7] might become:\n",
        "\n",
        "- [4,5,6,7,0,1,2] if it was rotated 4 times.\n",
        "- [0,1,2,4,5,6,7] if it was rotated 7 times.\n",
        "\n",
        "Notice that **rotating** an array [a[0], a[1], a[2], ..., a[n-1]] 1 time results in the array [a[n-1], a[0], a[1], a[2], ..., a[n-2]].\n",
        "\n",
        "Given the sorted rotated array nums of **unique** elements, return *the minimum element of this array*.\n",
        "\n",
        "You must write an algorithm that runs in O(log n) time."
      ],
      "metadata": {
        "id": "nA9KCtu4aG5R"
      }
    },
    {
      "cell_type": "code",
      "source": [
        "def find_minimum(nums):\n",
        "    left = 0\n",
        "    right = len(nums) - 1\n",
        "    \n",
        "    while left < right:\n",
        "        mid = left + (right - left) // 2\n",
        "        \n",
        "        if nums[mid] > nums[right]:\n",
        "            left = mid + 1\n",
        "        else:\n",
        "            right = mid\n",
        "    \n",
        "    return nums[left]"
      ],
      "metadata": {
        "id": "yPoskM9xaOGP"
      },
      "execution_count": 18,
      "outputs": []
    },
    {
      "cell_type": "code",
      "source": [
        "nums = [4, 5, 6, 7, 0, 1, 2]\n",
        "result = find_minimum(nums)\n",
        "print(result)"
      ],
      "metadata": {
        "colab": {
          "base_uri": "https://localhost:8080/"
        },
        "id": "2TqruP5Ad5jk",
        "outputId": "e15eb278-47f0-48f7-dd75-ffd33d07ef32"
      },
      "execution_count": 19,
      "outputs": [
        {
          "output_type": "stream",
          "name": "stdout",
          "text": [
            "0\n"
          ]
        }
      ]
    },
    {
      "cell_type": "markdown",
      "source": [
        "💡 **Question 8**\n",
        "\n",
        "An integer array original is transformed into a **doubled** array changed by appending **twice the value** of every element in original, and then randomly **shuffling** the resulting array.\n",
        "\n",
        "Given an array changed, return original *if* changed *is a **doubled** array. If* changed *is not a **doubled** array, return an empty array. The elements in* original *may be returned in **any** order*.\n"
      ],
      "metadata": {
        "id": "lfxXbp0EaIwR"
      }
    },
    {
      "cell_type": "code",
      "execution_count": 24,
      "metadata": {
        "id": "Zy4RBD_vaCNm"
      },
      "outputs": [],
      "source": [
        "def find_original(changed):\n",
        "    original = []\n",
        "    count = {}\n",
        "    \n",
        "    # Count the frequency of each element in the changed array\n",
        "    for num in changed:\n",
        "        count[num] = count.get(num, 0) + 1\n",
        "    \n",
        "    # Iterate over the unique elements in the changed array\n",
        "    for num in set(changed):\n",
        "        if count.get(num * 2, 0) != count[num]:\n",
        "            return []\n",
        "        original.extend([num] * count[num])\n",
        "    \n",
        "    return original"
      ]
    }
  ]
}