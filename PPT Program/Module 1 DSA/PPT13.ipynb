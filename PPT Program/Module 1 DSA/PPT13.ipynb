{
  "nbformat": 4,
  "nbformat_minor": 0,
  "metadata": {
    "colab": {
      "provenance": []
    },
    "kernelspec": {
      "name": "python3",
      "display_name": "Python 3"
    },
    "language_info": {
      "name": "python"
    }
  },
  "cells": [
    {
      "cell_type": "markdown",
      "source": [
        "<aside>\n",
        "💡 **Question 1**\n",
        "\n",
        "Given two linked list of the same size, the task is to create a new linked list using those linked lists. The condition is that the greater node among both linked list will be added to the new linked list.\n",
        "\n",
        "</aside>"
      ],
      "metadata": {
        "id": "smKD40-73Oza"
      }
    },
    {
      "cell_type": "code",
      "source": [
        "class Node:\n",
        "    def __init__(self, data):\n",
        "        self.data = data\n",
        "        self.next = None\n",
        "\n",
        "def create_new_linked_list(head1, head2):\n",
        "    new_head = None\n",
        "    current = None\n",
        "    ptr1 = head1\n",
        "    ptr2 = head2\n",
        "\n",
        "    while ptr1 is not None and ptr2 is not None:\n",
        "        if ptr1.data >= ptr2.data:\n",
        "            new_node = Node(ptr1.data)\n",
        "            ptr1 = ptr1.next\n",
        "        else:\n",
        "            new_node = Node(ptr2.data)\n",
        "            ptr2 = ptr2.next\n",
        "\n",
        "        if new_head is None:\n",
        "            new_head = new_node\n",
        "            current = new_head\n",
        "        else:\n",
        "            current.next = new_node\n",
        "            current = current.next\n",
        "\n",
        "    remaining_ptr = ptr1 if ptr1 is not None else ptr2\n",
        "    while remaining_ptr is not None:\n",
        "        new_node = Node(remaining_ptr.data)\n",
        "        current.next = new_node\n",
        "        current = current.next\n",
        "        remaining_ptr = remaining_ptr.next\n",
        "\n",
        "    return new_head"
      ],
      "metadata": {
        "id": "fRgdQHKT3Osg"
      },
      "execution_count": 9,
      "outputs": []
    },
    {
      "cell_type": "markdown",
      "source": [
        "<aside>\n",
        "💡 **Question 2**\n",
        "\n",
        "Write a function that takes a list sorted in non-decreasing order and deletes any duplicate nodes from the list. The list should only be traversed once.\n",
        "\n",
        "For example if the linked list is 11->11->11->21->43->43->60 then removeDuplicates() should convert the list to 11->21->43->60.\n",
        "\n",
        "</aside>"
      ],
      "metadata": {
        "id": "_YLImdZP3Oka"
      }
    },
    {
      "cell_type": "code",
      "source": [
        "class Node:\n",
        "    def __init__(self, data):\n",
        "        self.data = data\n",
        "        self.next = None\n",
        "\n",
        "def remove_duplicates(head):\n",
        "    if head is None or head.next is None:\n",
        "        return head\n",
        "\n",
        "    current = head\n",
        "    while current.next is not None:\n",
        "        if current.data == current.next.data:\n",
        "            current.next = current.next.next\n",
        "        else:\n",
        "            current = current.next\n",
        "\n",
        "    return head\n"
      ],
      "metadata": {
        "id": "Wo6gDmNo3Odx"
      },
      "execution_count": 10,
      "outputs": []
    },
    {
      "cell_type": "markdown",
      "source": [
        "<aside>\n",
        "💡 **Question 3**\n",
        "\n",
        "Given a linked list of size **N**. The task is to reverse every **k** nodes (where k is an input to the function) in the linked list. If the number of nodes is not a multiple of *k* then left-out nodes, in the end, should be considered as a group and must be reversed (See Example 2 for clarification)\n",
        "\n",
        "</aside>"
      ],
      "metadata": {
        "id": "D60fRvK03OVQ"
      }
    },
    {
      "cell_type": "code",
      "source": [
        "class Node:\n",
        "    def __init__(self, data):\n",
        "        self.data = data\n",
        "        self.next = None\n",
        "\n",
        "def reverse_k_nodes(head, k):\n",
        "    if head is None or k == 0:\n",
        "        return head\n",
        "\n",
        "    current = head\n",
        "    prev = None\n",
        "    next_node = None\n",
        "    count = 0\n",
        "\n",
        "    # Reverse the first k nodes\n",
        "    while current is not None and count < k:\n",
        "        next_node = current.next\n",
        "        current.next = prev\n",
        "        prev = current\n",
        "        current = next_node\n",
        "        count += 1\n",
        "\n",
        "    # Connect the reversed portion with the rest of the list\n",
        "    if next_node is not None:\n",
        "        head.next = reverse_k_nodes(next_node, k)\n",
        "\n",
        "    # Return the new head of the modified linked list\n",
        "    return prev\n"
      ],
      "metadata": {
        "id": "EWESZ7yv3ONw"
      },
      "execution_count": 11,
      "outputs": []
    },
    {
      "cell_type": "markdown",
      "source": [
        "<aside>\n",
        "💡 **Question 4**\n",
        "\n",
        "Given a linked list, write a function to reverse every alternate k nodes (where k is an input to the function) in an efficient way. Give the complexity of your algorithm.\n",
        "\n",
        "</aside>"
      ],
      "metadata": {
        "id": "Wmj5M_Ci3OFg"
      }
    },
    {
      "cell_type": "code",
      "source": [
        "class Node:\n",
        "    def __init__(self, data):\n",
        "        self.data = data\n",
        "        self.next = None\n",
        "\n",
        "def reverse_k_alternate(head, k):\n",
        "    if head is None or k == 0:\n",
        "        return head\n",
        "\n",
        "    current = head\n",
        "    prev = None\n",
        "    count = 0\n",
        "\n",
        "    # Reverse the first k nodes\n",
        "    while current is not None and count < k:\n",
        "        next_node = current.next\n",
        "        current.next = prev\n",
        "        prev = current\n",
        "        current = next_node\n",
        "        count += 1\n",
        "\n",
        "    # Connect the reversed portion with the rest of the list\n",
        "    if head is not None:\n",
        "        head.next = current\n",
        "\n",
        "    # Skip the next k nodes\n",
        "    count = 0\n",
        "    while count < k-1 and current is not None:\n",
        "        current = current.next\n",
        "        count += 1\n",
        "\n",
        "    # Recursively reverse the next k nodes\n",
        "    if current is not None:\n",
        "        current.next = reverse_k_alternate(current.next, k)\n",
        "\n",
        "    # Return the new head of the modified linked list\n",
        "    return prev\n"
      ],
      "metadata": {
        "id": "FazRi95a3N94"
      },
      "execution_count": 12,
      "outputs": []
    },
    {
      "cell_type": "markdown",
      "source": [
        "<aside>\n",
        "💡 **Question 5**\n",
        "\n",
        "Given a linked list and a key to be deleted. Delete last occurrence of key from linked. The list may have duplicates.\n",
        "\n",
        "</aside>"
      ],
      "metadata": {
        "id": "QrztQX1I3N1Q"
      }
    },
    {
      "cell_type": "code",
      "source": [
        "class Node:\n",
        "    def __init__(self, data):\n",
        "        self.data = data\n",
        "        self.next = None\n",
        "\n",
        "def delete_last_occurrence(head, key):\n",
        "    if head is None:\n",
        "        return None\n",
        "\n",
        "    prev = None\n",
        "    toDelete = None\n",
        "    current = head\n",
        "\n",
        "    while current is not None:\n",
        "        if current.data == key:\n",
        "            prev = toDelete\n",
        "            toDelete = current\n",
        "\n",
        "        current = current.next\n",
        "\n",
        "    if toDelete is None:\n",
        "        return head\n",
        "\n",
        "    if toDelete == head:\n",
        "        head = head.next\n",
        "    else:\n",
        "        prev.next = toDelete.next\n",
        "\n",
        "    del toDelete\n",
        "\n",
        "    return head\n"
      ],
      "metadata": {
        "id": "JeO-NZDk3NsY"
      },
      "execution_count": 13,
      "outputs": []
    },
    {
      "cell_type": "markdown",
      "source": [
        "<aside>\n",
        "💡 **Question 6**\n",
        "\n",
        "Given two sorted linked lists consisting of **N** and **M** nodes respectively. The task is to merge both of the lists (in place) and return the head of the merged list.\n",
        "\n",
        "**Examples:**\n",
        "\n",
        "Input: a: 5->10->15, b: 2->3->20\n",
        "\n",
        "Output: 2->3->5->10->15->20\n",
        "\n",
        "Input: a: 1->1, b: 2->4\n",
        "\n",
        "Output: 1->1->2->4\n",
        "\n",
        "</aside>"
      ],
      "metadata": {
        "id": "Obn8Fskd3gfK"
      }
    },
    {
      "cell_type": "code",
      "source": [
        "class Node:\n",
        "    def __init__(self, data):\n",
        "        self.data = data\n",
        "        self.next = None\n",
        "\n",
        "def merge_sorted_lists(head_a, head_b):\n",
        "    dummy_node = Node(0)\n",
        "    merged_head = dummy_node\n",
        "    current = dummy_node\n",
        "\n",
        "    ptr_a = head_a\n",
        "    ptr_b = head_b\n",
        "\n",
        "    while ptr_a is not None and ptr_b is not None:\n",
        "        if ptr_a.data <= ptr_b.data:\n",
        "            current.next = ptr_a\n",
        "            ptr_a = ptr_a.next\n",
        "        else:\n",
        "            current.next = ptr_b\n",
        "            ptr_b = ptr_b.next\n",
        "\n",
        "        current = current.next\n",
        "\n",
        "    if ptr_a is not None:\n",
        "        current.next = ptr_a\n",
        "\n",
        "    if ptr_b is not None:\n",
        "        current.next = ptr_b\n",
        "\n",
        "    return merged_head.next\n"
      ],
      "metadata": {
        "id": "H6FshbZC3igz"
      },
      "execution_count": 14,
      "outputs": []
    },
    {
      "cell_type": "markdown",
      "source": [
        "<aside>\n",
        "💡 **Question 7**\n",
        "\n",
        "Given a **Doubly Linked List**, the task is to reverse the given Doubly Linked List.\n",
        "\n",
        "</aside>"
      ],
      "metadata": {
        "id": "Btq3i21F3lS6"
      }
    },
    {
      "cell_type": "code",
      "source": [
        "class Node:\n",
        "    def __init__(self, data):\n",
        "        self.data = data\n",
        "        self.prev = None\n",
        "        self.next = None\n",
        "\n",
        "def reverse_doubly_linked_list(head):\n",
        "    if head is None or head.next is None:\n",
        "        return head\n",
        "\n",
        "    current = head\n",
        "    prev = None\n",
        "\n",
        "    while current is not None:\n",
        "        next_node = current.next\n",
        "\n",
        "        current.next = prev\n",
        "        current.prev = next_node\n",
        "\n",
        "        prev = current\n",
        "        current = next_node\n",
        "\n",
        "    head = prev\n",
        "    head.prev = None\n",
        "\n",
        "    tail = head\n",
        "    while tail.next is not None:\n",
        "        tail = tail.next\n",
        "\n",
        "    tail.next = None\n",
        "\n",
        "    return head\n"
      ],
      "metadata": {
        "id": "cnCqfXgB3ltn"
      },
      "execution_count": 15,
      "outputs": []
    },
    {
      "cell_type": "markdown",
      "source": [
        "<aside>\n",
        "💡 **Question 8**\n",
        "\n",
        "Given a doubly linked list and a position. The task is to delete a node from given position in a doubly linked list.\n",
        "\n",
        "</aside>"
      ],
      "metadata": {
        "id": "naqkymYp3ncf"
      }
    },
    {
      "cell_type": "code",
      "source": [
        "class Node:\n",
        "    def __init__(self, data):\n",
        "        self.data = data\n",
        "        self.prev = None\n",
        "        self.next = None\n",
        "\n",
        "def delete_node(head, position):\n",
        "    if head is None:\n",
        "        return None\n",
        "\n",
        "    if position == 0:\n",
        "        if head.next is not None:\n",
        "            head.next.prev = None\n",
        "        return head.next\n",
        "\n",
        "    current = head\n",
        "    count = 0\n",
        "\n",
        "    while current is not None:\n",
        "        if count == position:\n",
        "            prev_node = current.prev\n",
        "            next_node = current.next\n",
        "\n",
        "            prev_node.next = next_node\n",
        "\n",
        "            if next_node is not None:\n",
        "                next_node.prev = prev_node\n",
        "\n",
        "            del current\n",
        "            break\n",
        "\n",
        "        current = current.next\n",
        "        count += 1\n",
        "\n",
        "    return head\n"
      ],
      "metadata": {
        "id": "RhuBZRaD3n7n"
      },
      "execution_count": 16,
      "outputs": []
    }
  ]
}