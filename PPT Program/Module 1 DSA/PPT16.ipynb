{
 "cells": [
  {
   "cell_type": "markdown",
   "id": "67717a68",
   "metadata": {},
   "source": [
    "<aside>\n",
    "💡 **Question 1**\n",
    "\n",
    "Given an array, for each element find the value of the nearest element to the right which is having a frequency greater than that of the current element. If there does not exist an answer for a position, then make the value ‘-1’.\n",
    "\n",
    "</aside>"
   ]
  },
  {
   "cell_type": "code",
   "execution_count": 2,
   "id": "41216264",
   "metadata": {},
   "outputs": [
    {
     "name": "stdout",
     "output_type": "stream",
     "text": [
      "[-1, -1, 1, 2, 2, 1, -1]\n"
     ]
    }
   ],
   "source": [
    "def nearest_element_with_greater_frequency(arr):\n",
    "    n = len(arr)\n",
    "    frequency = {}\n",
    "    stack = []\n",
    "\n",
    "    # Calculate the frequency of each element\n",
    "    for num in arr:\n",
    "        frequency[num] = frequency.get(num, 0) + 1\n",
    "\n",
    "    result = [-1] * n\n",
    "\n",
    "    # Iterate through the array in reverse order\n",
    "    for i in range(n - 1, -1, -1):\n",
    "        current_num = arr[i]\n",
    "        current_freq = frequency[current_num]\n",
    "\n",
    "        # Pop elements from the stack until an element with greater frequency is found\n",
    "        while stack and frequency[arr[stack[-1]]] <= current_freq:\n",
    "            stack.pop()\n",
    "\n",
    "        if stack:\n",
    "            result[i] = arr[stack[-1]]  # Found nearest element with greater frequency\n",
    "\n",
    "        stack.append(i)  # Push current element index to stack\n",
    "\n",
    "    return result\n",
    "\n",
    "\n",
    "# Example usage\n",
    "arr = [1, 1, 2, 3, 4, 2, 1]\n",
    "result = nearest_element_with_greater_frequency(arr)\n",
    "print(result)"
   ]
  },
  {
   "cell_type": "markdown",
   "id": "e6736afb",
   "metadata": {},
   "source": [
    "<aside>\n",
    "💡 **Question 2**\n",
    "\n",
    "Given a stack of integers, sort it in ascending order using another temporary stack.\n",
    "\n",
    "</aside>"
   ]
  },
  {
   "cell_type": "code",
   "execution_count": 4,
   "id": "4625d836",
   "metadata": {},
   "outputs": [
    {
     "name": "stdout",
     "output_type": "stream",
     "text": [
      "[9, 8, 5, 2, 1]\n"
     ]
    }
   ],
   "source": [
    "def sort_stack(stack):\n",
    "    temp_stack = []\n",
    "\n",
    "    while stack:\n",
    "        # Remove the top element from the original stack\n",
    "        temp = stack.pop()\n",
    "\n",
    "        # Move elements from the temporary stack to the original stack until the right position for the current element is found\n",
    "        while temp_stack and temp_stack[-1] > temp:\n",
    "            stack.append(temp_stack.pop())\n",
    "\n",
    "        # Push the current element to the temporary stack\n",
    "        temp_stack.append(temp)\n",
    "\n",
    "    # Move elements from the temporary stack back to the original stack to get the sorted order\n",
    "    while temp_stack:\n",
    "        stack.append(temp_stack.pop())\n",
    "\n",
    "    return stack\n",
    "\n",
    "\n",
    "# Example usage\n",
    "stack = [5, 2, 8, 1, 9]\n",
    "result = sort_stack(stack)\n",
    "print(result)\n"
   ]
  },
  {
   "cell_type": "markdown",
   "id": "42f5bc8e",
   "metadata": {},
   "source": [
    "<aside>\n",
    "💡 **Question 3**\n",
    "\n",
    "Given a stack with **push()**, **pop()**, and **empty()** operations, The task is to delete the **middle** element ****of it without using any additional data structure.\n",
    "\n",
    "Input  : Stack[] = [1, 2, 3, 4, 5]\n",
    "\n",
    "Output : Stack[] = [1, 2, 4, 5]\n",
    "\n",
    "Input  : Stack[] = [1, 2, 3, 4, 5, 6]\n",
    "\n",
    "Output : Stack[] = [1, 2, 4, 5, 6]\n",
    "\n",
    "</aside>"
   ]
  },
  {
   "cell_type": "code",
   "execution_count": 5,
   "id": "8ec8bb02",
   "metadata": {},
   "outputs": [
    {
     "name": "stdout",
     "output_type": "stream",
     "text": [
      "[1, 2, 4, 5]\n",
      "[1, 2, 4, 5, 6]\n"
     ]
    }
   ],
   "source": [
    "def delete_middle_element(stack):\n",
    "    n = len(stack)\n",
    "    if n == 0:\n",
    "        return stack\n",
    "\n",
    "    # Find the middle index\n",
    "    middle = n // 2 + 1\n",
    "\n",
    "    # Helper function to delete the middle element recursively\n",
    "    def delete_middle_helper(stack, k):\n",
    "        if k == 1:\n",
    "            stack.pop()\n",
    "            return\n",
    "        temp = stack.pop()\n",
    "        delete_middle_helper(stack, k - 1)\n",
    "        stack.append(temp)\n",
    "\n",
    "    # Call the helper function to delete the middle element\n",
    "    delete_middle_helper(stack, middle)\n",
    "\n",
    "    return stack\n",
    "\n",
    "\n",
    "# Example usage\n",
    "stack1 = [1, 2, 3, 4, 5]\n",
    "result1 = delete_middle_element(stack1)\n",
    "print(result1)\n",
    "\n",
    "stack2 = [1, 2, 3, 4, 5, 6]\n",
    "result2 = delete_middle_element(stack2)\n",
    "print(result2)"
   ]
  },
  {
   "cell_type": "markdown",
   "id": "1c03386b",
   "metadata": {},
   "source": [
    "<aside>\n",
    "💡 **Question 4**\n",
    "\n",
    "Given a Queue consisting of first **n** natural numbers (in random order). The task is to check whether the given Queue elements can be arranged in increasing order in another Queue using a stack. The operation allowed are:\n",
    "\n",
    "1. Push and pop elements from the stack\n",
    "2. Pop (Or Dequeue) from the given Queue.\n",
    "3. Push (Or Enqueue) in the another Queue.\n",
    "\n",
    "**Examples :**\n",
    "\n",
    "Input : Queue[] = { 5, 1, 2, 3, 4 } \n",
    "\n",
    "Output : Yes \n",
    "\n",
    "Pop the first element of the given Queue \n",
    "\n",
    "i.e 5. Push 5 into the stack. \n",
    "\n",
    "Now, pop all the elements of the given Queue and push them to second Queue. \n",
    "\n",
    "Now, pop element 5 in the stack and push it to the second Queue.   \n",
    "\n",
    "Input : Queue[] = { 5, 1, 2, 6, 3, 4 } \n",
    "\n",
    "Output : No \n",
    "\n",
    "Push 5 to stack. \n",
    "\n",
    "Pop 1, 2 from given Queue and push it to another Queue. \n",
    "\n",
    "Pop 6 from given Queue and push to stack. \n",
    "\n",
    "Pop 3, 4 from given Queue and push to second Queue. \n",
    "\n",
    "Now, from using any of above operation, we cannot push 5 into the second Queue because it is below the 6 in the stack.\n",
    "\n",
    "</aside>"
   ]
  },
  {
   "cell_type": "code",
   "execution_count": 6,
   "id": "4cc4cf07",
   "metadata": {},
   "outputs": [
    {
     "name": "stdout",
     "output_type": "stream",
     "text": [
      "Yes\n",
      "No\n"
     ]
    }
   ],
   "source": [
    "def check_queue_order(queue):\n",
    "    n = len(queue)\n",
    "\n",
    "    # Initialize a stack and another queue\n",
    "    stack = []\n",
    "    new_queue = []\n",
    "\n",
    "    # Check if the queue is already sorted in increasing order\n",
    "    if sorted(queue) == queue:\n",
    "        return \"Yes\"\n",
    "\n",
    "    # Process the elements of the queue\n",
    "    while queue:\n",
    "        front = queue.pop(0)\n",
    "\n",
    "        # If the front element is in the right position, enqueue it to the new queue\n",
    "        if front == (len(new_queue) + 1):\n",
    "            new_queue.append(front)\n",
    "        \n",
    "        # If the stack is not empty and the top element is in the right position, pop it from the stack and enqueue it to the new queue\n",
    "        elif stack and stack[-1] == (len(new_queue) + 1):\n",
    "            new_queue.append(stack.pop())\n",
    "\n",
    "        # If none of the above conditions are met, push the front element to the stack\n",
    "        else:\n",
    "            stack.append(front)\n",
    "\n",
    "    # Check if the remaining elements in the stack can be enqueued to the new queue in increasing order\n",
    "    while stack:\n",
    "        if stack[-1] == (len(new_queue) + 1):\n",
    "            new_queue.append(stack.pop())\n",
    "        else:\n",
    "            return \"No\"\n",
    "\n",
    "    # Check if the new queue is sorted in increasing order\n",
    "    if sorted(new_queue) == new_queue:\n",
    "        return \"Yes\"\n",
    "    else:\n",
    "        return \"No\"\n",
    "\n",
    "\n",
    "# Example usage\n",
    "queue1 = [5, 1, 2, 3, 4]\n",
    "result1 = check_queue_order(queue1)\n",
    "print(result1)\n",
    "\n",
    "queue2 = [5, 1, 2, 6, 3, 4]\n",
    "result2 = check_queue_order(queue2)\n",
    "print(result2)"
   ]
  },
  {
   "cell_type": "markdown",
   "id": "ca6fac62",
   "metadata": {},
   "source": [
    "<aside>\n",
    "💡 **Question 5**\n",
    "\n",
    "Given a number , write a program to reverse this number using stack.\n",
    "\n",
    "</aside>"
   ]
  },
  {
   "cell_type": "code",
   "execution_count": 7,
   "id": "1ce5bc03",
   "metadata": {},
   "outputs": [
    {
     "name": "stdout",
     "output_type": "stream",
     "text": [
      "54321\n"
     ]
    }
   ],
   "source": [
    "def reverse_number(number):\n",
    "    stack = []\n",
    "    result = 0\n",
    "\n",
    "    # Push each digit of the number to the stack\n",
    "    while number > 0:\n",
    "        digit = number % 10\n",
    "        stack.append(digit)\n",
    "        number //= 10\n",
    "\n",
    "    # Pop digits from the stack and build the reversed number\n",
    "    multiplier = 1\n",
    "    while stack:\n",
    "        digit = stack.pop()\n",
    "        result += digit * multiplier\n",
    "        multiplier *= 10\n",
    "\n",
    "    return result\n",
    "\n",
    "\n",
    "# Example usage\n",
    "number = 12345\n",
    "reversed_number = reverse_number(number)\n",
    "print(reversed_number)"
   ]
  },
  {
   "cell_type": "markdown",
   "id": "e78a9eea",
   "metadata": {},
   "source": [
    "<aside>\n",
    "💡 **Question 6**\n",
    "\n",
    "Given an integer k and a **[queue](https://www.geeksforgeeks.org/queue-data-structure/)** of integers, The task is to reverse the order of the first **k** elements of the queue, leaving the other elements in the same relative order.\n",
    "\n",
    "Only following standard operations are allowed on queue.\n",
    "\n",
    "- **enqueue(x) :** Add an item x to rear of queue\n",
    "- **dequeue() :** Remove an item from front of queue\n",
    "- **size() :** Returns number of elements in queue.\n",
    "- **front() :** Finds front item.\n",
    "</aside>"
   ]
  },
  {
   "cell_type": "code",
   "execution_count": 8,
   "id": "2f0ef08e",
   "metadata": {},
   "outputs": [
    {
     "name": "stdout",
     "output_type": "stream",
     "text": [
      "3\n",
      "2\n",
      "1\n",
      "4\n",
      "5\n"
     ]
    }
   ],
   "source": [
    "from queue import Queue\n",
    "\n",
    "def reverse_k_elements(queue, k):\n",
    "    stack = []\n",
    "    \n",
    "    # Push the first k elements into the stack\n",
    "    for _ in range(k):\n",
    "        if queue.empty():\n",
    "            break\n",
    "        stack.append(queue.get())\n",
    "    \n",
    "    # Pop the elements from the stack and enqueue them back to the queue\n",
    "    while stack:\n",
    "        queue.put(stack.pop())\n",
    "    \n",
    "    # Move the remaining elements after the first k elements to the rear of the queue\n",
    "    for _ in range(queue.qsize() - k):\n",
    "        queue.put(queue.get())\n",
    "\n",
    "# Example usage\n",
    "queue = Queue()\n",
    "elements = [1, 2, 3, 4, 5]\n",
    "k = 3\n",
    "\n",
    "# Enqueue the elements into the queue\n",
    "for element in elements:\n",
    "    queue.put(element)\n",
    "\n",
    "# Reverse the order of the first k elements in the queue\n",
    "reverse_k_elements(queue, k)\n",
    "\n",
    "# Print the elements in the queue\n",
    "while not queue.empty():\n",
    "    print(queue.get())"
   ]
  },
  {
   "cell_type": "markdown",
   "id": "09d5d514",
   "metadata": {},
   "source": [
    "<aside>\n",
    "💡 **Question 7**\n",
    "\n",
    "Given a sequence of n strings, the task is to check if any two similar words come together and then destroy each other then print the number of words left in the sequence after this pairwise destruction.\n",
    "\n",
    "**Examples:**\n",
    "\n",
    "Input : ab aa aa bcd ab\n",
    "\n",
    "Output : 3\n",
    "\n",
    "*As aa, aa destroys each other so,*\n",
    "\n",
    "*ab bcd ab is the new sequence.*\n",
    "\n",
    "Input :  tom jerry jerry tom\n",
    "\n",
    "Output : 0\n",
    "\n",
    "*As first both jerry will destroy each other.*\n",
    "\n",
    "*Then sequence will be tom, tom they will also destroy*\n",
    "\n",
    "*each other. So, the final sequence doesn’t contain any*\n",
    "\n",
    "*word.*\n",
    "\n",
    "</aside>"
   ]
  },
  {
   "cell_type": "code",
   "execution_count": 9,
   "id": "4dd183a5",
   "metadata": {},
   "outputs": [
    {
     "name": "stdout",
     "output_type": "stream",
     "text": [
      "Number of words left: 1\n"
     ]
    }
   ],
   "source": [
    "def destroy_similar_words(sequence):\n",
    "    stack = []\n",
    "    \n",
    "    # Iterate through the words in the sequence\n",
    "    for word in sequence:\n",
    "        if stack and stack[-1] == word:\n",
    "            # If the current word is similar to the top word in the stack, destroy both words\n",
    "            stack.pop()\n",
    "        else:\n",
    "            # Otherwise, push the current word to the stack\n",
    "            stack.append(word)\n",
    "    \n",
    "    # Return the number of words left in the stack after pairwise destruction\n",
    "    return len(stack)\n",
    "\n",
    "# Example usage\n",
    "sequence = [\"hello\", \"world\", \"world\", \"hello\", \"bye\", \"bye\", \"bye\"]\n",
    "\n",
    "remaining_words = destroy_similar_words(sequence)\n",
    "print(\"Number of words left:\", remaining_words)"
   ]
  },
  {
   "cell_type": "markdown",
   "id": "346dc7f5",
   "metadata": {},
   "source": [
    "💡 **Question 8**\n",
    "\n",
    "Given an array of integers, the task is to find the maximum absolute difference between the nearest left and the right smaller element of every element in the array.\n",
    "\n",
    "**Note:** If there is no smaller element on right side or left side of any element then we take zero as the smaller element. For example for the leftmost element, the nearest smaller element on the left side is considered as 0. Similarly, for rightmost elements, the smaller element on the right side is considered as 0."
   ]
  },
  {
   "cell_type": "code",
   "execution_count": 1,
   "id": "008d9440",
   "metadata": {},
   "outputs": [
    {
     "name": "stdout",
     "output_type": "stream",
     "text": [
      "4\n"
     ]
    }
   ],
   "source": [
    "def max_absolute_difference(arr):\n",
    "    n = len(arr)\n",
    "    left_smaller = [-1] * n  # Initialize left_smaller array with -1\n",
    "    right_smaller = [-1] * n  # Initialize right_smaller array with -1\n",
    "    stack = []  # Stack to store indices of elements\n",
    "\n",
    "    # Find nearest smaller element on the left side for each element\n",
    "    for i in range(n):\n",
    "        while stack and arr[stack[-1]] >= arr[i]:\n",
    "            stack.pop()\n",
    "        if stack:\n",
    "            left_smaller[i] = arr[stack[-1]]\n",
    "        stack.append(i)\n",
    "\n",
    "    # Clear the stack for finding nearest smaller element on the right side\n",
    "    stack.clear()\n",
    "\n",
    "    # Find nearest smaller element on the right side for each element\n",
    "    for i in range(n - 1, -1, -1):\n",
    "        while stack and arr[stack[-1]] >= arr[i]:\n",
    "            stack.pop()\n",
    "        if stack:\n",
    "            right_smaller[i] = arr[stack[-1]]\n",
    "        stack.append(i)\n",
    "\n",
    "    max_diff = float(\"-inf\")\n",
    "\n",
    "    # Calculate the maximum absolute difference\n",
    "    for i in range(n):\n",
    "        diff = abs(left_smaller[i] - right_smaller[i])\n",
    "        max_diff = max(max_diff, diff)\n",
    "\n",
    "    return max_diff\n",
    "\n",
    "\n",
    "# Example usage\n",
    "arr = [2, 4, 8, 7, 7, 9, 3]\n",
    "result = max_absolute_difference(arr)\n",
    "print(result)"
   ]
  }
 ],
 "metadata": {
  "kernelspec": {
   "display_name": "Python 3 (ipykernel)",
   "language": "python",
   "name": "python3"
  },
  "language_info": {
   "codemirror_mode": {
    "name": "ipython",
    "version": 3
   },
   "file_extension": ".py",
   "mimetype": "text/x-python",
   "name": "python",
   "nbconvert_exporter": "python",
   "pygments_lexer": "ipython3",
   "version": "3.10.9"
  }
 },
 "nbformat": 4,
 "nbformat_minor": 5
}
