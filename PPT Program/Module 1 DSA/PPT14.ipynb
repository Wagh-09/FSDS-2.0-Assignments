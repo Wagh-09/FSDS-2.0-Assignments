{
  "nbformat": 4,
  "nbformat_minor": 0,
  "metadata": {
    "colab": {
      "provenance": []
    },
    "kernelspec": {
      "name": "python3",
      "display_name": "Python 3"
    },
    "language_info": {
      "name": "python"
    }
  },
  "cells": [
    {
      "cell_type": "markdown",
      "source": [
        "<aside>\n",
        "💡 **Question 1**\n",
        "\n",
        "Given a linked list of **N** nodes such that it may contain a loop.\n",
        "\n",
        "A loop here means that the last node of the link list is connected to the node at position X(1-based index). If the link list does not have any loop, X=0.\n",
        "\n",
        "Remove the loop from the linked list, if it is present, i.e. unlink the last node which is forming the loop.\n",
        "\n",
        "</aside>"
      ],
      "metadata": {
        "id": "-ZucVxCq5ZVz"
      }
    },
    {
      "cell_type": "code",
      "source": [
        "class Node:\n",
        "    def __init__(self, data):\n",
        "        self.data = data\n",
        "        self.next = None\n",
        "\n",
        "def remove_loop(head):\n",
        "    if head is None or head.next is None:\n",
        "        return head\n",
        "\n",
        "    slow_ptr = head\n",
        "    fast_ptr = head\n",
        "\n",
        "    # Check if there is a loop\n",
        "    while fast_ptr and fast_ptr.next:\n",
        "        slow_ptr = slow_ptr.next\n",
        "        fast_ptr = fast_ptr.next.next\n",
        "        if slow_ptr == fast_ptr:\n",
        "            break\n",
        "\n",
        "    # If no loop is present, return the head\n",
        "    if slow_ptr != fast_ptr:\n",
        "        return head\n",
        "\n",
        "    # Move slow_ptr to the head and find the start of the loop\n",
        "    slow_ptr = head\n",
        "    while slow_ptr.next != fast_ptr.next:\n",
        "        slow_ptr = slow_ptr.next\n",
        "        fast_ptr = fast_ptr.next\n",
        "\n",
        "    # Remove the loop by setting the next pointer of the previous node to None\n",
        "    fast_ptr.next = None\n",
        "\n",
        "    return head"
      ],
      "metadata": {
        "id": "sabJBlpo5ZKC"
      },
      "execution_count": 17,
      "outputs": []
    },
    {
      "cell_type": "markdown",
      "source": [
        " **Question 2**\n",
        "\n",
        "A number **N** is represented in Linked List such that each digit corresponds to a node in linked list. You need to add 1 to it."
      ],
      "metadata": {
        "id": "1921-x195Y6i"
      }
    },
    {
      "cell_type": "code",
      "source": [
        "class Node:\n",
        "    def __init__(self, data):\n",
        "        self.data = data\n",
        "        self.next = None\n",
        "\n",
        "def reverse_linked_list(head):\n",
        "    prev = None\n",
        "    current = head\n",
        "\n",
        "    while current is not None:\n",
        "        next_node = current.next\n",
        "        current.next = prev\n",
        "        prev = current\n",
        "        current = next_node\n",
        "\n",
        "    return prev\n",
        "\n",
        "def add_one(head):\n",
        "    # Reverse the linked list\n",
        "    head = reverse_linked_list(head)\n",
        "\n",
        "    # Initialize carry\n",
        "    carry = 1\n",
        "\n",
        "    current = head\n",
        "\n",
        "    while current is not None:\n",
        "        # Add carry to the current node's data\n",
        "        current.data += carry\n",
        "\n",
        "        # Update carry\n",
        "        carry = current.data // 10\n",
        "\n",
        "        # Update current node's data\n",
        "        current.data %= 10\n",
        "\n",
        "        # Move to the next node\n",
        "        current = current.next\n",
        "\n",
        "    # If there is still a carry, append a new node to the end of the list\n",
        "    if carry > 0:\n",
        "        new_node = Node(carry)\n",
        "        current.next = new_node\n",
        "\n",
        "    # Reverse the linked list again\n",
        "    head = reverse_linked_list(head)\n",
        "\n",
        "    return head\n"
      ],
      "metadata": {
        "id": "V6eFBqfc5Yz5"
      },
      "execution_count": 18,
      "outputs": []
    },
    {
      "cell_type": "markdown",
      "source": [
        "💡 **Question 3**\n",
        "\n",
        "Given a Linked List of size N, where every node represents a sub-linked-list and contains two pointers:(i) a **next** pointer to the next node,(ii) a **bottom** pointer to a linked list where this node is head.Each of the sub-linked-list is in sorted order.Flatten the Link List such that all the nodes appear in a single level while maintaining the sorted order. **Note:** The flattened list will be printed using the bottom pointer instead of next pointer."
      ],
      "metadata": {
        "id": "CGkf_jII5Yrh"
      }
    },
    {
      "cell_type": "code",
      "source": [
        "class Node:\n",
        "    def __init__(self, data):\n",
        "        self.data = data\n",
        "        self.next = None\n",
        "        self.bottom = None\n",
        "\n",
        "def merge(a, b):\n",
        "    # If one of the linked lists is None, return the other list\n",
        "    if a is None:\n",
        "        return b\n",
        "    if b is None:\n",
        "        return a\n",
        "\n",
        "    # Create a dummy node to store the merged list\n",
        "    dummy = Node(0)\n",
        "\n",
        "    # Set the current pointer to the dummy node\n",
        "    current = dummy\n",
        "\n",
        "    # Merge the lists in sorted order\n",
        "    while a and b:\n",
        "        if a.data < b.data:\n",
        "            current.bottom = a\n",
        "            a = a.bottom\n",
        "        else:\n",
        "            current.bottom = b\n",
        "            b = b.bottom\n",
        "        current = current.bottom\n",
        "\n",
        "    # Attach the remaining nodes of the non-empty list\n",
        "    if a:\n",
        "        current.bottom = a\n",
        "    else:\n",
        "        current.bottom = b\n",
        "\n",
        "    return dummy.bottom\n",
        "\n",
        "def flatten(head):\n",
        "    # Base case: if the head is None or next pointer is None, return the head\n",
        "    if head is None or head.next is None:\n",
        "        return head\n",
        "\n",
        "    # Recursively flatten the remaining linked list after the current node\n",
        "    head.next = flatten(head.next)\n",
        "\n",
        "    # Merge the flattened sub-linked list with the current node's bottom linked list\n",
        "    head = merge(head, head.next)\n",
        "\n",
        "    return head"
      ],
      "metadata": {
        "id": "aXGSC0oZ5YiS"
      },
      "execution_count": 19,
      "outputs": []
    },
    {
      "cell_type": "markdown",
      "source": [
        "<aside>\n",
        "💡 **Question 4**\n",
        "\n",
        "You are given a special linked list with **N** nodes where each node has a next pointer pointing to its next node. You are also given **M** random pointers, where you will be given **M** number of pairs denoting two nodes **a** and **b**  **i.e. a->arb = b** (arb is pointer to random node)**.**\n",
        "\n",
        "Construct a copy of the given list. The copy should consist of exactly **N** new nodes, where each new node has its value set to the value of its corresponding original node. Both the next and random pointer of the new nodes should point to new nodes in the copied list such that the pointers in the original list and copied list represent the same list state. None of the pointers in the new list should point to nodes in the original list.\n",
        "\n",
        "For example, if there are two nodes **X** and **Y** in the original list, where **X.arb** **-->** **Y**, then for the corresponding two nodes **x** and **y** in the copied list, **x.arb --> y.**\n",
        "\n",
        "Return the head of the copied linked list.\n",
        "\n",
        "</aside>"
      ],
      "metadata": {
        "id": "j2wFB5l-5Yaw"
      }
    },
    {
      "cell_type": "markdown",
      "source": [
        "![clone.jpg](data:image/jpeg;base64,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)"
      ],
      "metadata": {
        "id": "4DGRS_zq5lyw"
      }
    },
    {
      "cell_type": "code",
      "source": [
        "class Node:\n",
        "    def __init__(self, val):\n",
        "        self.val = val\n",
        "        self.next = None\n",
        "        self.random = None\n",
        "\n",
        "def copyRandomList(head):\n",
        "    if head is None:\n",
        "        return None\n",
        "\n",
        "    node_map = {}\n",
        "\n",
        "    # Create a copy of each node and store it in the node_map\n",
        "    current = head\n",
        "    while current:\n",
        "        node_map[current] = Node(current.val)\n",
        "        current = current.next\n",
        "\n",
        "    # Set the next and random pointers of the copied nodes\n",
        "    current = head\n",
        "    while current:\n",
        "        copied_node = node_map[current]\n",
        "        copied_node.next = node_map.get(current.next)\n",
        "        copied_node.random = node_map.get(current.random)\n",
        "        current = current.next\n",
        "\n",
        "    return node_map[head]\n"
      ],
      "metadata": {
        "id": "sl_G4OdF5YOw"
      },
      "execution_count": 20,
      "outputs": []
    },
    {
      "cell_type": "markdown",
      "source": [
        "💡 **Question 5**\n",
        "\n",
        "Given the `head` of a singly linked list, group all the nodes with odd indices together followed by the nodes with even indices, and return *the reordered list*.\n",
        "\n",
        "The **first** node is considered **odd**, and the **second** node is **even**, and so on.\n",
        "\n",
        "Note that the relative order inside both the even and odd groups should remain as it was in the input.\n",
        "\n",
        "You must solve the problem in `O(1)` extra space complexity and `O(n)` time complexity.\n"
      ],
      "metadata": {
        "id": "s9xXwH0I5YEx"
      }
    },
    {
      "cell_type": "code",
      "source": [
        "class ListNode:\n",
        "    def __init__(self, val=0, next=None):\n",
        "        self.val = val\n",
        "        self.next = next\n",
        "\n",
        "def oddEvenList(head):\n",
        "    if head is None or head.next is None:\n",
        "        return head\n",
        "\n",
        "    odd_head = head\n",
        "    even_head = head.next\n",
        "    even_start = even_head\n",
        "\n",
        "    node = even_head.next\n",
        "    index = 3\n",
        "\n",
        "    while node is not None:\n",
        "        if index % 2 == 1:\n",
        "            odd_head.next = node\n",
        "            odd_head = odd_head.next\n",
        "        else:\n",
        "            even_head.next = node\n",
        "            even_head = even_head.next\n",
        "\n",
        "        node = node.next\n",
        "        index += 1\n",
        "\n",
        "    odd_head.next = even_start\n",
        "    if even_head is not None:\n",
        "        even_head.next = None\n",
        "\n",
        "    return head\n"
      ],
      "metadata": {
        "id": "HBnJjBh15X4w"
      },
      "execution_count": 21,
      "outputs": []
    },
    {
      "cell_type": "markdown",
      "source": [
        "💡 **Question 6**\n",
        "\n",
        "Given a singly linked list of size **N**. The task is to **left-shift** the linked list by **k** nodes, where **k** is a given positive integer smaller than or equal to length of the linked list."
      ],
      "metadata": {
        "id": "OS-OPGGK5Xro"
      }
    },
    {
      "cell_type": "code",
      "source": [
        "class ListNode:\n",
        "    def __init__(self, val=0, next=None):\n",
        "        self.val = val\n",
        "        self.next = next\n",
        "\n",
        "def leftShiftLinkedList(head, k):\n",
        "    if head is None or k <= 0:\n",
        "        return head\n",
        "\n",
        "    length = 0\n",
        "    node = head\n",
        "    while node.next is not None:\n",
        "        node = node.next\n",
        "        length += 1\n",
        "\n",
        "    k %= length + 1  # Handle cases where k is greater than the length of the list\n",
        "\n",
        "    if k == 0:\n",
        "        return head\n",
        "\n",
        "    slow = head\n",
        "    fast = head\n",
        "    for _ in range(k):\n",
        "        fast = fast.next\n",
        "\n",
        "    while fast.next is not None:\n",
        "        slow = slow.next\n",
        "        fast = fast.next\n",
        "\n",
        "    new_head = slow.next\n",
        "    slow.next = None\n",
        "    node.next = head\n",
        "\n",
        "    return new_head\n"
      ],
      "metadata": {
        "id": "SGwaggZW5XfU"
      },
      "execution_count": 22,
      "outputs": []
    },
    {
      "cell_type": "markdown",
      "source": [
        "💡 **Question 7**\n",
        "\n",
        "You are given the `head` of a linked list with `n` nodes.\n",
        "\n",
        "For each node in the list, find the value of the **next greater node**. That is, for each node, find the value of the first node that is next to it and has a **strictly larger** value than it.\n",
        "\n",
        "Return an integer array `answer` where `answer[i]` is the value of the next greater node of the `ith` node (**1-indexed**). If the `ith` node does not have a next greater node, set `answer[i] = 0`."
      ],
      "metadata": {
        "id": "qi8Np7QJ62nJ"
      }
    },
    {
      "cell_type": "code",
      "source": [
        "class ListNode:\n",
        "    def __init__(self, val=0, next=None):\n",
        "        self.val = val\n",
        "        self.next = next\n",
        "\n",
        "def nextGreaterNodes(head):\n",
        "    # Convert linked list to a list\n",
        "    values = []\n",
        "    node = head\n",
        "    while node:\n",
        "        values.append(node.val)\n",
        "        node = node.next\n",
        "\n",
        "    stack = []  # Stack to store indices of values\n",
        "    result = [0] * len(values)  # Initialize result array with zeros\n",
        "\n",
        "    for i in range(len(values)):\n",
        "        # Process values in descending order\n",
        "        while stack and values[i] > values[stack[-1]]:\n",
        "            result[stack.pop()] = values[i]\n",
        "        stack.append(i)\n",
        "\n",
        "    return result"
      ],
      "metadata": {
        "id": "CKkLU9jy61rr"
      },
      "execution_count": 23,
      "outputs": []
    },
    {
      "cell_type": "markdown",
      "source": [
        "<aside>\n",
        "💡 **Question 8**\n",
        "\n",
        "Given the `head` of a linked list, we repeatedly delete consecutive sequences of nodes that sum to `0` until there are no such sequences.\n",
        "\n",
        "After doing so, return the head of the final linked list.  You may return any such answer.\n",
        "\n",
        "(Note that in the examples below, all sequences are serializations of `ListNode` objects.)\n",
        "\n",
        "</aside>"
      ],
      "metadata": {
        "id": "z9V-quOV7DHn"
      }
    },
    {
      "cell_type": "code",
      "source": [
        "class ListNode:\n",
        "    def __init__(self, val=0, next=None):\n",
        "        self.val = val\n",
        "        self.next = next\n",
        "\n",
        "def removeZeroSumSublists(head):\n",
        "    # Create a dummy node to handle edge cases\n",
        "    dummy = ListNode(0)\n",
        "    dummy.next = head\n",
        "\n",
        "    # Create a prefix sum dictionary\n",
        "    prefix_sum = {}\n",
        "    prefix_sum[0] = dummy  # Initialize prefix sum 0 with dummy node\n",
        "    current_sum = 0\n",
        "\n",
        "    # Traverse the linked list and calculate prefix sums\n",
        "    node = head\n",
        "    while node:\n",
        "        current_sum += node.val\n",
        "\n",
        "        if current_sum in prefix_sum:\n",
        "            # Remove nodes between prefix sums\n",
        "            prev = prefix_sum[current_sum]\n",
        "            prev.next = node.next\n",
        "            node = prev.next\n",
        "\n",
        "            # Remove prefix sums from the dictionary\n",
        "            while prev.next:\n",
        "                current_sum += prev.next.val\n",
        "                del prefix_sum[current_sum]\n",
        "                prev = prev.next\n",
        "        else:\n",
        "            prefix_sum[current_sum] = node\n",
        "            node = node.next\n",
        "\n",
        "    return dummy.next"
      ],
      "metadata": {
        "id": "3CJ_v8ZG67TA"
      },
      "execution_count": 24,
      "outputs": []
    }
  ]
}