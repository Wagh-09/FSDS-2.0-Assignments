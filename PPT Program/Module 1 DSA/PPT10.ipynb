{
  "nbformat": 4,
  "nbformat_minor": 0,
  "metadata": {
    "colab": {
      "provenance": []
    },
    "kernelspec": {
      "name": "python3",
      "display_name": "Python 3"
    },
    "language_info": {
      "name": "python"
    }
  },
  "cells": [
    {
      "cell_type": "markdown",
      "source": [
        "<aside>\n",
        "💡 **Question 1**\n",
        "\n",
        "Given an integer `n`, return *`true` if it is a power of three. Otherwise, return `false`*.\n",
        "\n",
        "An integer `n` is a power of three, if there exists an integer `x` such that `n == 3x`.\n"
      ],
      "metadata": {
        "id": "g35d2YEPTlIU"
      }
    },
    {
      "cell_type": "code",
      "source": [
        "import math\n",
        "\n",
        "def is_power_of_three(n):\n",
        "    if n <= 0:\n",
        "        return False\n",
        "\n",
        "    x = math.log10(n) / math.log10(3)\n",
        "    return math.isclose(x, round(x))\n",
        "\n",
        "# Test the function\n",
        "print(is_power_of_three(27))  # Output: True\n",
        "print(is_power_of_three(0))  # Output: False"
      ],
      "metadata": {
        "colab": {
          "base_uri": "https://localhost:8080/"
        },
        "id": "5qYbA9f0Tq55",
        "outputId": "97d93050-e42c-46dd-f1b9-825904de3ad2"
      },
      "execution_count": 11,
      "outputs": [
        {
          "output_type": "stream",
          "name": "stdout",
          "text": [
            "True\n",
            "False\n"
          ]
        }
      ]
    },
    {
      "cell_type": "markdown",
      "source": [
        "💡 **Question 2**\n",
        "\n",
        "You have a list `arr` of all integers in the range `[1, n]` sorted in a strictly increasing order. Apply the following algorithm on `arr`:\n",
        "\n",
        "- Starting from left to right, remove the first number and every other number afterward until you reach the end of the list.\n",
        "- Repeat the previous step again, but this time from right to left, remove the rightmost number and every other number from the remaining numbers.\n",
        "- Keep repeating the steps again, alternating left to right and right to left, until a single number remains.\n",
        "\n",
        "Given the integer `n`, return *the last number that remains in* `arr`."
      ],
      "metadata": {
        "id": "IghjyahIStar"
      }
    },
    {
      "cell_type": "code",
      "source": [
        "def last_remaining_number(n):\n",
        "    arr = list(range(1, n + 1))  # Initialize the list arr with numbers from 1 to n\n",
        "\n",
        "    left_to_right = True  # Flag to indicate the direction of removal (left to right or right to left)\n",
        "\n",
        "    while len(arr) > 1:\n",
        "        if left_to_right:\n",
        "            # Remove every other number starting from the first number\n",
        "            arr = arr[1::2]\n",
        "        else:\n",
        "            # Remove every other number starting from the last number\n",
        "            arr = arr[-2::-2][::-1]  # Reverse the list before and after slicing to achieve right to left removal\n",
        "\n",
        "        left_to_right = not left_to_right  # Toggle the direction flag\n",
        "\n",
        "    return arr[0]  # Return the last remaining number\n",
        "\n",
        "# Test the function\n",
        "print(last_remaining_number(9))  # Output: 6"
      ],
      "metadata": {
        "colab": {
          "base_uri": "https://localhost:8080/"
        },
        "id": "AeBBz4rZSuEP",
        "outputId": "422f51b6-25ab-4eeb-a405-065a3f8db04c"
      },
      "execution_count": 10,
      "outputs": [
        {
          "output_type": "stream",
          "name": "stdout",
          "text": [
            "6\n"
          ]
        }
      ]
    },
    {
      "cell_type": "markdown",
      "source": [
        "💡 **Question 3**\n",
        "\n",
        "****Given a set represented as a string, write a recursive code to print all subsets of it. The subsets can be printed in any order."
      ],
      "metadata": {
        "id": "-vVL51wAStXJ"
      }
    },
    {
      "cell_type": "code",
      "source": [
        "def print_subsets(string):\n",
        "    subsets = []\n",
        "    generate_subsets(string, \"\", 0, subsets)\n",
        "    return subsets\n",
        "\n",
        "def generate_subsets(string, current_subset, index, subsets):\n",
        "    # Base case: when we have processed all characters in the string\n",
        "    if index == len(string):\n",
        "        subsets.append(current_subset)\n",
        "        return\n",
        "\n",
        "    # Recursive step: include the current character in the subset\n",
        "    generate_subsets(string, current_subset + string[index], index + 1, subsets)\n",
        "\n",
        "    # Recursive step: exclude the current character from the subset\n",
        "    generate_subsets(string, current_subset, index + 1, subsets)\n",
        "\n",
        "# Test the function\n",
        "print(print_subsets(\"abc\"))\n",
        "# Output: ['', 'c', 'b', 'bc', 'a', 'ac', 'ab', 'abc']\n",
        "\n",
        "print(print_subsets(\"abcd\"))\n",
        "# Output: ['', 'd', 'c', 'cd', 'b', 'bd', 'bc', 'bcd', 'a', 'ad', 'ac', 'acd', 'ab', 'abd', 'abc', 'abcd']"
      ],
      "metadata": {
        "colab": {
          "base_uri": "https://localhost:8080/"
        },
        "id": "Jx23CNhnSuny",
        "outputId": "d476c15b-ac64-4ecf-a16f-87281669bd01"
      },
      "execution_count": 9,
      "outputs": [
        {
          "output_type": "stream",
          "name": "stdout",
          "text": [
            "['abc', 'ab', 'ac', 'a', 'bc', 'b', 'c', '']\n",
            "['abcd', 'abc', 'abd', 'ab', 'acd', 'ac', 'ad', 'a', 'bcd', 'bc', 'bd', 'b', 'cd', 'c', 'd', '']\n"
          ]
        }
      ]
    },
    {
      "cell_type": "markdown",
      "source": [
        "💡 **Question 4**\n",
        "\n",
        "Given a string calculate length of the string using recursion.\n",
        "\n",
        "**Examples:**"
      ],
      "metadata": {
        "id": "6pV_SWbPStUK"
      }
    },
    {
      "cell_type": "code",
      "source": [
        "def calculate_length(string):\n",
        "    # Base case: an empty string has length 0\n",
        "    if string == \"\":\n",
        "        return 0\n",
        "\n",
        "    # Recursive step: remove the first character from the string\n",
        "    # and recursively calculate the length of the remaining string\n",
        "    return 1 + calculate_length(string[1:])\n",
        "\n",
        "# Test the function\n",
        "print(calculate_length(\"Hello\"))  # Output: 5\n",
        "print(calculate_length(\"Recursion\"))  # Output: 9\n",
        "print(calculate_length(\"\"))  # Output: 0"
      ],
      "metadata": {
        "colab": {
          "base_uri": "https://localhost:8080/"
        },
        "id": "P95CeiaJSvDw",
        "outputId": "2db56283-1163-4bf0-e740-16c9a8a5aa99"
      },
      "execution_count": 8,
      "outputs": [
        {
          "output_type": "stream",
          "name": "stdout",
          "text": [
            "5\n",
            "9\n",
            "0\n"
          ]
        }
      ]
    },
    {
      "cell_type": "markdown",
      "source": [
        "💡 **Question 5**\n",
        "\n",
        "We are given a string S, we need to find count of all contiguous substrings starting and ending with same character."
      ],
      "metadata": {
        "id": "Ory7ntJNStRS"
      }
    },
    {
      "cell_type": "code",
      "source": [
        "def count_substrings(s):\n",
        "    count = 0\n",
        "\n",
        "    # Iterate through each character in the string\n",
        "    for i in range(len(s)):\n",
        "        # Check if the current character is the same as the character at the end of the string\n",
        "        if s[i] == s[-1]:\n",
        "            # Increment the count by the number of substrings that can be formed starting from the current character\n",
        "            count += i + 1\n",
        "\n",
        "    return count\n",
        "\n",
        "# Test the function\n",
        "print(count_substrings(\"abcab\"))  # Output: 7\n",
        "print(count_substrings(\"aba\"))  # Output: 4\n",
        "print(count_substrings(\"aaaa\"))  # Output: 10"
      ],
      "metadata": {
        "colab": {
          "base_uri": "https://localhost:8080/"
        },
        "id": "JJ3lTez5SvXb",
        "outputId": "65e37ae0-77ac-4d28-b317-8770e5919ec9"
      },
      "execution_count": 7,
      "outputs": [
        {
          "output_type": "stream",
          "name": "stdout",
          "text": [
            "7\n",
            "4\n",
            "10\n"
          ]
        }
      ]
    },
    {
      "cell_type": "markdown",
      "source": [
        "User\n",
        "<aside>\n",
        "💡 **Question 6**\n",
        "\n",
        "The [tower of Hanoi](https://en.wikipedia.org/wiki/Tower_of_Hanoi) is a famous puzzle where we have three rods and **N** disks. The objective of the puzzle is to move the entire stack to another rod. You are given the number of discs **N**. Initially, these discs are in the rod 1. You need to print all the steps of discs movement so that all the discs reach the 3rd rod. Also, you need to find the total moves.**Note:** The discs are arranged such that the **top disc is numbered 1** and the **bottom-most disc is numbered N**. Also, all the discs have **different sizes** and a bigger disc **cannot** be put on the top of a smaller disc. Refer the provided link to get a better clarity about the puzzle.\n",
        "\n"
      ],
      "metadata": {
        "id": "_XpFsIqxSs6S"
      }
    },
    {
      "cell_type": "code",
      "source": [
        "def tower_of_hanoi(n, source, destination, auxiliary):\n",
        "    if n == 1:\n",
        "        print(\"move disk 1 from rod\", source, \"to rod\", destination)\n",
        "        return 1\n",
        "\n",
        "    moves = 0\n",
        "\n",
        "    moves += tower_of_hanoi(n - 1, source, auxiliary, destination)\n",
        "    print(\"move disk\", n, \"from rod\", source, \"to rod\", destination)\n",
        "    moves += 1\n",
        "    moves += tower_of_hanoi(n - 1, auxiliary, destination, source)\n",
        "\n",
        "    return moves\n",
        "\n",
        "\n",
        "# Test the function\n",
        "n = 2\n",
        "total_moves = tower_of_hanoi(n, 1, 3, 2)\n",
        "print(\"Total moves:\", total_moves)"
      ],
      "metadata": {
        "colab": {
          "base_uri": "https://localhost:8080/"
        },
        "id": "5KVVk3pBS6tI",
        "outputId": "29b3c729-403a-4a3d-bea0-7cc2bf80b106"
      },
      "execution_count": 5,
      "outputs": [
        {
          "output_type": "stream",
          "name": "stdout",
          "text": [
            "move disk 1 from rod 1 to rod 2\n",
            "move disk 2 from rod 1 to rod 3\n",
            "move disk 1 from rod 2 to rod 3\n",
            "Total moves: 3\n"
          ]
        }
      ]
    },
    {
      "cell_type": "code",
      "source": [
        "n = 2\n",
        "total_moves = tower_of_hanoi(n, 1, 3, 2)\n",
        "print(\"Total moves:\", total_moves)"
      ],
      "metadata": {
        "colab": {
          "base_uri": "https://localhost:8080/"
        },
        "id": "FY8Sv_2LS9l5",
        "outputId": "303c39ab-ce54-4b32-e110-15e1cf7e19e0"
      },
      "execution_count": 6,
      "outputs": [
        {
          "output_type": "stream",
          "name": "stdout",
          "text": [
            "move disk 1 from rod 1 to rod 2\n",
            "move disk 2 from rod 1 to rod 3\n",
            "move disk 1 from rod 2 to rod 3\n",
            "Total moves: 3\n"
          ]
        }
      ]
    },
    {
      "cell_type": "markdown",
      "source": [
        "💡 **Question 7**\n",
        "\n",
        "Given a string **str**, the task is to print all the permutations of **str**. A **permutation** is an arrangement of all or part of a set of objects, with regard to the order of the arrangement. For instance, the words ‘bat’ and ‘tab’ represents two distinct permutation (or arrangements) of a similar three letter word.\n",
        "\n",
        "**Examples:**\n",
        "\n",
        "> Input: str = “cd”\n",
        "> \n",
        "> \n",
        "> **Output:** cd dc\n",
        "> \n",
        "> **Input:** str = “abb”\n",
        "> \n",
        "> **Output:** abb abb bab bba bab bba"
      ],
      "metadata": {
        "id": "tSpeNloGShja"
      }
    },
    {
      "cell_type": "code",
      "source": [
        "def permute(string):\n",
        "    # Convert the string to a list of characters for easier manipulation\n",
        "    char_list = list(string)\n",
        "    result = []  # List to store the permutations\n",
        "\n",
        "    # Recursive function to generate permutations\n",
        "    def backtrack(start):\n",
        "        # Base case: if the start index reaches the end of the string\n",
        "        if start == len(char_list):\n",
        "            # Append the current permutation to the result list\n",
        "            result.append(\"\".join(char_list))\n",
        "            return\n",
        "\n",
        "        # Recursive step: try all possible characters at the current position\n",
        "        for i in range(start, len(char_list)):\n",
        "            # Swap the current character with the character at the start index\n",
        "            char_list[start], char_list[i] = char_list[i], char_list[start]\n",
        "\n",
        "            # Recursively generate permutations for the remaining characters\n",
        "            backtrack(start + 1)\n",
        "\n",
        "            # Restore the original order of characters (backtrack)\n",
        "            char_list[start], char_list[i] = char_list[i], char_list[start]\n",
        "\n",
        "    # Start the backtracking process\n",
        "    backtrack(0)\n",
        "\n",
        "    return result"
      ],
      "metadata": {
        "id": "KF40zLPWSiAq"
      },
      "execution_count": 3,
      "outputs": []
    },
    {
      "cell_type": "code",
      "source": [
        "print(permute(\"cd\"))\n",
        "# Output: ['cd', 'dc']\n",
        "\n",
        "print(permute(\"abb\"))\n",
        "# Output: ['abb', 'abb', 'bab', 'bba', 'bab', 'bba']"
      ],
      "metadata": {
        "colab": {
          "base_uri": "https://localhost:8080/"
        },
        "id": "iES-mAcnSmUK",
        "outputId": "3300dd19-6f72-42d8-ab71-480c94806555"
      },
      "execution_count": 4,
      "outputs": [
        {
          "output_type": "stream",
          "name": "stdout",
          "text": [
            "['cd', 'dc']\n",
            "['abb', 'abb', 'bab', 'bba', 'bba', 'bab']\n"
          ]
        }
      ]
    },
    {
      "cell_type": "markdown",
      "source": [
        "💡 **Question 8**\n",
        "\n",
        "Given a string, count total number of consonants in it. A consonant is an English alphabet character that is not vowel (a, e, i, o and u). Examples of constants are b, c, d, f, and g."
      ],
      "metadata": {
        "id": "1SsECe41SWuB"
      }
    },
    {
      "cell_type": "code",
      "execution_count": 1,
      "metadata": {
        "id": "oZT1rz_pRizV"
      },
      "outputs": [],
      "source": [
        "def count_consonants(string):\n",
        "    consonants = 'bcdfghjklmnpqrstvwxyzBCDFGHJKLMNPQRSTVWXYZ'\n",
        "    count = 0\n",
        "\n",
        "    for char in string:\n",
        "        if char in consonants:\n",
        "            count += 1\n",
        "\n",
        "    return count"
      ]
    },
    {
      "cell_type": "code",
      "source": [
        "print(count_consonants(\"Hello World\"))  # Output: 7\n",
        "print(count_consonants(\"OpenAI GPT-3.5\"))  # Output: 7\n",
        "print(count_consonants(\"aEiOu\"))  # Output: 0\n",
        "print(count_consonants(\"12345\"))  # Output: 0"
      ],
      "metadata": {
        "colab": {
          "base_uri": "https://localhost:8080/"
        },
        "id": "S76AgRr2SbF6",
        "outputId": "10edc1a4-111c-4580-dfa2-a594e6a16c40"
      },
      "execution_count": 2,
      "outputs": [
        {
          "output_type": "stream",
          "name": "stdout",
          "text": [
            "7\n",
            "5\n",
            "0\n",
            "0\n"
          ]
        }
      ]
    },
    {
      "cell_type": "code",
      "source": [],
      "metadata": {
        "id": "xdXIQWNTSc76"
      },
      "execution_count": null,
      "outputs": []
    }
  ]
}