{
  "nbformat": 4,
  "nbformat_minor": 0,
  "metadata": {
    "colab": {
      "provenance": []
    },
    "kernelspec": {
      "name": "python3",
      "display_name": "Python 3"
    },
    "language_info": {
      "name": "python"
    }
  },
  "cells": [
    {
      "cell_type": "markdown",
      "source": [
        "💡 **Question 1**\n",
        "\n",
        "Given two strings s and t, *determine if they are isomorphic*.\n",
        "\n",
        "Two strings s and t are isomorphic if the characters in s can be replaced to get t.\n",
        "\n",
        "All occurrences of a character must be replaced with another character while preserving the order of characters. No two characters may map to the same character, but a character may map to itself.\n",
        "\n",
        "**Example 1:**\n",
        "\n",
        "**Input:** s = \"egg\", t = \"add\"\n",
        "\n",
        "**Output:** true"
      ],
      "metadata": {
        "id": "fiOlixBQD_OH"
      }
    },
    {
      "cell_type": "code",
      "execution_count": 4,
      "metadata": {
        "colab": {
          "base_uri": "https://localhost:8080/"
        },
        "id": "IADpKe_2B8fR",
        "outputId": "6b1afd43-ba00-4db7-f009-6861a5f0acdc"
      },
      "outputs": [
        {
          "output_type": "stream",
          "name": "stdout",
          "text": [
            "True\n"
          ]
        }
      ],
      "source": [
        "def isomorphic_strings(s, t):\n",
        "    if len(s) != len(t):\n",
        "        return False\n",
        "\n",
        "    char_map = {}\n",
        "    used_chars = set()\n",
        "\n",
        "    for i in range(len(s)):\n",
        "        char_s = s[i]\n",
        "        char_t = t[i]\n",
        "\n",
        "        if char_s in char_map:\n",
        "            if char_map[char_s] != char_t:\n",
        "                return False\n",
        "        else:\n",
        "            if char_t in used_chars:\n",
        "                return False\n",
        "            char_map[char_s] = char_t\n",
        "            used_chars.add(char_t)\n",
        "\n",
        "    return True\n",
        "\n",
        "s = \"egg\"\n",
        "t = \"add\"\n",
        "print(isomorphic_strings(s, t))  # Output: True"
      ]
    },
    {
      "cell_type": "markdown",
      "source": [
        "💡 **Question 2**\n",
        "\n",
        "Given a string num which represents an integer, return true *if* num *is a **strobogrammatic number***.\n",
        "\n",
        "A **strobogrammatic number** is a number that looks the same when rotated 180 degrees (looked at upside down).\n",
        "\n",
        "**Example 1:**\n",
        "\n",
        "**Input:** num = \"69\"\n",
        "\n",
        "**Output:**\n",
        "\n",
        "true"
      ],
      "metadata": {
        "id": "PGnvf0Q7EQYV"
      }
    },
    {
      "cell_type": "code",
      "source": [
        "def is_strobogrammatic(num):\n",
        "    strobogrammatic_digits = {'0': '0', '1': '1', '6': '9', '8': '8', '9': '6'}\n",
        "\n",
        "    left = 0\n",
        "    right = len(num) - 1\n",
        "\n",
        "    while left <= right:\n",
        "        if num[left] not in strobogrammatic_digits or num[right] not in strobogrammatic_digits:\n",
        "            return False\n",
        "        if strobogrammatic_digits[num[left]] != num[right]:\n",
        "            return False\n",
        "\n",
        "        left += 1\n",
        "        right -= 1\n",
        "\n",
        "    return True\n",
        "\n",
        "num = \"69\"\n",
        "print(is_strobogrammatic(num))  # Output: True\n"
      ],
      "metadata": {
        "colab": {
          "base_uri": "https://localhost:8080/"
        },
        "id": "k8I12wdKEGBr",
        "outputId": "483ecfdf-727f-4609-bdee-1b28236f6d0a"
      },
      "execution_count": 6,
      "outputs": [
        {
          "output_type": "stream",
          "name": "stdout",
          "text": [
            "True\n"
          ]
        }
      ]
    },
    {
      "cell_type": "markdown",
      "source": [
        "💡 **Question 3**\n",
        "\n",
        "Given two non-negative integers, num1 and num2 represented as string, return *the sum of* num1 *and* num2 *as a string*.\n",
        "\n",
        "You must solve the problem without using any built-in library for handling large integers (such as BigInteger). You must also not convert the inputs to integers directly.\n",
        "\n",
        "**Example 1:**\n",
        "\n",
        "**Input:** num1 = \"11\", num2 = \"123\"\n",
        "\n",
        "**Output:**\n",
        "\n",
        "\"134\""
      ],
      "metadata": {
        "id": "ooQWffkqEcNh"
      }
    },
    {
      "cell_type": "code",
      "source": [
        "def add_strings(num1, num2):\n",
        "    i = len(num1) - 1\n",
        "    j = len(num2) - 1\n",
        "    carry = 0\n",
        "    result = []\n",
        "\n",
        "    while i >= 0 or j >= 0 or carry > 0:\n",
        "        digit1 = int(num1[i]) if i >= 0 else 0\n",
        "        digit2 = int(num2[j]) if j >= 0 else 0\n",
        "\n",
        "        total = digit1 + digit2 + carry\n",
        "        carry = total // 10\n",
        "        digit = total % 10\n",
        "\n",
        "        result.append(str(digit))\n",
        "\n",
        "        i -= 1\n",
        "        j -= 1\n",
        "\n",
        "    result.reverse()\n",
        "\n",
        "    return \"\".join(result)\n",
        "\n",
        "num1 = \"11\"\n",
        "num2 = \"123\"\n",
        "print(add_strings(num1, num2))  # Output: \"134\"\n"
      ],
      "metadata": {
        "colab": {
          "base_uri": "https://localhost:8080/"
        },
        "id": "pN-bDZ_mEUaR",
        "outputId": "5a206abf-0fa8-4a13-bb1e-7df0cd4fa983"
      },
      "execution_count": 8,
      "outputs": [
        {
          "output_type": "stream",
          "name": "stdout",
          "text": [
            "134\n"
          ]
        }
      ]
    },
    {
      "cell_type": "markdown",
      "source": [
        "💡 **Question 4**\n",
        "\n",
        "Given a string s, reverse the order of characters in each word within a sentence while still preserving whitespace and initial word order.\n",
        "\n",
        "**Example 1:**\n",
        "\n",
        "**Input:** s = \"Let's take LeetCode contest\"\n",
        "\n",
        "**Output:** \"s'teL ekat edoCteeL tsetnoc\""
      ],
      "metadata": {
        "id": "P_q6mxhtElcJ"
      }
    },
    {
      "cell_type": "code",
      "source": [
        "def reverse_words(s):\n",
        "    words = s.split()\n",
        "    reversed_words = [word[::-1] for word in words]\n",
        "    return ' '.join(reversed_words)\n",
        "\n",
        "s = \"Let's take LeetCode contest\"\n",
        "print(reverse_words(s))  # Output: \"s'teL ekat edoCteeL tsetnoc\"\n"
      ],
      "metadata": {
        "colab": {
          "base_uri": "https://localhost:8080/"
        },
        "id": "ZC9CDSPAEeeh",
        "outputId": "0e2da263-c59f-482f-f373-c3f15eaa87d4"
      },
      "execution_count": 10,
      "outputs": [
        {
          "output_type": "stream",
          "name": "stdout",
          "text": [
            "s'teL ekat edoCteeL tsetnoc\n"
          ]
        }
      ]
    },
    {
      "cell_type": "markdown",
      "source": [
        "💡 **Question 5**\n",
        "\n",
        "Given a string s and an integer k, reverse the first k characters for every 2k characters counting from the start of the string.\n",
        "\n",
        "If there are fewer than k characters left, reverse all of them. If there are less than 2k but greater than or equal to k characters, then reverse the first k characters and leave the other as original.\n",
        "\n",
        "**Example 1:**\n",
        "\n",
        "**Input:** s = \"abcdefg\", k = 2\n",
        "\n",
        "**Output:**\n",
        "\n",
        "\"bacdfeg\""
      ],
      "metadata": {
        "id": "HViibtvLEuca"
      }
    },
    {
      "cell_type": "code",
      "source": [
        "def reverse_str(s, k):\n",
        "    s = list(s)  # Convert string to list of characters\n",
        "\n",
        "    for i in range(0, len(s), 2*k):\n",
        "        s[i:i+k] = s[i:i+k][::-1]\n",
        "\n",
        "    return ''.join(s)\n",
        "\n",
        "s = \"abcdefg\"\n",
        "k = 2\n",
        "print(reverse_str(s, k))  # Output: \"bacdfeg\""
      ],
      "metadata": {
        "colab": {
          "base_uri": "https://localhost:8080/"
        },
        "id": "lJeV8VNsEoTz",
        "outputId": "485f7a41-182e-4c15-9720-da3df883bff2"
      },
      "execution_count": 13,
      "outputs": [
        {
          "output_type": "stream",
          "name": "stdout",
          "text": [
            "bacdfeg\n"
          ]
        }
      ]
    },
    {
      "cell_type": "markdown",
      "source": [
        "💡 **Question 6**\n",
        "\n",
        "Given two strings s and goal, return true *if and only if* s *can become* goal *after some number of **shifts** on* s.\n",
        "\n",
        "A **shift** on s consists of moving the leftmost character of s to the rightmost position.\n",
        "\n",
        "- For example, if s = \"abcde\", then it will be \"bcdea\" after one shift.\n",
        "\n",
        "**Example 1:**\n",
        "\n",
        "**Input:** s = \"abcde\", goal = \"cdeab\"\n",
        "\n",
        "**Output:**\n",
        "\n",
        "true"
      ],
      "metadata": {
        "id": "yIFUxDbHFF_5"
      }
    },
    {
      "cell_type": "code",
      "source": [
        "def can_shift(s, goal):\n",
        "    if len(s) != len(goal):\n",
        "        return False\n",
        "\n",
        "    s_double = s + s\n",
        "\n",
        "    return goal in s_double\n",
        "\n",
        "s = \"abcde\"\n",
        "goal = \"cdeab\"\n",
        "print(can_shift(s, goal))  # Output: True"
      ],
      "metadata": {
        "colab": {
          "base_uri": "https://localhost:8080/"
        },
        "id": "PV0Uy3PUEy06",
        "outputId": "ae234284-4215-4e77-ca46-706a437a09f5"
      },
      "execution_count": 15,
      "outputs": [
        {
          "output_type": "stream",
          "name": "stdout",
          "text": [
            "True\n"
          ]
        }
      ]
    },
    {
      "cell_type": "markdown",
      "source": [
        "💡 **Question 7**\n",
        "\n",
        "Given two strings s and t, return true *if they are equal when both are typed into empty text editors*. '#' means a backspace character.\n",
        "\n",
        "Note that after backspacing an empty text, the text will continue empty.\n",
        "\n",
        "**Example 1:**\n",
        "\n",
        "**Input:** s = \"ab#c\", t = \"ad#c\"\n",
        "\n",
        "**Output:** true\n",
        "\n",
        "**Explanation:**\n",
        "\n",
        "Both s and t become \"ac\"."
      ],
      "metadata": {
        "id": "ySy9kMnSFQzJ"
      }
    },
    {
      "cell_type": "code",
      "source": [
        "def process_string(string):\n",
        "    stack = []\n",
        "    for char in string:\n",
        "        if char != '#':\n",
        "            stack.append(char)\n",
        "        elif stack:\n",
        "            stack.pop()\n",
        "    return ''.join(stack)\n",
        "\n",
        "def compare_strings(s, t):\n",
        "    processed_s = process_string(s)\n",
        "    processed_t = process_string(t)\n",
        "    return processed_s == processed_t\n",
        "\n",
        "s = \"ab#c\"\n",
        "t = \"ad#c\"\n",
        "print(compare_strings(s, t))  # Output: True"
      ],
      "metadata": {
        "colab": {
          "base_uri": "https://localhost:8080/"
        },
        "id": "7bfixxbRFKDh",
        "outputId": "a6c2bfbb-2d56-46a7-dad4-3395dda8bf45"
      },
      "execution_count": 17,
      "outputs": [
        {
          "output_type": "stream",
          "name": "stdout",
          "text": [
            "True\n"
          ]
        }
      ]
    },
    {
      "cell_type": "markdown",
      "source": [
        "💡 **Question 8**\n",
        "\n",
        "You are given an array coordinates, coordinates[i] = [x, y], where [x, y] represents the coordinate of a point. Check if these points make a straight line in the XY plane."
      ],
      "metadata": {
        "id": "HH6rcwtnFafh"
      }
    },
    {
      "cell_type": "code",
      "source": [
        "def check_straight_line(coordinates):\n",
        "    x1, y1 = coordinates[0]\n",
        "    x2, y2 = coordinates[1]\n",
        "\n",
        "    # Calculate the initial slope\n",
        "    if x2 - x1 != 0:\n",
        "        initial_slope = (y2 - y1) / (x2 - x1)\n",
        "    else:\n",
        "        initial_slope = float('inf')\n",
        "\n",
        "    # Check slopes for remaining points\n",
        "    for i in range(2, len(coordinates)):\n",
        "        x, y = coordinates[i]\n",
        "\n",
        "        # Calculate slope between current point and first point\n",
        "        if x2 - x1 != 0:\n",
        "            slope = (y - y1) / (x - x1)\n",
        "        else:\n",
        "            slope = float('inf')\n",
        "\n",
        "        # Compare slope with initial slope\n",
        "        if slope != initial_slope:\n",
        "            return False\n",
        "\n",
        "    return True\n",
        "\n",
        "coordinates = [[1,2],[2,3],[3,4],[4,5],[5,6],[6,7]]\n",
        "print(check_straight_line(coordinates))  # Output: True"
      ],
      "metadata": {
        "colab": {
          "base_uri": "https://localhost:8080/"
        },
        "id": "_VVyNTMaFUBB",
        "outputId": "9a854a0f-0bf8-4531-a11b-053e8020bedb"
      },
      "execution_count": 19,
      "outputs": [
        {
          "output_type": "stream",
          "name": "stdout",
          "text": [
            "True\n"
          ]
        }
      ]
    }
  ]
}