{
 "cells": [
  {
   "cell_type": "markdown",
   "id": "a7345068",
   "metadata": {},
   "source": [
    "<aside>\n",
    "💡 **Question 1**\n",
    "\n",
    "Given an array **arr[ ]** of size **N** having elements, the task is to find the next greater element for each element of the array in order of their appearance in the array.Next greater element of an element in the array is the nearest element on the right which is greater than the current element.If there does not exist next greater of current element, then next greater element for current element is -1. For example, next greater of the last element is always -1.\n",
    "\n",
    "</aside>"
   ]
  },
  {
   "cell_type": "code",
   "execution_count": 1,
   "id": "96f9e976",
   "metadata": {},
   "outputs": [
    {
     "name": "stdout",
     "output_type": "stream",
     "text": [
      "[5, 25, 25, -1, -1, -1]\n"
     ]
    }
   ],
   "source": [
    "def next_greater_element(arr):\n",
    "    result = []\n",
    "    stack = []\n",
    "\n",
    "    # Iterate through the array in reverse order\n",
    "    for i in range(len(arr) - 1, -1, -1):\n",
    "        # Pop elements from the stack until a greater element is found\n",
    "        while stack and stack[-1] <= arr[i]:\n",
    "            stack.pop()\n",
    "\n",
    "        if stack:\n",
    "            result.append(stack[-1])  # Found next greater element\n",
    "        else:\n",
    "            result.append(-1)  # No next greater element\n",
    "\n",
    "        stack.append(arr[i])  # Push current element to stack\n",
    "\n",
    "    # Reverse the result list to match the order of elements in the array\n",
    "    result.reverse()\n",
    "\n",
    "    return result\n",
    "\n",
    "\n",
    "# Example usage\n",
    "arr = [4, 5, 2, 25, 10, 8]\n",
    "next_greater = next_greater_element(arr)\n",
    "print(next_greater)"
   ]
  },
  {
   "cell_type": "markdown",
   "id": "e663ed2c",
   "metadata": {},
   "source": [
    "💡 **Question 2**\n",
    "\n",
    "Given an array **a** of integers of length **n**, find the nearest smaller number for every element such that the smaller element is on left side.If no small element present on the left print -1"
   ]
  },
  {
   "cell_type": "code",
   "execution_count": 2,
   "id": "e6f799e1",
   "metadata": {},
   "outputs": [
    {
     "name": "stdout",
     "output_type": "stream",
     "text": [
      "[-1, 4, -1, 2, 2]\n"
     ]
    }
   ],
   "source": [
    "def nearest_smaller_on_left(arr):\n",
    "    result = []\n",
    "    stack = []\n",
    "\n",
    "    for num in arr:\n",
    "        # Pop elements from the stack until a smaller element is found\n",
    "        while stack and stack[-1] >= num:\n",
    "            stack.pop()\n",
    "\n",
    "        if stack:\n",
    "            result.append(stack[-1])  # Found smaller element on left\n",
    "        else:\n",
    "            result.append(-1)  # No smaller element on left\n",
    "\n",
    "        stack.append(num)  # Push current element to stack\n",
    "\n",
    "    return result\n",
    "\n",
    "\n",
    "# Example usage\n",
    "a = [4, 5, 2, 10, 8]\n",
    "nearest_smaller = nearest_smaller_on_left(a)\n",
    "print(nearest_smaller)\n"
   ]
  },
  {
   "cell_type": "markdown",
   "id": "8b16f515",
   "metadata": {},
   "source": [
    "💡 **Question 3**\n",
    "\n",
    "Implement a Stack using two queues **q1** and **q2**."
   ]
  },
  {
   "cell_type": "code",
   "execution_count": 3,
   "id": "3f9d7d0e",
   "metadata": {},
   "outputs": [
    {
     "name": "stdout",
     "output_type": "stream",
     "text": [
      "Top element: 3\n",
      "Top element: 2\n",
      "Is stack empty? False\n",
      "Is stack empty? True\n"
     ]
    }
   ],
   "source": [
    "class Stack:\n",
    "    def __init__(self):\n",
    "        self.q1 = []  # Main queue\n",
    "        self.q2 = []  # Auxiliary queue\n",
    "\n",
    "    def push(self, value):\n",
    "        # Move all elements from q1 to q2\n",
    "        while self.q1:\n",
    "            self.q2.append(self.q1.pop(0))\n",
    "\n",
    "        # Add the new element to q1\n",
    "        self.q1.append(value)\n",
    "\n",
    "        # Move all elements back to q1 from q2\n",
    "        while self.q2:\n",
    "            self.q1.append(self.q2.pop(0))\n",
    "\n",
    "    def pop(self):\n",
    "        if not self.q1:\n",
    "            raise IndexError(\"Stack is empty\")\n",
    "\n",
    "        # Remove and return the top element from q1\n",
    "        return self.q1.pop(0)\n",
    "\n",
    "    def top(self):\n",
    "        if not self.q1:\n",
    "            raise IndexError(\"Stack is empty\")\n",
    "\n",
    "        # Return the top element from q1 without removing it\n",
    "        return self.q1[0]\n",
    "\n",
    "    def is_empty(self):\n",
    "        return len(self.q1) == 0\n",
    "\n",
    "\n",
    "# Example usage\n",
    "stack = Stack()\n",
    "stack.push(1)\n",
    "stack.push(2)\n",
    "stack.push(3)\n",
    "\n",
    "print(\"Top element:\", stack.top())  # Output: 3\n",
    "\n",
    "stack.pop()\n",
    "print(\"Top element:\", stack.top())  # Output: 2\n",
    "\n",
    "print(\"Is stack empty?\", stack.is_empty())  # Output: False\n",
    "\n",
    "stack.pop()\n",
    "stack.pop()\n",
    "print(\"Is stack empty?\", stack.is_empty())  # Output: True"
   ]
  },
  {
   "cell_type": "markdown",
   "id": "ea25fefa",
   "metadata": {},
   "source": [
    "💡 **Question 4**\n",
    "\n",
    "You are given a stack **St**. You have to reverse the stack using recursion."
   ]
  },
  {
   "cell_type": "code",
   "execution_count": 4,
   "id": "9bc962a2",
   "metadata": {},
   "outputs": [
    {
     "name": "stdout",
     "output_type": "stream",
     "text": [
      "Original stack: [1, 2, 3, 4, 5]\n",
      "Reversed stack: [5, 4, 3, 2, 1]\n"
     ]
    }
   ],
   "source": [
    "def reverse_stack(stack):\n",
    "    if not stack:\n",
    "        return\n",
    "\n",
    "    # Remove the top element from the stack\n",
    "    top_element = stack.pop()\n",
    "\n",
    "    # Reverse the remaining stack\n",
    "    reverse_stack(stack)\n",
    "\n",
    "    # Insert the top element at the bottom of the reversed stack\n",
    "    insert_at_bottom(stack, top_element)\n",
    "\n",
    "\n",
    "def insert_at_bottom(stack, element):\n",
    "    if not stack:\n",
    "        stack.append(element)\n",
    "        return\n",
    "\n",
    "    top_element = stack.pop()\n",
    "\n",
    "    # Recursively insert the element at the bottom\n",
    "    insert_at_bottom(stack, element)\n",
    "\n",
    "    stack.append(top_element)\n",
    "\n",
    "\n",
    "# Example usage\n",
    "stack = [1, 2, 3, 4, 5]\n",
    "print(\"Original stack:\", stack)\n",
    "\n",
    "reverse_stack(stack)\n",
    "print(\"Reversed stack:\", stack)"
   ]
  },
  {
   "cell_type": "markdown",
   "id": "d8fe067b",
   "metadata": {},
   "source": [
    "💡 **Question 5**\n",
    "\n",
    "You are given a string **S**, the task is to reverse the string using stack."
   ]
  },
  {
   "cell_type": "code",
   "execution_count": 5,
   "id": "ae9685ea",
   "metadata": {},
   "outputs": [
    {
     "name": "stdout",
     "output_type": "stream",
     "text": [
      "Reversed string: !dlroW ,olleH\n"
     ]
    }
   ],
   "source": [
    "def reverse_string(string):\n",
    "    stack = []\n",
    "\n",
    "    # Push each character onto the stack\n",
    "    for char in string:\n",
    "        stack.append(char)\n",
    "\n",
    "    reversed_string = \"\"\n",
    "\n",
    "    # Pop characters from the stack to get the reversed string\n",
    "    while stack:\n",
    "        reversed_string += stack.pop()\n",
    "\n",
    "    return reversed_string\n",
    "\n",
    "\n",
    "# Example usage\n",
    "s = \"Hello, World!\"\n",
    "reversed_s = reverse_string(s)\n",
    "print(\"Reversed string:\", reversed_s)"
   ]
  },
  {
   "cell_type": "markdown",
   "id": "c1775756",
   "metadata": {},
   "source": [
    "💡 **Question 6**\n",
    "\n",
    "Given string **S** representing a postfix expression, the task is to evaluate the expression and find the final value. Operators will only include the basic arithmetic operators like ***, /, + and -**."
   ]
  },
  {
   "cell_type": "code",
   "execution_count": 6,
   "id": "4c4fee21",
   "metadata": {},
   "outputs": [
    {
     "name": "stdout",
     "output_type": "stream",
     "text": [
      "Final value: 8.75\n"
     ]
    }
   ],
   "source": [
    "def evaluate_postfix(expression):\n",
    "    stack = []\n",
    "\n",
    "    for char in expression:\n",
    "        if char.isdigit():\n",
    "            stack.append(int(char))\n",
    "        else:\n",
    "            operand2 = stack.pop()\n",
    "            operand1 = stack.pop()\n",
    "\n",
    "            if char == '+':\n",
    "                stack.append(operand1 + operand2)\n",
    "            elif char == '-':\n",
    "                stack.append(operand1 - operand2)\n",
    "            elif char == '*':\n",
    "                stack.append(operand1 * operand2)\n",
    "            elif char == '/':\n",
    "                stack.append(operand1 / operand2)\n",
    "\n",
    "    return stack.pop()\n",
    "\n",
    "\n",
    "# Example usage\n",
    "postfix_expression = \"52+83-*4/\"\n",
    "result = evaluate_postfix(postfix_expression)\n",
    "print(\"Final value:\", result)"
   ]
  },
  {
   "cell_type": "markdown",
   "id": "0d006e87",
   "metadata": {},
   "source": [
    "💡 **Question 7**\n",
    "\n",
    "Design a stack that supports push, pop, top, and retrieving the minimum element in constant time.\n",
    "\n",
    "Implement the `MinStack` class:\n",
    "\n",
    "- `MinStack()` initializes the stack object.\n",
    "- `void push(int val)` pushes the element `val` onto the stack.\n",
    "- `void pop()` removes the element on the top of the stack.\n",
    "- `int top()` gets the top element of the stack.\n",
    "- `int getMin()` retrieves the minimum element in the stack.\n",
    "\n",
    "You must implement a solution with `O(1)` time complexity for each function."
   ]
  },
  {
   "cell_type": "code",
   "execution_count": 7,
   "id": "72d13f88",
   "metadata": {},
   "outputs": [
    {
     "name": "stdout",
     "output_type": "stream",
     "text": [
      "Minimum element: 1\n",
      "Top element: 1\n",
      "Minimum element: 2\n",
      "Top element: 10\n"
     ]
    }
   ],
   "source": [
    "class MinStack:\n",
    "    def __init__(self):\n",
    "        self.stack = []  # stack to store elements\n",
    "        self.min_stack = []  # stack to store minimum elements\n",
    "\n",
    "    def push(self, val):\n",
    "        self.stack.append(val)\n",
    "        if not self.min_stack or val <= self.min_stack[-1]:\n",
    "            self.min_stack.append(val)\n",
    "\n",
    "    def pop(self):\n",
    "        if self.stack[-1] == self.min_stack[-1]:\n",
    "            self.min_stack.pop()\n",
    "        self.stack.pop()\n",
    "\n",
    "    def top(self):\n",
    "        return self.stack[-1]\n",
    "\n",
    "    def getMin(self):\n",
    "        return self.min_stack[-1]\n",
    "\n",
    "\n",
    "# Example usage\n",
    "stack = MinStack()\n",
    "stack.push(5)\n",
    "stack.push(2)\n",
    "stack.push(10)\n",
    "stack.push(1)\n",
    "\n",
    "print(\"Minimum element:\", stack.getMin())  # Output: 1\n",
    "print(\"Top element:\", stack.top())  # Output: 1\n",
    "\n",
    "stack.pop()\n",
    "print(\"Minimum element:\", stack.getMin())  # Output: 2\n",
    "print(\"Top element:\", stack.top())  # Output: 10"
   ]
  },
  {
   "cell_type": "markdown",
   "id": "e62de878",
   "metadata": {},
   "source": [
    "💡 **Question 8**\n",
    "\n",
    "Given `n` non-negative integers representing an elevation map where the width of each bar is `1`, compute how much water it can trap after raining."
   ]
  },
  {
   "cell_type": "code",
   "execution_count": 8,
   "id": "a1f07605",
   "metadata": {},
   "outputs": [
    {
     "name": "stdout",
     "output_type": "stream",
     "text": [
      "Water trapped: 6\n"
     ]
    }
   ],
   "source": [
    "def trap(height):\n",
    "    if not height:\n",
    "        return 0\n",
    "    \n",
    "    n = len(height)\n",
    "    left = 0\n",
    "    right = n - 1\n",
    "    left_max = right_max = water = 0\n",
    "    \n",
    "    while left < right:\n",
    "        if height[left] < height[right]:\n",
    "            if height[left] >= left_max:\n",
    "                left_max = height[left]\n",
    "            else:\n",
    "                water += left_max - height[left]\n",
    "            left += 1\n",
    "        else:\n",
    "            if height[right] >= right_max:\n",
    "                right_max = height[right]\n",
    "            else:\n",
    "                water += right_max - height[right]\n",
    "            right -= 1\n",
    "    \n",
    "    return water\n",
    "\n",
    "\n",
    "# Example usage\n",
    "elevation_map = [0, 1, 0, 2, 1, 0, 1, 3, 2, 1, 2, 1]\n",
    "water_trapped = trap(elevation_map)\n",
    "print(\"Water trapped:\", water_trapped)"
   ]
  }
 ],
 "metadata": {
  "kernelspec": {
   "display_name": "Python 3 (ipykernel)",
   "language": "python",
   "name": "python3"
  },
  "language_info": {
   "codemirror_mode": {
    "name": "ipython",
    "version": 3
   },
   "file_extension": ".py",
   "mimetype": "text/x-python",
   "name": "python",
   "nbconvert_exporter": "python",
   "pygments_lexer": "ipython3",
   "version": "3.10.9"
  }
 },
 "nbformat": 4,
 "nbformat_minor": 5
}
