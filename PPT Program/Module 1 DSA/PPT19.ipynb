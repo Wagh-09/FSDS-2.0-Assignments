{
 "cells": [
  {
   "cell_type": "markdown",
   "id": "0ac10325",
   "metadata": {},
   "source": [
    "<aside>\n",
    "💡 1. **Merge k Sorted Lists**\n",
    "\n",
    "You are given an array of `k` linked-lists `lists`, each linked-list is sorted in ascending order.\n",
    "\n",
    "*Merge all the linked-lists into one sorted linked-list and return it.*\n",
    "\n",
    "</aside>"
   ]
  },
  {
   "cell_type": "code",
   "execution_count": 6,
   "id": "9e97833f",
   "metadata": {},
   "outputs": [],
   "source": [
    "import heapq\n",
    "\n",
    "class ListNode:\n",
    "    def __init__(self, val=0, next=None):\n",
    "        self.val = val\n",
    "        self.next = next\n",
    "\n",
    "def mergeKLists(lists):\n",
    "    min_heap = []\n",
    "    for head in lists:\n",
    "        if head:\n",
    "            heapq.heappush(min_heap, (head.val, head))\n",
    "    \n",
    "    dummy = ListNode()\n",
    "    current = dummy\n",
    "    \n",
    "    while min_heap:\n",
    "        _, node = heapq.heappop(min_heap)\n",
    "        \n",
    "        current.next = node\n",
    "        current = current.next\n",
    "        \n",
    "        if node.next:\n",
    "            heapq.heappush(min_heap, (node.next.val, node.next))\n",
    "    \n",
    "    return dummy.next"
   ]
  },
  {
   "cell_type": "markdown",
   "id": "63423e6c",
   "metadata": {},
   "source": [
    "<aside>\n",
    "💡 2. **Count of Smaller Numbers After Self**\n",
    "\n",
    "Given an integer array `nums`, return *an integer array* `counts` *where* `counts[i]` *is the number of smaller elements to the right of* `nums[i]`.\n",
    "\n",
    "</aside>"
   ]
  },
  {
   "cell_type": "code",
   "execution_count": 9,
   "id": "5516e51f",
   "metadata": {},
   "outputs": [],
   "source": [
    "def countSmaller(nums):\n",
    "    n = len(nums)\n",
    "    counts = [0] * n\n",
    "    \n",
    "    def mergeSort(start, end):\n",
    "        if start < end:\n",
    "            mid = (start + end) // 2\n",
    "            mergeSort(start, mid)\n",
    "            mergeSort(mid + 1, end)\n",
    "            merge(start, mid, end)\n",
    "    \n",
    "    def merge(start, mid, end):\n",
    "        merged = []\n",
    "        i, j = start, mid + 1\n",
    "        inversions = 0\n",
    "        \n",
    "        while i <= mid and j <= end:\n",
    "            if nums[i] > nums[j]:\n",
    "                merged.append(nums[j])\n",
    "                inversions += mid - i + 1\n",
    "                j += 1\n",
    "            else:\n",
    "                merged.append(nums[i])\n",
    "                counts[i] += inversions\n",
    "                i += 1\n",
    "        \n",
    "        while i <= mid:\n",
    "            merged.append(nums[i])\n",
    "            counts[i] += inversions\n",
    "            i += 1\n",
    "        \n",
    "        while j <= end:\n",
    "            merged.append(nums[j])\n",
    "            j += 1\n",
    "        \n",
    "        nums[start:start+len(merged)] = merged\n",
    "    \n",
    "    mergeSort(0, n - 1)\n",
    "    return counts"
   ]
  },
  {
   "cell_type": "markdown",
   "id": "1925a3a1",
   "metadata": {},
   "source": [
    "<aside>\n",
    "💡 3. **Sort an Array**\n",
    "\n",
    "Given an array of integers `nums`, sort the array in ascending order and return it.\n",
    "\n",
    "You must solve the problem **without using any built-in** functions in `O(nlog(n))` time complexity and with the smallest space complexity possible.\n",
    "\n",
    "</aside>"
   ]
  },
  {
   "cell_type": "code",
   "execution_count": 8,
   "id": "b7e0df92",
   "metadata": {},
   "outputs": [],
   "source": [
    "def sortArray(nums):\n",
    "    def mergeSort(start, end):\n",
    "        if start >= end:\n",
    "            return [nums[start]]\n",
    "        \n",
    "        mid = (start + end) // 2\n",
    "        left_sorted = mergeSort(start, mid)\n",
    "        right_sorted = mergeSort(mid + 1, end)\n",
    "        \n",
    "        return merge(left_sorted, right_sorted)\n",
    "    \n",
    "    def merge(left, right):\n",
    "        merged = []\n",
    "        left_ptr, right_ptr = 0, 0\n",
    "        \n",
    "        while left_ptr < len(left) and right_ptr < len(right):\n",
    "            if left[left_ptr] <= right[right_ptr]:\n",
    "                merged.append(left[left_ptr])\n",
    "                left_ptr += 1\n",
    "            else:\n",
    "                merged.append(right[right_ptr])\n",
    "                right_ptr += 1\n",
    "        \n",
    "        merged.extend(left[left_ptr:])\n",
    "        merged.extend(right[right_ptr:])\n",
    "        \n",
    "        return merged\n",
    "    \n",
    "    return mergeSort(0, len(nums) - 1)"
   ]
  },
  {
   "cell_type": "markdown",
   "id": "2169cd26",
   "metadata": {},
   "source": [
    "<aside>\n",
    "💡 4. **Move all zeroes to end of array**\n",
    "\n",
    "Given an array of random numbers, Push all the zero’s of a given array to the end of the array. For example, if the given arrays is {1, 9, 8, 4, 0, 0, 2, 7, 0, 6, 0}, it should be changed to {1, 9, 8, 4, 2, 7, 6, 0, 0, 0, 0}. The order of all other elements should be same. Expected time complexity is O(n) and extra space is O(1).\n",
    "\n",
    "</aside>"
   ]
  },
  {
   "cell_type": "code",
   "execution_count": 10,
   "id": "cd70f0a5",
   "metadata": {},
   "outputs": [
    {
     "name": "stdout",
     "output_type": "stream",
     "text": [
      "[1, 9, 8, 4, 2, 7, 6, 0, 0, 0, 0]\n"
     ]
    }
   ],
   "source": [
    "def move_zeroes_to_end(array):\n",
    "  \"\"\"\n",
    "  Moves all zeroes to the end of the array.\n",
    "\n",
    "  Args:\n",
    "    array: The array to be modified.\n",
    "\n",
    "  Returns:\n",
    "    The modified array.\n",
    "  \"\"\"\n",
    "\n",
    "  count = 0\n",
    "\n",
    "  for i in range(len(array)):\n",
    "    if array[i] != 0:\n",
    "      array[count] = array[i]\n",
    "      count += 1\n",
    "\n",
    "  for i in range(count, len(array)):\n",
    "    array[i] = 0\n",
    "\n",
    "  return array\n",
    "\n",
    "\n",
    "if __name__ == \"__main__\":\n",
    "  array = [1, 9, 8, 4, 0, 0, 2, 7, 0, 6, 0]\n",
    "\n",
    "  print(move_zeroes_to_end(array))"
   ]
  },
  {
   "cell_type": "markdown",
   "id": "bc2f17ce",
   "metadata": {},
   "source": [
    "<aside>\n",
    "💡 5. **Rearrange array in alternating positive & negative items with O(1) extra space**\n",
    "\n",
    "Given an **array of positive** and **negative numbers**, arrange them in an **alternate** fashion such that every positive number is followed by a negative and vice-versa maintaining the **order of appearance**. The number of positive and negative numbers need not be equal. If there are more positive numbers they appear at the end of the array. If there are more negative numbers, they too appear at the end of the array.\n",
    "\n",
    "</aside>"
   ]
  },
  {
   "cell_type": "code",
   "execution_count": 11,
   "id": "8fdb12c6",
   "metadata": {},
   "outputs": [
    {
     "name": "stdout",
     "output_type": "stream",
     "text": [
      "[1, 9, 8, 4, 0, 0, 2, 7, 0, 6, 0]\n"
     ]
    }
   ],
   "source": [
    "def rearrange_array(array):\n",
    "  \"\"\"\n",
    "  Rearrange the array in alternating positive and negative items with O(1) extra space.\n",
    "\n",
    "  Args:\n",
    "    array: The array to be rearranged.\n",
    "\n",
    "  Returns:\n",
    "    The rearranged array.\n",
    "  \"\"\"\n",
    "\n",
    "  i = 0\n",
    "  j = 1\n",
    "\n",
    "  while i < len(array) and j < len(array):\n",
    "    if array[i] * array[j] < 0:\n",
    "      array[i], array[j] = array[j], array[i]\n",
    "      i += 2\n",
    "      j += 2\n",
    "    else:\n",
    "      i += 1\n",
    "      j += 1\n",
    "\n",
    "  return array\n",
    "\n",
    "\n",
    "if __name__ == \"__main__\":\n",
    "  array = [1, 9, 8, 4, 0, 0, 2, 7, 0, 6, 0]\n",
    "\n",
    "  print(rearrange_array(array))"
   ]
  },
  {
   "cell_type": "markdown",
   "id": "2e1d19f6",
   "metadata": {},
   "source": [
    "<aside>\n",
    "💡 **6. Merge two sorted arrays**\n",
    "\n",
    "Given two sorted arrays, the task is to merge them in a sorted manner.\n",
    "\n",
    "**Examples:**\n",
    "\n",
    "> Input: arr1[] = { 1, 3, 4, 5}, arr2[] = {2, 4, 6, 8} \n",
    "Output: arr3[] = {1, 2, 3, 4, 4, 5, 6, 8}\n",
    "\n",
    "Input: arr1[] = { 5, 8, 9}, arr2[] = {4, 7, 8}\n",
    "Output: arr3[] = {4, 5, 7, 8, 8, 9}\n",
    "> \n",
    "</aside>"
   ]
  },
  {
   "cell_type": "code",
   "execution_count": 5,
   "id": "f7e5abf3",
   "metadata": {},
   "outputs": [],
   "source": [
    "def mergeArrays(arr1, arr2):\n",
    "    arr3 = []\n",
    "    i = 0\n",
    "    j = 0\n",
    "    \n",
    "    while i < len(arr1) and j < len(arr2):\n",
    "        if arr1[i] <= arr2[j]:\n",
    "            arr3.append(arr1[i])\n",
    "            i += 1\n",
    "        else:\n",
    "            arr3.append(arr2[j])\n",
    "            j += 1\n",
    "    \n",
    "    while i < len(arr1):\n",
    "        arr3.append(arr1[i])\n",
    "        i += 1\n",
    "    \n",
    "    while j < len(arr2):\n",
    "        arr3.append(arr2[j])\n",
    "        j += 1\n",
    "    \n",
    "    return arr3"
   ]
  },
  {
   "cell_type": "markdown",
   "id": "82704ab9",
   "metadata": {},
   "source": [
    "<aside>\n",
    "💡 7. **Intersection of Two Arrays**\n",
    "\n",
    "Given two integer arrays `nums1` and `nums2`, return *an array of their intersection*. Each element in the result must be **unique** and you may return the result in **any order**.\n",
    "\n",
    "</aside>"
   ]
  },
  {
   "cell_type": "code",
   "execution_count": 4,
   "id": "3a76cc0c",
   "metadata": {},
   "outputs": [],
   "source": [
    "def intersection(nums1, nums2):\n",
    "    set1 = set(nums1)\n",
    "    set2 = set(nums2)\n",
    "    \n",
    "    intersection = set1.intersection(set2)\n",
    "    \n",
    "    return list(intersection)"
   ]
  },
  {
   "cell_type": "markdown",
   "id": "a41ac0c6",
   "metadata": {},
   "source": [
    "<aside>\n",
    "💡 8. **Intersection of Two Arrays II**\n",
    "\n",
    "Given two integer arrays `nums1` and `nums2`, return *an array of their intersection*. Each element in the result must appear as many times as it shows in both arrays and you may return the result in **any order**.\n",
    "\n",
    "</aside>"
   ]
  },
  {
   "cell_type": "code",
   "execution_count": 3,
   "id": "b2bc1471",
   "metadata": {},
   "outputs": [],
   "source": [
    "def intersect(nums1, nums2):\n",
    "    freqMap = {}\n",
    "    for num in nums1:\n",
    "        freqMap[num] = freqMap.get(num, 0) + 1\n",
    "\n",
    "    intersection = []\n",
    "    for num in nums2:\n",
    "        if num in freqMap and freqMap[num] > 0:\n",
    "            intersection.append(num)\n",
    "            freqMap[num] -= 1\n",
    "\n",
    "    return intersection"
   ]
  }
 ],
 "metadata": {
  "kernelspec": {
   "display_name": "Python 3 (ipykernel)",
   "language": "python",
   "name": "python3"
  },
  "language_info": {
   "codemirror_mode": {
    "name": "ipython",
    "version": 3
   },
   "file_extension": ".py",
   "mimetype": "text/x-python",
   "name": "python",
   "nbconvert_exporter": "python",
   "pygments_lexer": "ipython3",
   "version": "3.10.9"
  }
 },
 "nbformat": 4,
 "nbformat_minor": 5
}
