{
 "cells": [
  {
   "cell_type": "markdown",
   "id": "2d9956d2",
   "metadata": {},
   "source": [
    "💡 **Question 1**\n",
    "Given an integer array nums of 2n integers, group these integers into n pairs (a1, b1), (a2, b2),..., (an, bn) such that the sum of min(ai, bi) for all i is maximized. Return the maximized sum.\n",
    "\n",
    "**Example 1:**\n",
    "Input: nums = [1,4,3,2]\n",
    "Output: 4\n",
    "\n",
    "**Explanation:** All possible pairings (ignoring the ordering of elements) are:\n",
    "\n",
    "1. (1, 4), (2, 3) -> min(1, 4) + min(2, 3) = 1 + 2 = 3\n",
    "2. (1, 3), (2, 4) -> min(1, 3) + min(2, 4) = 1 + 2 = 3\n",
    "3. (1, 2), (3, 4) -> min(1, 2) + min(3, 4) = 1 + 3 = 4\n",
    "So the maximum possible sum is 4\n"
   ]
  },
  {
   "cell_type": "code",
   "execution_count": 32,
   "id": "119ef725",
   "metadata": {},
   "outputs": [
    {
     "name": "stdout",
     "output_type": "stream",
     "text": [
      "4\n"
     ]
    }
   ],
   "source": [
    "def array_partition_i(nums):\n",
    "  \"\"\"\n",
    "  Given an integer array nums of 2n integers, group these integers into n pairs (a1, b1), (a2, b2),..., (an, bn) such that the sum of min(ai, bi) for all i is maximized. Return the maximized sum.\n",
    "\n",
    "  Args:\n",
    "    nums: An array of integers.\n",
    "\n",
    "  Returns:\n",
    "    The maximum sum of min(ai, bi) for all i.\n",
    "  \"\"\"\n",
    "\n",
    "  # Sort the array in ascending order.\n",
    "  nums.sort()\n",
    "\n",
    "  # Initialize the sum of min(ai, bi) for all i.\n",
    "  sum_min = 0\n",
    "\n",
    "  # Iterate over the array in pairs.\n",
    "  for i in range(0, len(nums), 2):\n",
    "    # Add the minimum of the two elements to the sum.\n",
    "    sum_min += min(nums[i], nums[i + 1])\n",
    "\n",
    "  # Return the sum.\n",
    "  return sum_min\n",
    "nums = [1, 4, 3, 2]\n",
    "\n",
    "print(array_partition_i(nums))\n"
   ]
  },
  {
   "cell_type": "markdown",
   "id": "bfc50042",
   "metadata": {},
   "source": [
    "Question 2\n",
    "Alice has n candies, where the ith candy is of type candyType[i]. Alice noticed that she started to gain weight, so she visited a doctor. \n",
    "\n",
    "The doctor advised Alice to only eat n / 2 of the candies she has (n is always even). Alice likes her candies very much, and she wants to eat the maximum number of different types of candies while still following the doctor's advice. \n",
    "\n",
    "Given the integer array candyType of length n, return the maximum number of different types of candies she can eat if she only eats n / 2 of them.\n",
    "\n",
    "Example 1:\n",
    "Input: candyType = [1,1,2,2,3,3]\n",
    "Output: 3\n",
    "\n",
    "Explanation: Alice can only eat 6 / 2 = 3 candies. Since there are only 3 types, she can eat one of each type."
   ]
  },
  {
   "cell_type": "code",
   "execution_count": 34,
   "id": "03378ed0",
   "metadata": {},
   "outputs": [
    {
     "name": "stdout",
     "output_type": "stream",
     "text": [
      "2\n"
     ]
    }
   ],
   "source": [
    "def max_types(candyType):\n",
    "  \"\"\"\n",
    "  Returns the maximum number of different types of candies Alice can eat if she only eats n / 2 of them.\n",
    "\n",
    "  Args:\n",
    "    candyType: An array of integers representing the types of candies Alice has.\n",
    "\n",
    "  Returns:\n",
    "    The maximum number of different types of candies Alice can eat.\n",
    "  \"\"\"\n",
    "\n",
    "  # Count the number of each type of candy.\n",
    "  counts = {}\n",
    "  for candy in candyType:\n",
    "    if candy not in counts:\n",
    "      counts[candy] = 1\n",
    "    else:\n",
    "      counts[candy] += 1\n",
    "\n",
    "  # Find the number of types of candy Alice can eat.\n",
    "  max_types = 0\n",
    "  for count in counts.values():\n",
    "    if count > max_types:\n",
    "      max_types = count\n",
    "\n",
    "  # Return the maximum number of types of candy Alice can eat.\n",
    "  return max_types\n",
    "candyType = [1, 1, 2, 2, 3, 3]\n",
    "\n",
    "max_types = max_types(candyType)\n",
    "\n",
    "print(max_types)\n"
   ]
  },
  {
   "cell_type": "markdown",
   "id": "6f6d1f91",
   "metadata": {},
   "source": [
    "Question 3\n",
    "We define a harmonious array as an array where the difference between its maximum value\n",
    "and its minimum value is exactly 1.\n",
    "\n",
    "Given an integer array nums, return the length of its longest harmonious subsequence\n",
    "among all its possible subsequences.\n",
    "\n",
    "A subsequence of an array is a sequence that can be derived from the array by deleting some or no elements without changing the order of the remaining elements.\n",
    "\n",
    "Example 1:\n",
    "Input: nums = [1,3,2,2,5,2,3,7]\n",
    "Output: 5\n",
    "\n",
    "Explanation: The longest harmonious subsequence is [3,2,2,2,3]."
   ]
  },
  {
   "cell_type": "code",
   "execution_count": 38,
   "id": "fa801e98",
   "metadata": {},
   "outputs": [],
   "source": [
    "def longest_harmonious_subsequence(nums):\n",
    "  \"\"\"\n",
    "  Returns the length of the longest harmonious subsequence in the given array.\n",
    "\n",
    "  Args:\n",
    "    nums: An array of integers.\n",
    "\n",
    "  Returns:\n",
    "    The length of the longest harmonious subsequence in the given array.\n",
    "  \"\"\"\n",
    "\n",
    "  # Create a map that maps each number to the number of times it appears in the array.\n",
    "  counts = {}\n",
    "  for num in nums:\n",
    "    if num not in counts:\n",
    "      counts[num] = 1\n",
    "    else:\n",
    "      counts[num] += 1\n",
    "\n",
    "  # Initialize the longest harmonious subsequence length.\n",
    "  longest_len = 0\n",
    "\n",
    "  # Iterate over each number in the array.\n",
    "  for num in nums:\n",
    "    # Find the maximum number of times a number that is 1 greater or 1 less than num appears in the array.\n",
    "    max_diff = max(counts.get(num - 1, 0), counts.get(num + 1, 0))\n",
    "\n",
    "    # Update the longest harmonious subsequence length.\n",
    "    longest_len = max(longest_len, max_diff + 1)\n",
    "\n",
    "  # Return the longest harmonious subsequence length.\n",
    "  return longest_len"
   ]
  },
  {
   "cell_type": "markdown",
   "id": "d1b2d949",
   "metadata": {},
   "source": [
    "Question 4\n",
    "You have a long flowerbed in which some of the plots are planted, and some are not.\n",
    "However, flowers cannot be planted in adjacent plots.\n",
    "Given an integer array flowerbed containing 0's and 1's, where 0 means empty and 1 means not empty, and an integer n, return true if n new flowers can be planted in the flowerbed without violating the no-adjacent-flowers rule and false otherwise.\n",
    "\n",
    "Example 1:\n",
    "Input: flowerbed = [1,0,0,0,1], n = 1\n",
    "Output: true"
   ]
  },
  {
   "cell_type": "code",
   "execution_count": 42,
   "id": "693bfbe8",
   "metadata": {},
   "outputs": [
    {
     "name": "stdout",
     "output_type": "stream",
     "text": [
      "True\n"
     ]
    }
   ],
   "source": [
    "def can_place_flowers(flowerbed, n):\n",
    "    # Append 0s at the beginning and end to handle edge cases\n",
    "    flowerbed = [0] + flowerbed + [0]\n",
    "    count = 0\n",
    "    i = 1\n",
    "\n",
    "    while i < len(flowerbed) - 1:\n",
    "        if flowerbed[i - 1] == flowerbed[i] == flowerbed[i + 1] == 0:\n",
    "            # Place a flower at the current position\n",
    "            flowerbed[i] = 1\n",
    "            count += 1\n",
    "            i += 2\n",
    "        else:\n",
    "            i += 1\n",
    "\n",
    "    return count >= n\n",
    "\n",
    "# Example usage\n",
    "flowerbed = [1, 0, 0, 0, 1]\n",
    "n = 1\n",
    "result = can_place_flowers(flowerbed, n)\n",
    "print(result)\n"
   ]
  },
  {
   "cell_type": "markdown",
   "id": "0b486bd1",
   "metadata": {},
   "source": [
    "Question 5\n",
    "Given an integer array nums, find three numbers whose product is maximum and return the maximum product.\n",
    "\n",
    "Example 1:\n",
    "Input: nums = [1,2,3]\n",
    "Output: 6"
   ]
  },
  {
   "cell_type": "code",
   "execution_count": 43,
   "id": "925a7693",
   "metadata": {},
   "outputs": [
    {
     "name": "stdout",
     "output_type": "stream",
     "text": [
      "6\n"
     ]
    }
   ],
   "source": [
    "def maximum_product(nums):\n",
    "    nums.sort()\n",
    "    n = len(nums)\n",
    "    \n",
    "    # Scenario 1: Three largest positive numbers\n",
    "    max_product_1 = nums[n - 1] * nums[n - 2] * nums[n - 3]\n",
    "    \n",
    "    # Scenario 2: Two smallest negative numbers and largest positive number\n",
    "    max_product_2 = nums[0] * nums[1] * nums[n - 1]\n",
    "    \n",
    "    # Return the maximum product among the two scenarios\n",
    "    return max(max_product_1, max_product_2)\n",
    "\n",
    "# Example usage\n",
    "nums = [1, 2, 3]\n",
    "result = maximum_product(nums)\n",
    "print(result)\n"
   ]
  },
  {
   "cell_type": "code",
   "execution_count": null,
   "id": "1d17b226",
   "metadata": {},
   "outputs": [],
   "source": [
    "Question 6\n",
    "Given an array of integers nums which is sorted in ascending order, and an integer target,\n",
    "write a function to search target in nums. If target exists, then return its index. Otherwise,\n",
    "return -1.\n",
    "\n",
    "You must write an algorithm with O(log n) runtime complexity.\n",
    "\n",
    "Input: nums = [-1,0,3,5,9,12], target = 9\n",
    "Output: 4\n",
    "\n",
    "Explanation: 9 exists in nums and its index is 4"
   ]
  },
  {
   "cell_type": "code",
   "execution_count": 44,
   "id": "8891c2b9",
   "metadata": {},
   "outputs": [
    {
     "name": "stdout",
     "output_type": "stream",
     "text": [
      "Output: 4\n"
     ]
    }
   ],
   "source": [
    "def search(nums, target):\n",
    "    left = 0\n",
    "    right = len(nums) - 1\n",
    "    \n",
    "    while left <= right:\n",
    "        mid = left + (right - left) // 2\n",
    "        \n",
    "        if nums[mid] == target:\n",
    "            return mid\n",
    "        \n",
    "        if nums[mid] < target:\n",
    "            left = mid + 1\n",
    "        else:\n",
    "            right = mid - 1\n",
    "    \n",
    "    return -1\n",
    "\n",
    "# Example usage\n",
    "nums = [-1, 0, 3, 5, 9, 12]\n",
    "target = 9\n",
    "index = search(nums, target)\n",
    "print(\"Output:\", index)\n"
   ]
  },
  {
   "cell_type": "markdown",
   "id": "a1915fc5",
   "metadata": {},
   "source": [
    "Question 7\n",
    "An array is monotonic if it is either monotone increasing or monotone decreasing.\n",
    "\n",
    "An array nums is monotone increasing if for all i <= j, nums[i] <= nums[j]. An array nums is\n",
    "monotone decreasing if for all i <= j, nums[i] >= nums[j].\n",
    "\n",
    "Given an integer array nums, return true if the given array is monotonic, or false otherwise.\n",
    "\n",
    "Example 1:\n",
    "Input: nums = [1,2,2,3]\n",
    "Output: true"
   ]
  },
  {
   "cell_type": "code",
   "execution_count": 46,
   "id": "1a00ebed",
   "metadata": {},
   "outputs": [
    {
     "name": "stdout",
     "output_type": "stream",
     "text": [
      "True\n"
     ]
    }
   ],
   "source": [
    "def is_monotonic(nums):\n",
    "    increasing = decreasing = True\n",
    "    \n",
    "    for i in range(1, len(nums)):\n",
    "        if nums[i] < nums[i - 1]:\n",
    "            increasing = False\n",
    "        if nums[i] > nums[i - 1]:\n",
    "            decreasing = False\n",
    "    \n",
    "    return increasing or decreasing\n",
    "\n",
    "# Example usage\n",
    "nums = [1, 2, 2, 3]\n",
    "result = is_monotonic(nums)\n",
    "print(result)\n"
   ]
  },
  {
   "cell_type": "markdown",
   "id": "fce6c86e",
   "metadata": {},
   "source": [
    "Question 8\n",
    "You are given an integer array nums and an integer k.\n",
    "\n",
    "In one operation, you can choose any index i where 0 <= i < nums.length and change nums[i] to nums[i] + x where x is an integer from the range [-k, k]. You can apply this operation at most once for each index i.\n",
    "\n",
    "The score of nums is the difference between the maximum and minimum elements in nums.\n",
    "\n",
    "Return the minimum score of nums after applying the mentioned operation at most once for each index in it.\n",
    "\n",
    "Example 1:\n",
    "Input: nums = [1], k = 0\n",
    "Output: 0\n",
    "\n",
    "Explanation: The score is max(nums) - min(nums) = 1 - 1 = 0."
   ]
  },
  {
   "cell_type": "code",
   "execution_count": 33,
   "id": "6d12007f",
   "metadata": {},
   "outputs": [
    {
     "name": "stdout",
     "output_type": "stream",
     "text": [
      "0\n"
     ]
    }
   ],
   "source": [
    "def min_score_after_operations(nums, k):\n",
    "  \"\"\"\n",
    "  Given an integer array nums and an integer k, return the minimum score of nums after applying the mentioned operation at most once for each index in it.\n",
    "\n",
    "  Args:\n",
    "    nums: An array of integers.\n",
    "    k: An integer.\n",
    "\n",
    "  Returns:\n",
    "    The minimum score of nums after applying the mentioned operation at most once for each index in it.\n",
    "  \"\"\"\n",
    "\n",
    "  # Find the minimum and maximum elements in the array.\n",
    "  min_num = min(nums)\n",
    "  max_num = max(nums)\n",
    "\n",
    "  # Initialize the minimum score.\n",
    "  min_score = max_num - min_num\n",
    "\n",
    "  # Iterate over the array.\n",
    "  for i in range(len(nums)):\n",
    "    # For each index, try adding and subtracting k to the element.\n",
    "    for x in range(-k, k + 1):\n",
    "      new_num = nums[i] + x\n",
    "\n",
    "      # If the new number is within the range of [min_num, max_num], then update the minimum score.\n",
    "      if min_num <= new_num <= max_num:\n",
    "        min_score = min(min_score, max_num - new_num)\n",
    "\n",
    "  # Return the minimum score.\n",
    "  return min_score\n",
    "nums = [1]\n",
    "k = 0\n",
    "\n",
    "print(min_score_after_operations(nums, k))\n"
   ]
  },
  {
   "cell_type": "code",
   "execution_count": null,
   "id": "896f5c73",
   "metadata": {},
   "outputs": [],
   "source": []
  }
 ],
 "metadata": {
  "kernelspec": {
   "display_name": "Python 3 (ipykernel)",
   "language": "python",
   "name": "python3"
  },
  "language_info": {
   "codemirror_mode": {
    "name": "ipython",
    "version": 3
   },
   "file_extension": ".py",
   "mimetype": "text/x-python",
   "name": "python",
   "nbconvert_exporter": "python",
   "pygments_lexer": "ipython3",
   "version": "3.10.9"
  }
 },
 "nbformat": 4,
 "nbformat_minor": 5
}
