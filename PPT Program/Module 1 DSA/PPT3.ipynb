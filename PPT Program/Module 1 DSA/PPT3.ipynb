{
 "cells": [
  {
   "cell_type": "markdown",
   "id": "673b3345",
   "metadata": {},
   "source": [
    "Question 1\n",
    "Given an integer array nums of length n and an integer target, find three integers\n",
    "in nums such that the sum is closest to the target.\n",
    "Return the sum of the three integers.\n",
    "\n",
    "You may assume that each input would have exactly one solution."
   ]
  },
  {
   "cell_type": "code",
   "execution_count": 4,
   "id": "38d7d58b",
   "metadata": {},
   "outputs": [
    {
     "name": "stdout",
     "output_type": "stream",
     "text": [
      "10\n"
     ]
    }
   ],
   "source": [
    "def closest_sum_of_three(nums, target):\n",
    "    nums.sort()\n",
    "    min_diff = float(\"inf\")\n",
    "    best_sum = 0\n",
    "\n",
    "    for i in range(len(nums) - 2):\n",
    "        for j in range(i + 1, len(nums) - 1):\n",
    "            for k in range(j + 1, len(nums)):\n",
    "                diff = abs(target - nums[i] - nums[j] - nums[k])\n",
    "                if diff < min_diff:\n",
    "                    min_diff = diff\n",
    "                    best_sum = nums[i] + nums[j] + nums[k]\n",
    "\n",
    "    return best_sum\n",
    "\n",
    "nums = [1, 2, 3, 4, 5]\n",
    "target = 10\n",
    "\n",
    "closest_sum = closest_sum_of_three(nums, target)\n",
    "\n",
    "print(closest_sum)\n"
   ]
  },
  {
   "cell_type": "markdown",
   "id": "224f0356",
   "metadata": {},
   "source": [
    "Question 2\n",
    "Given an array nums of n integers, return an array of all the unique quadruplets\n",
    "[nums[a], nums[b], nums[c], nums[d]] such that:\n",
    "\n",
    "● 0 <= a, b, c, d < n\n",
    "\n",
    "\n",
    "● a, b, c, and d are distinct.\n",
    "\n",
    "\n",
    "● nums[a] + nums[b] + nums[c] + nums[d] == target\n",
    "\n",
    "\n",
    "You may return the answer in any order."
   ]
  },
  {
   "cell_type": "code",
   "execution_count": 9,
   "id": "a45ba35b",
   "metadata": {},
   "outputs": [],
   "source": [
    "def find_quadruplets_2(nums, target):\n",
    "    quadruplets = [] \n",
    "    nums.sort()\n",
    "\n",
    "    for i in range(len(nums) - 3):\n",
    "        for j in range(i + 1, len(nums) - 2):\n",
    "            for k in range(j + 1, len(nums) - 1):\n",
    "                for l in range(k + 1, len(nums)):\n",
    "                    if nums[i] + nums[j] + nums[k] + nums[l] == target:\n",
    "                        quadruplets.append([nums[i], nums[j], nums[k], nums[l]])\n",
    "\n",
    "    return quadruplets\n"
   ]
  },
  {
   "cell_type": "markdown",
   "id": "45c312a9",
   "metadata": {},
   "source": [
    "\n",
    " **Question 3**\n",
    "A permutation of an array of integers is an arrangement of its members into a\n",
    "sequence or linear order.\n",
    "\n",
    "For example, for arr = [1,2,3], the following are all the permutations of arr:\n",
    "[1,2,3], [1,3,2], [2, 1, 3], [2, 3, 1], [3,1,2], [3,2,1].\n",
    "\n",
    "The next permutation of an array of integers is the next lexicographically greater\n",
    "permutation of its integer. More formally, if all the permutations of the array are\n",
    "sorted in one container according to their lexicographical order, then the next\n",
    "permutation of that array is the permutation that follows it in the sorted container.\n",
    "\n",
    "If such an arrangement is not possible, the array must be rearranged as the\n",
    "lowest possible order (i.e., sorted in ascending order).\n",
    "\n",
    "● For example, the next permutation of arr = [1,2,3] is [1,3,2].\n",
    "\n",
    "● Similarly, the next permutation of arr = [2,3,1] is [3,1,2].\n",
    "\n",
    "● While the next permutation of arr = [3,2,1] is [1,2,3] because [3,2,1] does not\n",
    "have a lexicographical larger rearrangement.\n",
    "\n",
    "Given an array of integers nums, find the next permutation of nums.\n",
    "The replacement must be in place and use only constant extra memory."
   ]
  },
  {
   "cell_type": "code",
   "execution_count": 11,
   "id": "ea8c4930",
   "metadata": {},
   "outputs": [],
   "source": [
    "def next_permutation_2(nums):\n",
    "    n = len(nums)\n",
    "    i = n - 2\n",
    "    while i >= 0 and nums[i] >= nums[i + 1]:\n",
    "        i -= 1\n",
    "    if i < 0:\n",
    "        return\n",
    "\n",
    "    j = n - 1\n",
    "    while nums[j] <= nums[i] or nums[j] <= nums[i + 1]:\n",
    "        j -= 1\n",
    "\n",
    "    nums[i], nums[j] = nums[j], nums[i]\n",
    "    nums[i + 1:] = nums[i + 1:][::-1]\n",
    "\n",
    "##First, it uses a for loop instead of a nested for loop to iterate over the array nums.\n",
    "##This makes the code more concise and easier to read. Second, it uses a condition to check\n",
    "##if the element at index i is less than or equal to the element at index i + 1. \n",
    "##This ensures that the next permutation is found even if the array is not in its \n",
    "##lexicographically largest permutation."
   ]
  },
  {
   "cell_type": "markdown",
   "id": "cf616e53",
   "metadata": {},
   "source": [
    "Question 4\n",
    "Given a sorted array of distinct integers and a target value, return the index if the\n",
    "target is found. If not, return the index where it would be if it were inserted in\n",
    "order.\n",
    "\n",
    "You must write an algorithm with O(log n) runtime complexity."
   ]
  },
  {
   "cell_type": "code",
   "execution_count": 14,
   "id": "2b730eee",
   "metadata": {},
   "outputs": [
    {
     "name": "stdout",
     "output_type": "stream",
     "text": [
      "2\n"
     ]
    }
   ],
   "source": [
    "def binary_search(array, target):\n",
    "    low = 0\n",
    "    high = len(array) - 1\n",
    "\n",
    "    while low <= high:\n",
    "        mid = (low + high) // 2\n",
    "\n",
    "        if array[mid] == target:\n",
    "            return mid\n",
    "        elif array[mid] < target:\n",
    "            low = mid + 1\n",
    "        else:\n",
    "            high = mid - 1\n",
    "\n",
    "    return -1\n",
    "array = [1, 3, 5, 6, 8, 9]\n",
    "\n",
    "target = 5\n",
    "\n",
    "index = binary_search(array, target)\n",
    "\n",
    "print(index)"
   ]
  },
  {
   "cell_type": "markdown",
   "id": "47b25fb8",
   "metadata": {},
   "source": [
    "Question 5\n",
    "You are given a large integer represented as an integer array digits, where each\n",
    "digits[i] is the ith digit of the integer. The digits are ordered from most significant\n",
    "to least significant in left-to-right order. The large integer does not contain any\n",
    "leading 0's.\n",
    "\n",
    "Increment the large integer by one and return the resulting array of digits."
   ]
  },
  {
   "cell_type": "code",
   "execution_count": 22,
   "id": "42288dc5",
   "metadata": {},
   "outputs": [],
   "source": [
    "def increment_integer_2(digits):\n",
    "    result = digits[:]\n",
    "\n",
    "    for i in range(len(digits) - 1, -1, -1):\n",
    "    # Increment the digit.\n",
    "       result[i] += 1\n",
    "\n",
    "    if result[i] >= 10:\n",
    "            result[i] -= 10\n",
    "            result[i - 1] += 1\n",
    "\n",
    "  # If the result array has a leading 1, then remove it.\n",
    "    if result[0] == 0:\n",
    "        result.pop(0)\n",
    "\n",
    "    return result\n"
   ]
  },
  {
   "cell_type": "markdown",
   "id": "f53f5c6e",
   "metadata": {},
   "source": [
    "Qestion 6\n",
    "Given a non-empty array of integers nums, every element appears twice except\n",
    "for one. Find that single one.\n",
    "\n",
    "You must implement a solution with a linear runtime complexity and use only\n",
    "constant extra space"
   ]
  },
  {
   "cell_type": "code",
   "execution_count": 24,
   "id": "9293de03",
   "metadata": {},
   "outputs": [],
   "source": [
    "def find_single_element_2(nums):\n",
    "    result = None\n",
    "\n",
    "    for i in range(1, len(nums)):\n",
    "        if nums[i] != nums[i - 1]:\n",
    "            result = nums[i]\n",
    "\n",
    "  # Return the result.\n",
    "    return result\n"
   ]
  },
  {
   "cell_type": "markdown",
   "id": "e52957ba",
   "metadata": {},
   "source": [
    "Question 7\n",
    "You are given an inclusive range [lower, upper] and a sorted unique integer array\n",
    "nums, where all elements are within the inclusive range.\n",
    "\n",
    "A number x is considered missing if x is in the range [lower, upper] and x is not in\n",
    "nums.\n",
    "\n",
    "Return the shortest sorted list of ranges that exactly covers all the missing\n",
    "numbers. That is, no element of nums is included in any of the ranges, and each\n",
    "missing number is covered by one of the ranges. "
   ]
  },
  {
   "cell_type": "code",
   "execution_count": 25,
   "id": "81da44d7",
   "metadata": {},
   "outputs": [],
   "source": [
    "def findMissingRanges(nums, lower, upper):\n",
    "    ranges = []\n",
    "    start = lower\n",
    "\n",
    "    for num in nums:\n",
    "        if num > start:\n",
    "            ranges.append(formatRange(start, num - 1))\n",
    "            start = num + 1\n",
    "\n",
    "    if start <= upper:\n",
    "        ranges.append(formatRange(start, upper))\n",
    "\n",
    "    return ranges\n",
    "\n",
    "def formatRange(start, end):\n",
    "    if start == end:\n",
    "        return str(start)\n",
    "    else:\n",
    "        return str(start) + \"->\" + str(end)\n"
   ]
  },
  {
   "cell_type": "markdown",
   "id": "eb616aad",
   "metadata": {},
   "source": [
    "💡 **Question 8**\n",
    "Given an array of meeting time intervals where intervals[i] = [starti, endi],\n",
    "determine if a person could attend all meetings.\n",
    "\n",
    "**Example 1:**\n",
    "Input: intervals = [[0,30],[5,10],[15,20]]\n",
    "Output: false\n"
   ]
  },
  {
   "cell_type": "code",
   "execution_count": 26,
   "id": "47095037",
   "metadata": {},
   "outputs": [],
   "source": [
    "def canAttendMeetings(intervals):\n",
    "    sorted_intervals = []\n",
    "    \n",
    "    for interval in intervals:\n",
    "        for sorted_interval in sorted_intervals:\n",
    "            if interval[0] < sorted_interval[1] and interval[1] > sorted_interval[0]:\n",
    "                return False\n",
    "        sorted_intervals.append(interval)\n",
    "\n",
    "    return True\n"
   ]
  }
 ],
 "metadata": {
  "kernelspec": {
   "display_name": "Python 3 (ipykernel)",
   "language": "python",
   "name": "python3"
  },
  "language_info": {
   "codemirror_mode": {
    "name": "ipython",
    "version": 3
   },
   "file_extension": ".py",
   "mimetype": "text/x-python",
   "name": "python",
   "nbconvert_exporter": "python",
   "pygments_lexer": "ipython3",
   "version": "3.10.9"
  }
 },
 "nbformat": 4,
 "nbformat_minor": 5
}
