{
  "nbformat": 4,
  "nbformat_minor": 0,
  "metadata": {
    "colab": {
      "provenance": []
    },
    "kernelspec": {
      "name": "python3",
      "display_name": "Python 3"
    },
    "language_info": {
      "name": "python"
    }
  },
  "cells": [
    {
      "cell_type": "markdown",
      "source": [
        "💡 **Question 1**\n",
        "\n",
        "Given an integer `n`, return *`true` if it is a power of two. Otherwise, return `false`*.\n",
        "\n",
        "An integer `n` is a power of two, if there exists an integer `x` such that `n == 2x`.\n",
        "\n",
        "**Example 1:**\n",
        "Input: n = 1 \n",
        "\n",
        "Output: true\n",
        "\n",
        "**Example 2:**\n",
        "Input: n = 16 \n",
        "\n",
        "Output: true\n",
        "\n",
        "**Example 3:**\n",
        "Input: n = 3 \n",
        "\n",
        "Output: false\n",
        "\n"
      ],
      "metadata": {
        "id": "GPIyypF4pocL"
      }
    },
    {
      "cell_type": "code",
      "execution_count": 1,
      "metadata": {
        "id": "HEZ5ODnhpfeF"
      },
      "outputs": [],
      "source": [
        "def is_power_of_two(n):\n",
        "    return n > 0 and (n & (n - 1)) == 0"
      ]
    },
    {
      "cell_type": "code",
      "source": [
        "n = 1\n",
        "result = is_power_of_two(n)\n",
        "print(result)"
      ],
      "metadata": {
        "colab": {
          "base_uri": "https://localhost:8080/"
        },
        "id": "vgzg0qL9p5O9",
        "outputId": "0bf86e0b-d305-42c6-ea84-f55b378638d5"
      },
      "execution_count": 2,
      "outputs": [
        {
          "output_type": "stream",
          "name": "stdout",
          "text": [
            "True\n"
          ]
        }
      ]
    },
    {
      "cell_type": "code",
      "source": [
        "n = 16\n",
        "result = is_power_of_two(n)\n",
        "print(result)"
      ],
      "metadata": {
        "colab": {
          "base_uri": "https://localhost:8080/"
        },
        "id": "c5TCDd4sp8Ag",
        "outputId": "341a32b4-f51f-49c0-af84-798b4534ead2"
      },
      "execution_count": 3,
      "outputs": [
        {
          "output_type": "stream",
          "name": "stdout",
          "text": [
            "True\n"
          ]
        }
      ]
    },
    {
      "cell_type": "code",
      "source": [
        "n = 3\n",
        "result = is_power_of_two(n)\n",
        "print(result)"
      ],
      "metadata": {
        "colab": {
          "base_uri": "https://localhost:8080/"
        },
        "id": "Yv9vnJqEqElo",
        "outputId": "8058ca47-c704-45dd-b73d-f73fdad954a3"
      },
      "execution_count": 4,
      "outputs": [
        {
          "output_type": "stream",
          "name": "stdout",
          "text": [
            "False\n"
          ]
        }
      ]
    },
    {
      "cell_type": "markdown",
      "source": [
        "💡 **Question 2**\n",
        "\n",
        "Given a number n, find the sum of the first natural numbers.\n",
        "\n",
        "**Example 1:**\n",
        "\n",
        "Input: n = 3 \n",
        "\n",
        "Output: 6\n",
        "\n",
        "**Example 2:**\n",
        "\n",
        "Input  : 5 \n",
        "\n",
        "Output : 15"
      ],
      "metadata": {
        "id": "zZiVn8wyqKb4"
      }
    },
    {
      "cell_type": "code",
      "source": [
        "def calculate_sum(n):\n",
        "    return (n * (n + 1)) // 2"
      ],
      "metadata": {
        "id": "v7qQ7fwmqGXQ"
      },
      "execution_count": 5,
      "outputs": []
    },
    {
      "cell_type": "code",
      "source": [
        "n = 3\n",
        "result = calculate_sum(n)\n",
        "print(result)\n"
      ],
      "metadata": {
        "colab": {
          "base_uri": "https://localhost:8080/"
        },
        "id": "zPb831ZgqNYo",
        "outputId": "6ab41b58-1492-4b1a-9fd2-ba5b62e74f00"
      },
      "execution_count": 6,
      "outputs": [
        {
          "output_type": "stream",
          "name": "stdout",
          "text": [
            "6\n"
          ]
        }
      ]
    },
    {
      "cell_type": "code",
      "source": [
        "n = 5\n",
        "result = calculate_sum(n)\n",
        "print(result)"
      ],
      "metadata": {
        "colab": {
          "base_uri": "https://localhost:8080/"
        },
        "id": "oT5DfIKmqPOA",
        "outputId": "968c9721-453f-4ea8-c26c-36136c79ade2"
      },
      "execution_count": 7,
      "outputs": [
        {
          "output_type": "stream",
          "name": "stdout",
          "text": [
            "15\n"
          ]
        }
      ]
    },
    {
      "cell_type": "markdown",
      "source": [
        "💡 **Question 3**\n",
        "\n",
        "****Given a positive integer, N. Find the factorial of N. \n",
        "\n",
        "**Example 1:**\n",
        "\n",
        "Input: N = 5 \n",
        "\n",
        "Output: 120\n",
        "\n",
        "**Example 2:**\n",
        "\n",
        "Input: N = 4\n",
        "\n",
        "Output: 24"
      ],
      "metadata": {
        "id": "SFD7MD7qqXD6"
      }
    },
    {
      "cell_type": "code",
      "source": [
        "def calculate_factorial(N):\n",
        "    factorial = 1\n",
        "    for num in range(1, N+1):\n",
        "        factorial *= num\n",
        "    return factorial"
      ],
      "metadata": {
        "id": "-YN-A7uvqR5o"
      },
      "execution_count": 8,
      "outputs": []
    },
    {
      "cell_type": "code",
      "source": [
        "N = 5\n",
        "result = calculate_factorial(N)\n",
        "print(result)"
      ],
      "metadata": {
        "colab": {
          "base_uri": "https://localhost:8080/"
        },
        "id": "BugcvYLQqZbg",
        "outputId": "c82df0b3-eb2e-45e9-82cc-6d39228713c0"
      },
      "execution_count": 9,
      "outputs": [
        {
          "output_type": "stream",
          "name": "stdout",
          "text": [
            "120\n"
          ]
        }
      ]
    },
    {
      "cell_type": "code",
      "source": [
        "N = 4\n",
        "result = calculate_factorial(N)\n",
        "print(result)\n"
      ],
      "metadata": {
        "colab": {
          "base_uri": "https://localhost:8080/"
        },
        "id": "xdkJmuf1qb7g",
        "outputId": "5c8f27ef-dfcc-438e-d8ec-66c9b67785a6"
      },
      "execution_count": 10,
      "outputs": [
        {
          "output_type": "stream",
          "name": "stdout",
          "text": [
            "24\n"
          ]
        }
      ]
    },
    {
      "cell_type": "markdown",
      "source": [
        "💡 **Question 4**\n",
        "\n",
        "Given a number N and a power P, the task is to find the exponent of this number raised to the given power, i.e. N^P.\n",
        "\n",
        "**Example 1 :** \n",
        "\n",
        "Input: N = 5, P = 2\n",
        "\n",
        "Output: 25\n",
        "\n",
        "**Example 2 :**\n",
        "Input: N = 2, P = 5\n",
        "\n",
        "Output: 32"
      ],
      "metadata": {
        "id": "RIIJJKfQqj2Q"
      }
    },
    {
      "cell_type": "code",
      "source": [
        "def calculate_exponent(N, P):\n",
        "    result = 1\n",
        "    for _ in range(P):\n",
        "        result *= N\n",
        "    return result"
      ],
      "metadata": {
        "id": "Rk_SwgCqqfXI"
      },
      "execution_count": 11,
      "outputs": []
    },
    {
      "cell_type": "code",
      "source": [
        "N = 5\n",
        "P = 2\n",
        "result = calculate_exponent(N, P)\n",
        "print(result)"
      ],
      "metadata": {
        "colab": {
          "base_uri": "https://localhost:8080/"
        },
        "id": "AWmWrCzIqmRP",
        "outputId": "de9a4774-727d-47eb-d317-6583a3169d37"
      },
      "execution_count": 12,
      "outputs": [
        {
          "output_type": "stream",
          "name": "stdout",
          "text": [
            "25\n"
          ]
        }
      ]
    },
    {
      "cell_type": "code",
      "source": [
        "N = 2\n",
        "P = 5\n",
        "result = calculate_exponent(N, P)\n",
        "print(result)"
      ],
      "metadata": {
        "colab": {
          "base_uri": "https://localhost:8080/"
        },
        "id": "M0CJc5_HqoG4",
        "outputId": "2da10355-5217-43ae-efc2-76a739729b8a"
      },
      "execution_count": 13,
      "outputs": [
        {
          "output_type": "stream",
          "name": "stdout",
          "text": [
            "32\n"
          ]
        }
      ]
    },
    {
      "cell_type": "markdown",
      "source": [
        "💡 **Question 5**\n",
        "\n",
        "Given an array of integers **arr**, the task is to find maximum element of that array using recursion.\n",
        "\n",
        "**Example 1:**\n",
        "\n",
        "Input: arr = {1, 4, 3, -5, -4, 8, 6};\n",
        "Output: 8\n",
        "\n",
        "**Example 2:**\n",
        "\n",
        "Input: arr = {1, 4, 45, 6, 10, -8};\n",
        "Output: 45"
      ],
      "metadata": {
        "id": "L55K625eqwC4"
      }
    },
    {
      "cell_type": "code",
      "source": [
        "def find_max(arr):\n",
        "    # Base case: array contains only one element\n",
        "    if len(arr) == 1:\n",
        "        return arr[0]\n",
        "\n",
        "    mid = len(arr) // 2\n",
        "\n",
        "    # Recursively find maximum of first half\n",
        "    max_first_half = find_max(arr[:mid])\n",
        "\n",
        "    # Recursively find maximum of second half\n",
        "    max_second_half = find_max(arr[mid:])\n",
        "\n",
        "    # Compare the maximums of the two halves\n",
        "    return max(max_first_half, max_second_half)"
      ],
      "metadata": {
        "id": "P_44Mbr7qrTI"
      },
      "execution_count": 14,
      "outputs": []
    },
    {
      "cell_type": "code",
      "source": [
        "arr = [1, 4, 3, -5, -4, 8, 6]\n",
        "result = find_max(arr)\n",
        "print(\"The maximum element is:\", result)"
      ],
      "metadata": {
        "colab": {
          "base_uri": "https://localhost:8080/"
        },
        "id": "DEV-w1RBqygo",
        "outputId": "1f96cdd2-2f1b-41cc-b4e7-23bdda749ef6"
      },
      "execution_count": 15,
      "outputs": [
        {
          "output_type": "stream",
          "name": "stdout",
          "text": [
            "The maximum element is: 8\n"
          ]
        }
      ]
    },
    {
      "cell_type": "code",
      "source": [
        "arr = [1, 4, 45, 6, 10, -8]\n",
        "result = find_max(arr)\n",
        "print(\"The maximum element is:\", result)\n"
      ],
      "metadata": {
        "colab": {
          "base_uri": "https://localhost:8080/"
        },
        "id": "mKCoXM_Xq0vo",
        "outputId": "b07162a5-d28f-4842-b3d5-0dbbdf70622e"
      },
      "execution_count": 16,
      "outputs": [
        {
          "output_type": "stream",
          "name": "stdout",
          "text": [
            "The maximum element is: 45\n"
          ]
        }
      ]
    },
    {
      "cell_type": "markdown",
      "source": [
        "💡 **Question 6**\n",
        "\n",
        "Given first term (a), common difference (d) and a integer N of the Arithmetic Progression series, the task is to find Nth term of the series.\n",
        "\n",
        "**Example 1:**\n",
        "\n",
        "Input : a = 2 d = 1 N = 5\n",
        "Output : 6\n",
        "The 5th term of the series is : 6\n",
        "\n",
        "**Example 2:**\n",
        "\n",
        "Input : a = 5 d = 2 N = 10\n",
        "Output : 23\n",
        "The 10th term of the series is : 23"
      ],
      "metadata": {
        "id": "4KBNrc0krAPP"
      }
    },
    {
      "cell_type": "code",
      "source": [
        "def find_nth_term(a, d, n):\n",
        "    nth_term = a + (n - 1) * d\n",
        "    return nth_term"
      ],
      "metadata": {
        "id": "YwBq-1-Sq41H"
      },
      "execution_count": 18,
      "outputs": []
    },
    {
      "cell_type": "code",
      "source": [
        "a = 2\n",
        "d = 1\n",
        "N = 5\n",
        "result = find_nth_term(a, d, N)\n",
        "print(\"The {}th term of the series is: {}\".format(N, result))"
      ],
      "metadata": {
        "colab": {
          "base_uri": "https://localhost:8080/"
        },
        "id": "Puz2h9YQq9In",
        "outputId": "16f4ea83-e68f-462c-db71-077ccfc8d65c"
      },
      "execution_count": 19,
      "outputs": [
        {
          "output_type": "stream",
          "name": "stdout",
          "text": [
            "The 5th term of the series is: 6\n"
          ]
        }
      ]
    },
    {
      "cell_type": "code",
      "source": [
        "a = 5\n",
        "d = 2\n",
        "N = 10\n",
        "result = find_nth_term(a, d, N)\n",
        "print(\"The {}th term of the series is: {}\".format(N, result))"
      ],
      "metadata": {
        "colab": {
          "base_uri": "https://localhost:8080/"
        },
        "id": "T44FiotXrER4",
        "outputId": "23c0d0ac-2265-44ea-d0af-a4fd01fb2713"
      },
      "execution_count": 20,
      "outputs": [
        {
          "output_type": "stream",
          "name": "stdout",
          "text": [
            "The 10th term of the series is: 23\n"
          ]
        }
      ]
    },
    {
      "cell_type": "markdown",
      "source": [
        "💡 **Question 7**\n",
        "\n",
        "Given a string S, the task is to write a program to print all permutations of a given string.\n",
        "\n",
        "**Example 1:**\n",
        "\n",
        "***Input:***\n",
        "\n",
        "*S = “ABC”*\n",
        "\n",
        "***Output:***\n",
        "\n",
        "*“ABC”, “ACB”, “BAC”, “BCA”, “CBA”, “CAB”*\n",
        "\n",
        "**Example 2:**\n",
        "\n",
        "***Input:***\n",
        "\n",
        "*S = “XY”*\n",
        "\n",
        "***Output:***"
      ],
      "metadata": {
        "id": "25uCUlR1rLeQ"
      }
    },
    {
      "cell_type": "code",
      "source": [
        "def permutations(string):\n",
        "    if len(string) == 1:\n",
        "        return [string]\n",
        "\n",
        "    perms = []  # List to store permutations\n",
        "\n",
        "    for i in range(len(string)):\n",
        "        current_char = string[i]\n",
        "        remaining_chars = string[:i] + string[i+1:]\n",
        "        sub_perms = permutations(remaining_chars)\n",
        "\n",
        "        for perm in sub_perms:\n",
        "            perms.append(current_char + perm)\n",
        "\n",
        "    return perms"
      ],
      "metadata": {
        "id": "P3Fxk8eTrG8n"
      },
      "execution_count": 21,
      "outputs": []
    },
    {
      "cell_type": "code",
      "source": [
        "S = \"ABC\"\n",
        "result = permutations(S)\n",
        "for perm in result:\n",
        "    print(perm)\n"
      ],
      "metadata": {
        "colab": {
          "base_uri": "https://localhost:8080/"
        },
        "id": "ZrFmqo4VrNww",
        "outputId": "b3612083-925a-4254-a4dc-f177d5bc82af"
      },
      "execution_count": 22,
      "outputs": [
        {
          "output_type": "stream",
          "name": "stdout",
          "text": [
            "ABC\n",
            "ACB\n",
            "BAC\n",
            "BCA\n",
            "CAB\n",
            "CBA\n"
          ]
        }
      ]
    },
    {
      "cell_type": "code",
      "source": [
        "S = \"XY\"\n",
        "result = permutations(S)\n",
        "for perm in result:\n",
        "    print(perm)"
      ],
      "metadata": {
        "colab": {
          "base_uri": "https://localhost:8080/"
        },
        "id": "GyoB5YrHrPWI",
        "outputId": "f138d589-344d-46f2-c1e7-fee69d70829c"
      },
      "execution_count": 23,
      "outputs": [
        {
          "output_type": "stream",
          "name": "stdout",
          "text": [
            "XY\n",
            "YX\n"
          ]
        }
      ]
    },
    {
      "cell_type": "markdown",
      "source": [
        " **Question 8**\n",
        "\n",
        "Given an array, find a product of all array elements.\n",
        "\n",
        "**Example 1:**\n",
        "\n",
        "Input  : arr[] = {1, 2, 3, 4, 5}\n",
        "Output : 120\n",
        "**Example 2:**\n",
        "\n",
        "Input  : arr[] = {1, 6, 3}\n",
        "Output : 18"
      ],
      "metadata": {
        "id": "3AfSxPQbrWO4"
      }
    },
    {
      "cell_type": "code",
      "source": [
        "def find_product(arr):\n",
        "    product = 1\n",
        "    for num in arr:\n",
        "        product *= num\n",
        "    return product"
      ],
      "metadata": {
        "id": "OoTqGTu_rR3w"
      },
      "execution_count": 24,
      "outputs": []
    },
    {
      "cell_type": "code",
      "source": [
        "arr = [1, 2, 3, 4, 5]\n",
        "print(find_product(arr))\n"
      ],
      "metadata": {
        "colab": {
          "base_uri": "https://localhost:8080/"
        },
        "id": "HCOp7ue4rYa4",
        "outputId": "4129bc54-142b-4cac-cbeb-bfcec3bd7d1e"
      },
      "execution_count": 25,
      "outputs": [
        {
          "output_type": "stream",
          "name": "stdout",
          "text": [
            "120\n"
          ]
        }
      ]
    },
    {
      "cell_type": "code",
      "source": [
        "arr = [1, 6, 3]\n",
        "print(find_product(arr))"
      ],
      "metadata": {
        "colab": {
          "base_uri": "https://localhost:8080/"
        },
        "id": "BCIyDHYrrZjo",
        "outputId": "0d6bc49d-3a76-47da-f05d-03f846140b48"
      },
      "execution_count": 26,
      "outputs": [
        {
          "output_type": "stream",
          "name": "stdout",
          "text": [
            "18\n"
          ]
        }
      ]
    },
    {
      "cell_type": "code",
      "source": [],
      "metadata": {
        "id": "0ohjoQTqrbEI"
      },
      "execution_count": null,
      "outputs": []
    }
  ]
}