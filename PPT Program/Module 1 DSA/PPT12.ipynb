{
  "nbformat": 4,
  "nbformat_minor": 0,
  "metadata": {
    "colab": {
      "provenance": []
    },
    "kernelspec": {
      "name": "python3",
      "display_name": "Python 3"
    },
    "language_info": {
      "name": "python"
    }
  },
  "cells": [
    {
      "cell_type": "markdown",
      "source": [
        "<aside>\n",
        "💡 **Question 1**\n",
        "\n",
        "Given a singly linked list, delete **middle** of the linked list. For example, if given linked list is 1->2->**3**->4->5 then linked list should be modified to 1->2->4->5.If there are **even** nodes, then there would be **two middle** nodes, we need to delete the second middle element. For example, if given linked list is 1->2->3->4->5->6 then it should be modified to 1->2->3->5->6.If the input linked list is NULL or has 1 node, then it should return NULL\n",
        "\n",
        "**Example 1:**\n",
        "\n",
        "```\n",
        "Input:\n",
        "LinkedList: 1->2->3->4->5\n",
        "Output:1 2 4 5\n",
        "\n",
        "```\n",
        "\n",
        "\n",
        "\n"
      ],
      "metadata": {
        "id": "UCbMqN0byn_7"
      }
    },
    {
      "cell_type": "code",
      "execution_count": 1,
      "metadata": {
        "id": "p-ZKJSskym_7"
      },
      "outputs": [],
      "source": [
        "class Node:\n",
        "    def __init__(self, data):\n",
        "        self.data = data\n",
        "        self.next = None\n",
        "\n",
        "def delete_middle_node(head):\n",
        "    if head is None or head.next is None:\n",
        "        return None\n",
        "\n",
        "    slow_ptr = head\n",
        "    fast_ptr = head\n",
        "    prev_ptr = None\n",
        "\n",
        "    while fast_ptr is not None and fast_ptr.next is not None:\n",
        "        fast_ptr = fast_ptr.next.next\n",
        "        prev_ptr = slow_ptr\n",
        "        slow_ptr = slow_ptr.next\n",
        "\n",
        "    prev_ptr.next = slow_ptr.next\n",
        "\n",
        "    del slow_ptr\n",
        "\n",
        "    return head"
      ]
    },
    {
      "cell_type": "markdown",
      "source": [
        "<aside>\n",
        "💡 **Question 2**\n",
        "\n",
        "Given a linked list of **N** nodes. The task is to check if the linked list has a loop. Linked list can contain self loop.\n",
        "\n",
        "**Example 1:**\n",
        "\n",
        "</aside>\n",
        "Input:\n",
        "N = 3\n",
        "value[] = {1,3,4}\n",
        "x(position at which tail is connected) = 2\n",
        "Output:True\n",
        "Explanation:In above test case N = 3.\n",
        "The linked list with nodes N = 3 is\n",
        "given. Then value of x=2 is given which\n",
        "means last node is connected with xth\n",
        "node of linked list. Therefore, there\n",
        "exists a loop."
      ],
      "metadata": {
        "id": "eCRBS9tuyu-v"
      }
    },
    {
      "cell_type": "code",
      "source": [
        "class Node:\n",
        "    def __init__(self, data):\n",
        "        self.data = data\n",
        "        self.next = None\n",
        "\n",
        "def detect_loop(head):\n",
        "    slow_ptr = head\n",
        "    fast_ptr = head\n",
        "\n",
        "    while fast_ptr is not None and fast_ptr.next is not None:\n",
        "        slow_ptr = slow_ptr.next\n",
        "        fast_ptr = fast_ptr.next.next\n",
        "\n",
        "        if slow_ptr == fast_ptr:\n",
        "            return True\n",
        "\n",
        "    return False"
      ],
      "metadata": {
        "id": "czRE6Gzbyv83"
      },
      "execution_count": 2,
      "outputs": []
    },
    {
      "cell_type": "markdown",
      "source": [
        "<aside>\n",
        "💡 **Question 3**\n",
        "\n",
        "Given a linked list consisting of **L** nodes and given a number **N**. The task is to find the **N**th node from the end of the linked list.\n",
        "\n",
        "**Example 1:**\n",
        "\n",
        "</aside>Input:\n",
        "N = 2\n",
        "LinkedList: 1->2->3->4->5->6->7->8->9\n",
        "Output:8\n",
        "Explanation:In the first example, there\n",
        "are 9 nodes in linked list and we need\n",
        "to find 2nd node from end. 2nd node\n",
        "from end is 8.\n"
      ],
      "metadata": {
        "id": "29J1WoDoy1d4"
      }
    },
    {
      "cell_type": "code",
      "source": [
        "class Node:\n",
        "    def __init__(self, data):\n",
        "        self.data = data\n",
        "        self.next = None\n",
        "\n",
        "def find_nth_from_end(head, N):\n",
        "    first_ptr = head\n",
        "    second_ptr = head\n",
        "\n",
        "    # Move the first pointer N nodes ahead\n",
        "    for _ in range(N):\n",
        "        if first_ptr is None:\n",
        "            return \"Nth node doesn't exist\"\n",
        "        first_ptr = first_ptr.next\n",
        "\n",
        "    # Move both pointers until the first pointer reaches the end\n",
        "    while first_ptr is not None:\n",
        "        first_ptr = first_ptr.next\n",
        "        second_ptr = second_ptr.next\n",
        "\n",
        "    return second_ptr.data"
      ],
      "metadata": {
        "id": "YaNPMtXwy193"
      },
      "execution_count": 3,
      "outputs": []
    },
    {
      "cell_type": "markdown",
      "source": [
        "<aside>\n",
        "💡 **Question 4**\n",
        "\n",
        "Given a singly linked list of characters, write a function that returns true if the given list is a palindrome, else false.\n",
        "\n",
        "</aside>"
      ],
      "metadata": {
        "id": "V33FvQn6zBBo"
      }
    },
    {
      "cell_type": "markdown",
      "source": [
        "![LLdrawio.png](data:image/png;base64,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)"
      ],
      "metadata": {
        "id": "Ojw6KnaLzROH"
      }
    },
    {
      "cell_type": "markdown",
      "source": [
        "\n",
        "\n",
        "\n",
        "**Examples:**\n",
        "\n",
        "> Input: R->A->D->A->R->NULL\n",
        ">\n",
        ">\n",
        "> **Output:** Yes\n",
        ">\n",
        "> **Input:** C->O->D->E->NULL\n",
        ">\n",
        "> **Output:** No\n",
        ">\n",
        "</aside>"
      ],
      "metadata": {
        "id": "gYZPybwR0zUA"
      }
    },
    {
      "cell_type": "code",
      "source": [
        "class Node:\n",
        "    def __init__(self, data):\n",
        "        self.data = data\n",
        "        self.next = None\n",
        "\n",
        "def is_palindrome(head):\n",
        "    stack = []\n",
        "    current = head\n",
        "\n",
        "    # Traverse the linked list and store characters in a stack\n",
        "    while current is not None:\n",
        "        stack.append(current.data)\n",
        "        current = current.next\n",
        "\n",
        "    current = head\n",
        "\n",
        "    # Traverse the linked list again and compare characters with the stack\n",
        "    while current is not None:\n",
        "        if current.data != stack.pop():\n",
        "            return False\n",
        "        current = current.next\n",
        "\n",
        "    return True\n"
      ],
      "metadata": {
        "id": "UV3VhOoUzOwm"
      },
      "execution_count": 8,
      "outputs": []
    },
    {
      "cell_type": "markdown",
      "source": [
        "<aside>\n",
        "💡 **Question 5**\n",
        "\n",
        "Given a linked list of **N** nodes such that it may contain a loop.\n",
        "\n",
        "A loop here means that the last node of the link list is connected to the node at position X(1-based index). If the link list does not have any loop, X=0.\n",
        "\n",
        "Remove the loop from the linked list, if it is present, i.e. unlink the last node which is forming the loop.\n",
        "\n",
        "</aside>\n",
        "Input:\n",
        "N = 3\n",
        "value[] = {1,3,4}\n",
        "X = 2\n",
        "Output:1\n",
        "Explanation:The link list looks like\n",
        "1 -> 3 -> 4\n",
        "     ^    |\n",
        "     |____|\n",
        "A loop is present. If you remove it\n",
        "successfully, the answer will be 1.\n"
      ],
      "metadata": {
        "id": "omYH-Qdk06Oo"
      }
    },
    {
      "cell_type": "markdown",
      "source": [
        "Example 2:\n",
        "```\n",
        "Input:\n",
        "N = 4\n",
        "value[] = {1,8,3,4}\n",
        "X = 0\n",
        "Output:1\n",
        "Explanation:The Linked list does not\n",
        "contains any loop.\n",
        "```"
      ],
      "metadata": {
        "id": "9KMffS0l1Ato"
      }
    },
    {
      "cell_type": "code",
      "source": [
        "class Node:\n",
        "    def __init__(self, data):\n",
        "        self.data = data\n",
        "        self.next = None\n",
        "\n",
        "def detect_and_remove_loop(head):\n",
        "    slow_ptr = head\n",
        "    fast_ptr = head\n",
        "    has_loop = False\n",
        "\n",
        "    # Detect the loop using Floyd's Cycle-Finding Algorithm\n",
        "    while fast_ptr is not None and fast_ptr.next is not None:\n",
        "        slow_ptr = slow_ptr.next\n",
        "        fast_ptr = fast_ptr.next.next\n",
        "\n",
        "        if slow_ptr == fast_ptr:\n",
        "            has_loop = True\n",
        "            break\n",
        "\n",
        "    # If no loop is found, return the original linked list\n",
        "    if not has_loop:\n",
        "        return head\n",
        "\n",
        "    # Move the slow pointer back to the head and keep the fast pointer at the meeting point\n",
        "    slow_ptr = head\n",
        "\n",
        "    # Move both pointers one step at a time until they meet again at the node just before the start of the loop\n",
        "    while slow_ptr.next != fast_ptr.next:\n",
        "        slow_ptr = slow_ptr.next\n",
        "        fast_ptr = fast_ptr.next\n",
        "\n",
        "    # Unlink the last node to remove the loop\n",
        "    fast_ptr.next = None\n",
        "\n",
        "    return head\n"
      ],
      "metadata": {
        "id": "b1vy4RJ509Tn"
      },
      "execution_count": 7,
      "outputs": []
    },
    {
      "cell_type": "markdown",
      "source": [
        "<aside>\n",
        "💡 **Question 6**\n",
        "\n",
        "Given a linked list and two integers M and N. Traverse the linked list such that you retain M nodes then delete next N nodes, continue the same till end of the linked list.\n",
        "\n",
        "Difficulty Level: Rookie\n",
        "\n",
        "**Examples**:\n",
        "\n",
        "\n",
        "```\n",
        "Input:\n",
        "M = 2, N = 2\n",
        "Linked List: 1->2->3->4->5->6->7->8\n",
        "Output:\n",
        "Linked List: 1->2->5->6\n",
        "\n",
        "Input:\n",
        "M = 3, N = 2\n",
        "Linked List: 1->2->3->4->5->6->7->8->9->10\n",
        "Output:\n",
        "Linked List: 1->2->3->6->7->8\n",
        "\n",
        "Input:\n",
        "M = 1, N = 1\n",
        "Linked List: 1->2->3->4->5->6->7->8->9->10\n",
        "Output:\n",
        "Linked List: 1->3->5->7->9\n",
        "```"
      ],
      "metadata": {
        "id": "cJUeX0AN1Hcg"
      }
    },
    {
      "cell_type": "code",
      "source": [
        "class Node:\n",
        "    def __init__(self, data):\n",
        "        self.data = data\n",
        "        self.next = None\n",
        "\n",
        "def delete_m_n(head, M, N):\n",
        "    if M == 0:\n",
        "        return None\n",
        "\n",
        "    current = head\n",
        "\n",
        "    while current is not None:\n",
        "        # Skip M nodes\n",
        "        for _ in range(M - 1):\n",
        "            if current is None:\n",
        "                return head\n",
        "            current = current.next\n",
        "\n",
        "        if current is None:\n",
        "            return head\n",
        "\n",
        "        # Traverse and delete N nodes\n",
        "        temp = current.next\n",
        "        for _ in range(N):\n",
        "            if temp is None:\n",
        "                break\n",
        "            temp = temp.next\n",
        "\n",
        "        current.next = temp\n",
        "\n",
        "        # Continue the traversal\n",
        "        current = temp\n",
        "\n",
        "    return head\n"
      ],
      "metadata": {
        "id": "sBjEOK4C1KwH"
      },
      "execution_count": 6,
      "outputs": []
    },
    {
      "cell_type": "markdown",
      "source": [
        "<aside>\n",
        "💡 **Question 7**\n",
        "\n",
        "Given two linked lists, insert nodes of second list into first list at alternate positions of first list.\n",
        "For example, if first list is 5->7->17->13->11 and second is 12->10->2->4->6, the first list should become 5->12->7->10->17->2->13->4->11->6 and second list should become empty. The nodes of second list should only be inserted when there are positions available. For example, if the first list is 1->2->3 and second list is 4->5->6->7->8, then first list should become 1->4->2->5->3->6 and second list to 7->8.\n",
        "\n",
        "Use of extra space is not allowed (Not allowed to create additional nodes), i.e., insertion must be done in-place. Expected time complexity is O(n) where n is number of nodes in first list.\n",
        "\n"
      ],
      "metadata": {
        "id": "3YIpHOug1TMn"
      }
    },
    {
      "cell_type": "code",
      "source": [
        "class Node:\n",
        "    def __init__(self, data):\n",
        "        self.data = data\n",
        "        self.next = None\n",
        "\n",
        "def merge_alternate(head1, head2):\n",
        "    if head1 is None:\n",
        "        return head2\n",
        "\n",
        "    current1 = head1\n",
        "    current2 = head2\n",
        "\n",
        "    while current1 is not None and current2 is not None:\n",
        "        next1 = current1.next\n",
        "        next2 = current2.next\n",
        "\n",
        "        current1.next = current2\n",
        "        current2.next = next1\n",
        "\n",
        "        current1 = next1\n",
        "        current2 = next2\n",
        "\n",
        "    if current2 is not None:\n",
        "        current1.next = current2\n",
        "\n",
        "    return head1\n"
      ],
      "metadata": {
        "id": "JNczpDy91VLf"
      },
      "execution_count": 4,
      "outputs": []
    },
    {
      "cell_type": "markdown",
      "source": [
        "<aside>\n",
        "💡 **Question 8**\n",
        "\n",
        "Given a singly linked list, find if the linked list is [circular](https://www.geeksforgeeks.org/circular-linked-list/amp/) or not.\n",
        "\n",
        "> A linked list is called circular if it is not NULL-terminated and all nodes are connected in the form of a cycle. Below is an example of a circular linked list.\n",
        ">\n",
        "</aside>"
      ],
      "metadata": {
        "id": "sq2OOSYn1XZg"
      }
    },
    {
      "cell_type": "code",
      "source": [
        "class Node:\n",
        "    def __init__(self, data):\n",
        "        self.data = data\n",
        "        self.next = None\n",
        "\n",
        "def is_circular(head):\n",
        "    if head is None:\n",
        "        return False\n",
        "\n",
        "    slow_ptr = head\n",
        "    fast_ptr = head\n",
        "\n",
        "    while fast_ptr is not None and fast_ptr.next is not None:\n",
        "        slow_ptr = slow_ptr.next\n",
        "        fast_ptr = fast_ptr.next.next\n",
        "\n",
        "        if slow_ptr == fast_ptr:\n",
        "            return True\n",
        "\n",
        "    return False\n"
      ],
      "metadata": {
        "id": "CXx0117d1ZVI"
      },
      "execution_count": 5,
      "outputs": []
    }
  ]
}