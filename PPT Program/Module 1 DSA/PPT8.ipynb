{
  "nbformat": 4,
  "nbformat_minor": 0,
  "metadata": {
    "colab": {
      "provenance": []
    },
    "kernelspec": {
      "name": "python3",
      "display_name": "Python 3"
    },
    "language_info": {
      "name": "python"
    }
  },
  "cells": [
    {
      "cell_type": "markdown",
      "source": [
        "💡 **Question 1**\n",
        "\n",
        "Given two strings s1 and s2, return *the lowest **ASCII** sum of deleted characters to make two strings equal*.\n",
        "\n",
        "**Example 1:**\n",
        "\n",
        "**Input:** s1 = \"sea\", s2 = \"eat\"\n",
        "\n",
        "**Output:** 231\n",
        "\n",
        "**Explanation:** Deleting \"s\" from \"sea\" adds the ASCII value of \"s\" (115) to the sum.\n",
        "\n",
        "Deleting \"t\" from \"eat\" adds 116 to the sum.\n",
        "\n",
        "At the end, both strings are equal, and 115 + 116 = 231 is the minimum sum possible to achieve this."
      ],
      "metadata": {
        "id": "TvKqGQhLGBYb"
      }
    },
    {
      "cell_type": "code",
      "source": [
        "def minimumDeleteSum(s1, s2):\n",
        "    m, n = len(s1), len(s2)\n",
        "    dp = [[0] * (n + 1) for _ in range(m + 1)]\n",
        "\n",
        "    for i in range(1, m + 1):\n",
        "        dp[i][0] = dp[i-1][0] + ord(s1[i-1])\n",
        "\n",
        "    for j in range(1, n + 1):\n",
        "        dp[0][j] = dp[0][j-1] + ord(s2[j-1])\n",
        "\n",
        "    for i in range(1, m + 1):\n",
        "        for j in range(1, n + 1):\n",
        "            if s1[i-1] == s2[j-1]:\n",
        "                dp[i][j] = dp[i-1][j-1]\n",
        "            else:\n",
        "                dp[i][j] = min(dp[i-1][j] + ord(s1[i-1]), dp[i][j-1] + ord(s2[j-1]))\n",
        "\n",
        "    return dp[m][n]\n",
        "\n",
        "s1 = \"sea\"\n",
        "s2 = \"eat\"\n",
        "print(minimumDeleteSum(s1, s2))  # Output: 231"
      ],
      "metadata": {
        "colab": {
          "base_uri": "https://localhost:8080/"
        },
        "id": "Y6QFRxzCGDtK",
        "outputId": "3a9a4f27-9b83-477f-ab9a-80937e39ee93"
      },
      "execution_count": 22,
      "outputs": [
        {
          "output_type": "stream",
          "name": "stdout",
          "text": [
            "231\n"
          ]
        }
      ]
    },
    {
      "cell_type": "markdown",
      "source": [
        "💡 **Question 2**\n",
        "\n",
        "Given a string s containing only three types of characters: '(', ')' and '*', return true *if* s *is **valid***.\n",
        "\n",
        "The following rules define a **valid** string:\n",
        "\n",
        "- Any left parenthesis '(' must have a corresponding right parenthesis ')'.\n",
        "- Any right parenthesis ')' must have a corresponding left parenthesis '('.\n",
        "- Left parenthesis '(' must go before the corresponding right parenthesis ')'.\n",
        "- '*' could be treated as a single right parenthesis ')' or a single left parenthesis '(' or an empty string \"\".\n",
        "\n",
        "**Example 1:**\n",
        "\n",
        "**Input:** s = \"()\"\n",
        "\n",
        "**Output:**\n",
        "\n",
        "true"
      ],
      "metadata": {
        "id": "ilt56kpIGFBi"
      }
    },
    {
      "cell_type": "code",
      "source": [
        "def isValidString(s):\n",
        "    stack = []\n",
        "\n",
        "    for c in s:\n",
        "        if c == '(' or c == '*':\n",
        "            stack.append(c)\n",
        "        elif c == ')':\n",
        "            if not stack:\n",
        "                return False\n",
        "            elif stack[-1] == '(':\n",
        "                stack.pop()\n",
        "            elif '*' in stack:\n",
        "                stack.pop(stack.index('*'))\n",
        "                stack.pop(stack.index('('))\n",
        "\n",
        "    while stack:\n",
        "        if stack.pop() != '(':\n",
        "            return False\n",
        "\n",
        "    return True\n",
        "\n",
        "s = \"()\"\n",
        "print(isValidString(s))  # Output: True"
      ],
      "metadata": {
        "colab": {
          "base_uri": "https://localhost:8080/"
        },
        "id": "aKiuNvdjGQAx",
        "outputId": "2a9e259c-30a3-431d-b440-202aacf33a4b"
      },
      "execution_count": 24,
      "outputs": [
        {
          "output_type": "stream",
          "name": "stdout",
          "text": [
            "True\n"
          ]
        }
      ]
    },
    {
      "cell_type": "markdown",
      "source": [
        "💡 **Question 3**\n",
        "\n",
        "Given two strings word1 and word2, return *the minimum number of **steps** required to make* word1 *and* word2 *the same*.\n",
        "\n",
        "In one **step**, you can delete exactly one character in either string.\n",
        "\n",
        "**Example 1:**\n",
        "\n",
        "**Input:** word1 = \"sea\", word2 = \"eat\"\n",
        "\n",
        "**Output:** 2\n",
        "\n",
        "**Explanation:** You need one step to make \"sea\" to \"ea\" and another step to make \"eat\" to \"ea\"."
      ],
      "metadata": {
        "id": "Icp-xpYKHEwq"
      }
    },
    {
      "cell_type": "code",
      "source": [
        "def minStepsToDelete(word1, word2):\n",
        "    m, n = len(word1), len(word2)\n",
        "    dp = [[0] * (n + 1) for _ in range(m + 1)]\n",
        "\n",
        "    for i in range(1, m + 1):\n",
        "        dp[i][0] = i\n",
        "\n",
        "    for j in range(1, n + 1):\n",
        "        dp[0][j] = j\n",
        "\n",
        "    for i in range(1, m + 1):\n",
        "        for j in range(1, n + 1):\n",
        "            if word1[i-1] == word2[j-1]:\n",
        "                dp[i][j] = dp[i-1][j-1]\n",
        "            else:\n",
        "                dp[i][j] = min(dp[i-1][j] + 1, dp[i][j-1] + 1)\n",
        "\n",
        "    return dp[m][n]\n",
        "word1 = \"sea\"\n",
        "word2 = \"eat\"\n",
        "print(minStepsToDelete(word1, word2))  # Output: 2"
      ],
      "metadata": {
        "colab": {
          "base_uri": "https://localhost:8080/"
        },
        "id": "aRMKB70PHJME",
        "outputId": "528897a0-5938-4126-90a8-32ac95019c6c"
      },
      "execution_count": 25,
      "outputs": [
        {
          "output_type": "stream",
          "name": "stdout",
          "text": [
            "2\n"
          ]
        }
      ]
    },
    {
      "cell_type": "markdown",
      "source": [
        "💡 Question 5\n",
        "\n",
        "Given an array of characters chars, compress it using the following algorithm:\n",
        "\n",
        "Begin with an empty string s. For each group of consecutive repeating characters in chars:\n",
        "\n",
        "If the group's length is 1, append the character to s.\n",
        "Otherwise, append the character followed by the group's length.\n",
        "The compressed string s should not be returned separately, but instead, be stored in the input character array chars. Note that group lengths that are 10 or longer will be split into multiple characters in chars.\n",
        "\n",
        "After you are done modifying the input array, return the new length of the array.\n",
        "\n",
        "You must write an algorithm that uses only constant extra space.\n",
        "\n",
        "Example 1:\n",
        "\n",
        "Input: chars = [\"a\",\"a\",\"b\",\"b\",\"c\",\"c\",\"c\"]\n",
        "\n",
        "Output: Return 6, and the first 6 characters of the input array should be: [\"a\",\"2\",\"b\",\"2\",\"c\",\"3\"]\n",
        "\n",
        "Explanation:\n",
        "\n",
        "The groups are \"aa\", \"bb\", and \"ccc\". This compresses to \"a2b2c3\"."
      ],
      "metadata": {
        "id": "pJs54aRRJB5S"
      }
    },
    {
      "cell_type": "code",
      "source": [
        "def compress(chars):\n",
        "    writeIndex = 0\n",
        "    count = 1\n",
        "\n",
        "    for i in range(1, len(chars) + 1):\n",
        "        if i < len(chars) and chars[i] == chars[i - 1]:\n",
        "            count += 1\n",
        "        else:\n",
        "            chars[writeIndex] = chars[i - 1]\n",
        "            writeIndex += 1\n",
        "\n",
        "            if count > 1:\n",
        "                countStr = str(count)\n",
        "                for j in range(len(countStr)):\n",
        "                    chars[writeIndex] = countStr[j]\n",
        "                    writeIndex += 1\n",
        "\n",
        "            count = 1\n",
        "\n",
        "    return writeIndex\n",
        "chars = [\"a\", \"a\", \"b\", \"b\", \"c\", \"c\", \"c\"]\n",
        "compressedLength = compress(chars)\n",
        "print(compressedLength)  # Output: 6\n",
        "print(chars[:compressedLength])  # Output: [\"a\", \"2\", \"b\", \"2\", \"c\", \"3\"]"
      ],
      "metadata": {
        "colab": {
          "base_uri": "https://localhost:8080/"
        },
        "id": "jiOlFPYwGfch",
        "outputId": "7a1e3683-bb65-445c-d67a-bdc78d853b99"
      },
      "execution_count": 28,
      "outputs": [
        {
          "output_type": "stream",
          "name": "stdout",
          "text": [
            "6\n",
            "['a', '2', 'b', '2', 'c', '3']\n"
          ]
        }
      ]
    },
    {
      "cell_type": "markdown",
      "source": [],
      "metadata": {
        "id": "MBB7uWJYI1pa"
      }
    },
    {
      "cell_type": "markdown",
      "source": [
        "💡 **Question 6**\n",
        "\n",
        "Given two strings s and p, return *an array of all the start indices of* p*'s anagrams in* s. You may return the answer in **any order**.\n",
        "\n",
        "An **Anagram** is a word or phrase formed by rearranging the letters of a different word or phrase, typically using all the original letters exactly once.\n",
        "\n",
        "**Example 1:**\n",
        "\n",
        "**Input:** s = \"cbaebabacd\", p = \"abc\"\n",
        "\n",
        "**Output:** [0,6]\n",
        "\n",
        "**Explanation:**\n",
        "\n",
        "The substring with start index = 0 is \"cba\", which is an anagram of \"abc\".\n",
        "\n",
        "The substring with start index = 6 is \"bac\", which is an anagram of \"abc\".\n",
        "\n"
      ],
      "metadata": {
        "id": "uGpZcG-_Gh7B"
      }
    },
    {
      "cell_type": "code",
      "source": [
        "def decodeString(s):\n",
        "    stack = []\n",
        "\n",
        "    for c in s:\n",
        "        if c != ']':\n",
        "            stack.append(c)\n",
        "        else:\n",
        "            sub = \"\"\n",
        "            while stack[-1] != '[':\n",
        "                sub = stack.pop() + sub\n",
        "\n",
        "            stack.pop()  # Remove '['\n",
        "\n",
        "            num = \"\"\n",
        "            while stack and stack[-1].isdigit():\n",
        "                num = stack.pop() + num\n",
        "\n",
        "            count = int(num)\n",
        "            repeated_sub = sub * count\n",
        "            stack.append(repeated_sub)\n",
        "\n",
        "    decoded_string = \"\".join(stack)\n",
        "    return decoded_string\n",
        "s = \"3[a]2[bc]\"\n",
        "decoded = decodeString(s)\n",
        "print(decoded)  # Output: \"aaabcbc\""
      ],
      "metadata": {
        "colab": {
          "base_uri": "https://localhost:8080/"
        },
        "id": "FLHGcoVTGq1B",
        "outputId": "9ef80251-b56c-45c5-e4ef-731340a4c728"
      },
      "execution_count": 30,
      "outputs": [
        {
          "output_type": "stream",
          "name": "stdout",
          "text": [
            "aaabcbc\n"
          ]
        }
      ]
    },
    {
      "cell_type": "markdown",
      "source": [
        "💡 **Question 8**\n",
        "\n",
        "Given two strings s and goal, return true *if you can swap two letters in* s *so the result is equal to* goal*, otherwise, return* false*.*\n",
        "\n",
        "Swapping letters is defined as taking two indices i and j (0-indexed) such that i != j and swapping the characters at s[i] and s[j].\n",
        "\n",
        "- For example, swapping at indices 0 and 2 in \"abcd\" results in \"cbad\".\n",
        "\n",
        "**Example 1:**\n",
        "\n",
        "**Input:** s = \"ab\", goal = \"ba\"\n",
        "\n",
        "**Output:** true\n",
        "\n",
        "**Explanation:** You can swap s[0] = 'a' and s[1] = 'b' to get \"ba\", which is equal to goal."
      ],
      "metadata": {
        "id": "p9U5f0oWGs-6"
      }
    },
    {
      "cell_type": "code",
      "source": [
        "def buddyStrings(s, goal):\n",
        "    if len(s) != len(goal):\n",
        "        return False\n",
        "\n",
        "    diff_s = []\n",
        "    diff_goal = []\n",
        "\n",
        "    for i in range(len(s)):\n",
        "        if s[i] != goal[i]:\n",
        "            diff_s.append((s[i], i))\n",
        "            diff_goal.append((goal[i], i))\n",
        "\n",
        "    if len(diff_s) != 2 or diff_s[0] != diff_goal[1] or diff_s[1] != diff_goal[0]:\n",
        "        return False\n",
        "\n",
        "    return True\n",
        "s = \"ab\"\n",
        "goal = \"ba\"\n",
        "result = buddyStrings(s, goal)\n",
        "print(result)  # Output: True"
      ],
      "metadata": {
        "colab": {
          "base_uri": "https://localhost:8080/"
        },
        "id": "eFacytbwGvxJ",
        "outputId": "c871877a-0f00-4339-fbe4-fb5072c22311"
      },
      "execution_count": 31,
      "outputs": [
        {
          "output_type": "stream",
          "name": "stdout",
          "text": [
            "False\n"
          ]
        }
      ]
    },
    {
      "cell_type": "code",
      "source": [],
      "metadata": {
        "id": "RuLg2aMwJyty"
      },
      "execution_count": null,
      "outputs": []
    }
  ]
}