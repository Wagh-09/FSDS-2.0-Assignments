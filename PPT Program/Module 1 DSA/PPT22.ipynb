{
 "cells": [
  {
   "cell_type": "markdown",
   "metadata": {
    "id": "AbnVb0T8NjMA"
   },
   "source": [
    "<aside>\n",
    "💡 Question-1:\n",
    "\n",
    "Given a Binary Tree (Bt), convert it to a Doubly Linked List(DLL). The left and right pointers in nodes are to be used as previous and next pointers respectively in converted DLL. The order of nodes in DLL must be the same as in Inorder for the given Binary Tree. The first node of Inorder traversal (leftmost node in BT) must be the head node of the DLL.\n",
    "\n",
    "Example:\n",
    "\n",
    "</aside>"
   ]
  },
  {
   "cell_type": "code",
   "execution_count": 5,
   "metadata": {
    "colab": {
     "base_uri": "https://localhost:8080/"
    },
    "id": "QQT1sI6CNkSL",
    "outputId": "590366b9-f7d3-42a2-a783-7751f914f8a8"
   },
   "outputs": [
    {
     "name": "stdout",
     "output_type": "stream",
     "text": [
      "Doubly Linked List:\n",
      "1 2 3 4 5 "
     ]
    }
   ],
   "source": [
    "class TreeNode:\n",
    "    def __init__(self, val):\n",
    "        self.val = val\n",
    "        self.left = None\n",
    "        self.right = None\n",
    "\n",
    "class DoublyLinkedListNode:\n",
    "    def __init__(self, val):\n",
    "        self.val = val\n",
    "        self.prev = None\n",
    "        self.next = None\n",
    "\n",
    "def binaryTreeToDLL(root):\n",
    "    if root is None:\n",
    "        return None\n",
    "\n",
    "    # Initialize previous and head as None\n",
    "    prev = None\n",
    "    head = None\n",
    "\n",
    "    def convertToDLL(node):\n",
    "        nonlocal prev, head\n",
    "\n",
    "        if node is None:\n",
    "            return\n",
    "\n",
    "        # Recursively convert the left subtree\n",
    "        convertToDLL(node.left)\n",
    "\n",
    "        # Create a new DLL node with the current node's value\n",
    "        newNode = DoublyLinkedListNode(node.val)\n",
    "\n",
    "        # Set the previous pointer of the new node\n",
    "        newNode.prev = prev\n",
    "\n",
    "        if prev:\n",
    "            # If previous exists, set its next pointer to the new node\n",
    "            prev.next = newNode\n",
    "        else:\n",
    "            # Otherwise, set the head as the new node\n",
    "            head = newNode\n",
    "\n",
    "        # Update the previous pointer to the new node\n",
    "        prev = newNode\n",
    "\n",
    "        # Recursively convert the right subtree\n",
    "        convertToDLL(node.right)\n",
    "\n",
    "    # Convert the binary tree to DLL\n",
    "    convertToDLL(root)\n",
    "\n",
    "    return head\n",
    "\n",
    "\n",
    "# Example usage:\n",
    "\n",
    "# Create the binary tree\n",
    "root = TreeNode(4)\n",
    "root.left = TreeNode(2)\n",
    "root.right = TreeNode(5)\n",
    "root.left.left = TreeNode(1)\n",
    "root.left.right = TreeNode(3)\n",
    "\n",
    "# Convert the binary tree to DLL\n",
    "head = binaryTreeToDLL(root)\n",
    "\n",
    "# Print the DLL\n",
    "def printDLL(head):\n",
    "    current = head\n",
    "    while current:\n",
    "        print(current.val, end=\" \")\n",
    "        current = current.next\n",
    "\n",
    "print(\"Doubly Linked List:\")\n",
    "printDLL(head)"
   ]
  },
  {
   "cell_type": "markdown",
   "metadata": {
    "id": "EoJOqISzNXL-"
   },
   "source": [
    "<aside>\n",
    "💡 Question-2\n",
    "\n",
    "A Given a binary tree, the task is to flip the binary tree towards the right direction that is clockwise. See the below examples to see the transformation.\n",
    "\n",
    "In the flip operation, the leftmost node becomes the root of the flipped tree and its parent becomes its right child and the right sibling becomes its left child and the same should be done for all left most nodes recursively.\n",
    "\n",
    "</aside>"
   ]
  },
  {
   "cell_type": "code",
   "execution_count": 1,
   "metadata": {
    "colab": {
     "base_uri": "https://localhost:8080/"
    },
    "id": "B2DHithPNRiJ",
    "outputId": "0f19fc95-3fed-4a52-b1a3-c76bfa7a98f4"
   },
   "outputs": [
    {
     "name": "stdout",
     "output_type": "stream",
     "text": [
      "Flipped binary tree:\n",
      "4 5 2 3 1 "
     ]
    }
   ],
   "source": [
    "class TreeNode:\n",
    "    def __init__(self, val):\n",
    "        self.val = val\n",
    "        self.left = None\n",
    "        self.right = None\n",
    "\n",
    "def flipBinaryTree(root):\n",
    "    if root is None or (root.left is None and root.right is None):\n",
    "        return root\n",
    "\n",
    "    flippedRoot = flipBinaryTree(root.left)\n",
    "\n",
    "    root.left.left = root.right\n",
    "    root.left.right = root\n",
    "\n",
    "    root.left = None\n",
    "    root.right = None\n",
    "\n",
    "    return flippedRoot\n",
    "\n",
    "\n",
    "# Example usage:\n",
    "\n",
    "# Create the binary tree\n",
    "root = TreeNode(1)\n",
    "root.left = TreeNode(2)\n",
    "root.right = TreeNode(3)\n",
    "root.left.left = TreeNode(4)\n",
    "root.left.right = TreeNode(5)\n",
    "\n",
    "# Flip the binary tree\n",
    "flippedRoot = flipBinaryTree(root)\n",
    "\n",
    "# Print the flipped binary tree\n",
    "def printBinaryTree(root):\n",
    "    if root is None:\n",
    "        return\n",
    "\n",
    "    print(root.val, end=\" \")\n",
    "    printBinaryTree(root.left)\n",
    "    printBinaryTree(root.right)\n",
    "\n",
    "print(\"Flipped binary tree:\")\n",
    "printBinaryTree(flippedRoot)"
   ]
  },
  {
   "cell_type": "markdown",
   "metadata": {
    "id": "KcnkeySuN1db"
   },
   "source": [
    "<aside>\n",
    "💡 Question-3:\n",
    "\n",
    "Given a binary tree, print all its root-to-leaf paths without using recursion. For example, consider the following Binary Tree.\n",
    "\n",
    "Input:\n",
    "\n",
    "        6\n",
    "     /    \\\n",
    "    3      5\n",
    "  /   \\     \\\n",
    " 2     5     4\n",
    "     /   \\\n",
    "    7     4\n",
    "\n",
    "Output:\n",
    "\n",
    "There are 4 leaves, hence 4 root to leaf paths -\n",
    "  6->3->2\n",
    "  6->3->5->7\n",
    "  6->3->5->4\n",
    "  6->5>4\n",
    "\n",
    "</aside>"
   ]
  },
  {
   "cell_type": "code",
   "execution_count": 6,
   "metadata": {
    "colab": {
     "base_uri": "https://localhost:8080/"
    },
    "id": "aWNVQylkN166",
    "outputId": "5a575766-eb63-4f62-a6a5-a357a6ab12ce"
   },
   "outputs": [
    {
     "name": "stdout",
     "output_type": "stream",
     "text": [
      "Root-to-leaf paths:\n",
      "6->3->2\n",
      "6->3->5\n",
      "6->5->4\n",
      "6->5->7\n"
     ]
    }
   ],
   "source": [
    "class TreeNode:\n",
    "    def __init__(self, val):\n",
    "        self.val = val\n",
    "        self.left = None\n",
    "        self.right = None\n",
    "\n",
    "def printRootToLeafPaths(root):\n",
    "    if root is None:\n",
    "        return\n",
    "\n",
    "    # Create an empty stack to perform iterative DFS\n",
    "    stack = [(root, str(root.val))]\n",
    "\n",
    "    # Perform iterative DFS\n",
    "    while stack:\n",
    "        node, path = stack.pop()\n",
    "\n",
    "        # If the current node is a leaf, print the path\n",
    "        if node.left is None and node.right is None:\n",
    "            print(path)\n",
    "\n",
    "        # Push the right child into the stack if it exists\n",
    "        if node.right:\n",
    "            stack.append((node.right, path + \"->\" + str(node.right.val)))\n",
    "\n",
    "        # Push the left child into the stack if it exists\n",
    "        if node.left:\n",
    "            stack.append((node.left, path + \"->\" + str(node.left.val)))\n",
    "\n",
    "\n",
    "# Example usage:\n",
    "\n",
    "# Create the binary tree\n",
    "root = TreeNode(6)\n",
    "root.left = TreeNode(3)\n",
    "root.right = TreeNode(5)\n",
    "root.left.left = TreeNode(2)\n",
    "root.left.right = TreeNode(5)\n",
    "root.right.left = TreeNode(4)\n",
    "root.right.right = TreeNode(7)\n",
    "\n",
    "# Print all root-to-leaf paths\n",
    "print(\"Root-to-leaf paths:\")\n",
    "printRootToLeafPaths(root)"
   ]
  },
  {
   "cell_type": "markdown",
   "metadata": {
    "id": "zdjAjapTN5xy"
   },
   "source": [
    "<aside>\n",
    "💡 Question-4:\n",
    "\n",
    "Given Preorder, Inorder and Postorder traversals of some tree. Write a program to check if they all are of the same tree.\n",
    "\n",
    "**Examples:**\n",
    "\n",
    "Input :\n",
    "\n",
    "        Inorder -> 4 2 5 1 3\n",
    "        Preorder -> 1 2 4 5 3\n",
    "        Postorder -> 4 5 2 3 1\n",
    "Output :\n",
    "\n",
    "Yes\n",
    "Explanation :\n",
    "\n",
    "All of the above three traversals are of\n",
    "the same tree\n",
    "\n",
    "                           1\n",
    "                         /   \\\n",
    "                        2     3\n",
    "                      /   \\\n",
    "                     4     5\n",
    "\n",
    "Input :\n",
    "\n",
    "        Inorder -> 4 2 5 1 3\n",
    "        Preorder -> 1 5 4 2 3\n",
    "        Postorder -> 4 1 2 3 5\n",
    "Output :\n",
    "\n",
    "No\n",
    "\n",
    "</aside>"
   ]
  },
  {
   "cell_type": "code",
   "execution_count": 7,
   "metadata": {
    "colab": {
     "base_uri": "https://localhost:8080/"
    },
    "id": "DoAg80g_N6PS",
    "outputId": "6956c1d2-ee19-4863-e1e5-afe55cf486a6"
   },
   "outputs": [
    {
     "name": "stdout",
     "output_type": "stream",
     "text": [
      "Output: Yes\n",
      "Output: No\n"
     ]
    }
   ],
   "source": [
    "def isSameTree(inorder, preorder, postorder):\n",
    "    if len(inorder) == len(preorder) == len(postorder) == 0:\n",
    "        return True\n",
    "\n",
    "    if len(inorder) != len(preorder) or len(inorder) != len(postorder):\n",
    "        return False\n",
    "\n",
    "    if set(inorder) != set(preorder) or set(inorder) != set(postorder):\n",
    "        return False\n",
    "\n",
    "    if len(inorder) == 1 and inorder[0] == preorder[0] == postorder[0]:\n",
    "        return True\n",
    "\n",
    "    root = preorder[0]\n",
    "    root_index = inorder.index(root)\n",
    "\n",
    "    left_inorder = inorder[:root_index]\n",
    "    right_inorder = inorder[root_index + 1:]\n",
    "\n",
    "    left_preorder = preorder[1:1 + len(left_inorder)]\n",
    "    right_preorder = preorder[1 + len(left_inorder):]\n",
    "\n",
    "    left_postorder = postorder[:len(left_inorder)]\n",
    "    right_postorder = postorder[len(left_inorder):-1]\n",
    "\n",
    "    return isSameTree(left_inorder, left_preorder, left_postorder) and \\\n",
    "           isSameTree(right_inorder, right_preorder, right_postorder)\n",
    "\n",
    "\n",
    "# Example usage:\n",
    "\n",
    "inorder = [4, 2, 5, 1, 3]\n",
    "preorder = [1, 2, 4, 5, 3]\n",
    "postorder = [4, 5, 2, 3, 1]\n",
    "print(\"Output:\", \"Yes\" if isSameTree(inorder, preorder, postorder) else \"No\")\n",
    "\n",
    "inorder = [4, 2, 5, 1, 3]\n",
    "preorder = [1, 5, 4, 2, 3]\n",
    "postorder = [4, 1, 2, 3, 5]\n",
    "print(\"Output:\", \"Yes\" if isSameTree(inorder, preorder, postorder) else \"No\")"
   ]
  },
  {
   "cell_type": "code",
   "execution_count": null,
   "metadata": {
    "id": "KLkTENcVO_mr"
   },
   "outputs": [],
   "source": []
  }
 ],
 "metadata": {
  "colab": {
   "provenance": []
  },
  "kernelspec": {
   "display_name": "Python 3 (ipykernel)",
   "language": "python",
   "name": "python3"
  },
  "language_info": {
   "codemirror_mode": {
    "name": "ipython",
    "version": 3
   },
   "file_extension": ".py",
   "mimetype": "text/x-python",
   "name": "python",
   "nbconvert_exporter": "python",
   "pygments_lexer": "ipython3",
   "version": "3.9.7"
  }
 },
 "nbformat": 4,
 "nbformat_minor": 1
}
